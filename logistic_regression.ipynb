{
 "cells": [
  {
   "cell_type": "markdown",
   "metadata": {},
   "source": [
    "# objective :\n",
    "<br>1. Applying logistic regression to classify the amazon food reviews.\n",
    "<br>2. Check for different types of scoring metrics\n",
    "<br>3. Getting the important features.\n",
    "<br>4. checking for multicollinearity"
   ]
  },
  {
   "cell_type": "code",
   "execution_count": 1,
   "metadata": {},
   "outputs": [
    {
     "name": "stderr",
     "output_type": "stream",
     "text": [
      "C:\\Users\\himateja\\Anaconda3\\lib\\site-packages\\sklearn\\cross_validation.py:41: DeprecationWarning: This module was deprecated in version 0.18 in favor of the model_selection module into which all the refactored classes and functions are moved. Also note that the interface of the new CV iterators are different from that of this module. This module will be removed in 0.20.\n",
      "  \"This module will be removed in 0.20.\", DeprecationWarning)\n"
     ]
    }
   ],
   "source": [
    "#importing all module\n",
    "import sqlite3 as s\n",
    "import pandas as pd\n",
    "import matplotlib.pyplot as plt\n",
    "import seaborn as sns\n",
    "import numpy as np\n",
    "from sklearn import preprocessing\n",
    "from sklearn.model_selection import train_test_split\n",
    "from sklearn.cross_validation import cross_val_score\n",
    "from sklearn.metrics import accuracy_score\n",
    "from sklearn.model_selection import GridSearchCV\n",
    "from sklearn.model_selection import TimeSeriesSplit\n",
    "from sklearn.metrics import confusion_matrix\n",
    "\n",
    "\n",
    "from scipy.sparse import find\n",
    "\n",
    "#importing the needed module\n",
    "from sklearn.model_selection import RandomizedSearchCV\n",
    "from scipy.stats import randint\n",
    "\n",
    "from sklearn.feature_extraction.text import CountVectorizer\n",
    "from sklearn import preprocessing\n",
    "\n",
    "#importing the needed module\n",
    "from sklearn.linear_model import LogisticRegression\n",
    "from sklearn.metrics import f1_score,make_scorer\n",
    "from sklearn.metrics import recall_score\n",
    "from sklearn.metrics import precision_score"
   ]
  },
  {
   "cell_type": "code",
   "execution_count": 2,
   "metadata": {},
   "outputs": [
    {
     "data": {
      "text/plain": [
       "<sqlite3.Connection at 0x28c53616b90>"
      ]
     },
     "execution_count": 2,
     "metadata": {},
     "output_type": "execute_result"
    }
   ],
   "source": [
    "con=s.connect(\"database.sqlite\")\n",
    "con"
   ]
  },
  {
   "cell_type": "code",
   "execution_count": 3,
   "metadata": {},
   "outputs": [
    {
     "data": {
      "text/html": [
       "<div>\n",
       "<style scoped>\n",
       "    .dataframe tbody tr th:only-of-type {\n",
       "        vertical-align: middle;\n",
       "    }\n",
       "\n",
       "    .dataframe tbody tr th {\n",
       "        vertical-align: top;\n",
       "    }\n",
       "\n",
       "    .dataframe thead th {\n",
       "        text-align: right;\n",
       "    }\n",
       "</style>\n",
       "<table border=\"1\" class=\"dataframe\">\n",
       "  <thead>\n",
       "    <tr style=\"text-align: right;\">\n",
       "      <th></th>\n",
       "      <th>Id</th>\n",
       "      <th>ProductId</th>\n",
       "      <th>UserId</th>\n",
       "      <th>ProfileName</th>\n",
       "      <th>HelpfulnessNumerator</th>\n",
       "      <th>HelpfulnessDenominator</th>\n",
       "      <th>Score</th>\n",
       "      <th>Time</th>\n",
       "      <th>Summary</th>\n",
       "      <th>Text</th>\n",
       "    </tr>\n",
       "  </thead>\n",
       "  <tbody>\n",
       "    <tr>\n",
       "      <th>0</th>\n",
       "      <td>1</td>\n",
       "      <td>B001E4KFG0</td>\n",
       "      <td>A3SGXH7AUHU8GW</td>\n",
       "      <td>delmartian</td>\n",
       "      <td>1</td>\n",
       "      <td>1</td>\n",
       "      <td>5</td>\n",
       "      <td>1303862400</td>\n",
       "      <td>Good Quality Dog Food</td>\n",
       "      <td>I have bought several of the Vitality canned d...</td>\n",
       "    </tr>\n",
       "    <tr>\n",
       "      <th>1</th>\n",
       "      <td>2</td>\n",
       "      <td>B00813GRG4</td>\n",
       "      <td>A1D87F6ZCVE5NK</td>\n",
       "      <td>dll pa</td>\n",
       "      <td>0</td>\n",
       "      <td>0</td>\n",
       "      <td>1</td>\n",
       "      <td>1346976000</td>\n",
       "      <td>Not as Advertised</td>\n",
       "      <td>Product arrived labeled as Jumbo Salted Peanut...</td>\n",
       "    </tr>\n",
       "    <tr>\n",
       "      <th>2</th>\n",
       "      <td>3</td>\n",
       "      <td>B000LQOCH0</td>\n",
       "      <td>ABXLMWJIXXAIN</td>\n",
       "      <td>Natalia Corres \"Natalia Corres\"</td>\n",
       "      <td>1</td>\n",
       "      <td>1</td>\n",
       "      <td>4</td>\n",
       "      <td>1219017600</td>\n",
       "      <td>\"Delight\" says it all</td>\n",
       "      <td>This is a confection that has been around a fe...</td>\n",
       "    </tr>\n",
       "    <tr>\n",
       "      <th>3</th>\n",
       "      <td>4</td>\n",
       "      <td>B000UA0QIQ</td>\n",
       "      <td>A395BORC6FGVXV</td>\n",
       "      <td>Karl</td>\n",
       "      <td>3</td>\n",
       "      <td>3</td>\n",
       "      <td>2</td>\n",
       "      <td>1307923200</td>\n",
       "      <td>Cough Medicine</td>\n",
       "      <td>If you are looking for the secret ingredient i...</td>\n",
       "    </tr>\n",
       "    <tr>\n",
       "      <th>4</th>\n",
       "      <td>5</td>\n",
       "      <td>B006K2ZZ7K</td>\n",
       "      <td>A1UQRSCLF8GW1T</td>\n",
       "      <td>Michael D. Bigham \"M. Wassir\"</td>\n",
       "      <td>0</td>\n",
       "      <td>0</td>\n",
       "      <td>5</td>\n",
       "      <td>1350777600</td>\n",
       "      <td>Great taffy</td>\n",
       "      <td>Great taffy at a great price.  There was a wid...</td>\n",
       "    </tr>\n",
       "  </tbody>\n",
       "</table>\n",
       "</div>"
      ],
      "text/plain": [
       "   Id   ProductId          UserId                      ProfileName  \\\n",
       "0   1  B001E4KFG0  A3SGXH7AUHU8GW                       delmartian   \n",
       "1   2  B00813GRG4  A1D87F6ZCVE5NK                           dll pa   \n",
       "2   3  B000LQOCH0   ABXLMWJIXXAIN  Natalia Corres \"Natalia Corres\"   \n",
       "3   4  B000UA0QIQ  A395BORC6FGVXV                             Karl   \n",
       "4   5  B006K2ZZ7K  A1UQRSCLF8GW1T    Michael D. Bigham \"M. Wassir\"   \n",
       "\n",
       "   HelpfulnessNumerator  HelpfulnessDenominator  Score        Time  \\\n",
       "0                     1                       1      5  1303862400   \n",
       "1                     0                       0      1  1346976000   \n",
       "2                     1                       1      4  1219017600   \n",
       "3                     3                       3      2  1307923200   \n",
       "4                     0                       0      5  1350777600   \n",
       "\n",
       "                 Summary                                               Text  \n",
       "0  Good Quality Dog Food  I have bought several of the Vitality canned d...  \n",
       "1      Not as Advertised  Product arrived labeled as Jumbo Salted Peanut...  \n",
       "2  \"Delight\" says it all  This is a confection that has been around a fe...  \n",
       "3         Cough Medicine  If you are looking for the secret ingredient i...  \n",
       "4            Great taffy  Great taffy at a great price.  There was a wid...  "
      ]
     },
     "execution_count": 3,
     "metadata": {},
     "output_type": "execute_result"
    }
   ],
   "source": [
    "data=pd.read_sql_query(\"SELECT * FROM Reviews WHERE Score!=3\",con)\n",
    "data.head(5)"
   ]
  },
  {
   "cell_type": "code",
   "execution_count": 4,
   "metadata": {},
   "outputs": [],
   "source": [
    "#function to change the score to positive/negative\n",
    "def change(x):\n",
    "    if x<3:\n",
    "        return 'negative'\n",
    "    else:\n",
    "        return 'positive'"
   ]
  },
  {
   "cell_type": "code",
   "execution_count": 5,
   "metadata": {},
   "outputs": [
    {
     "data": {
      "text/plain": [
       "0    positive\n",
       "1    negative\n",
       "2    positive\n",
       "3    negative\n",
       "4    positive\n",
       "Name: Score, dtype: object"
      ]
     },
     "execution_count": 5,
     "metadata": {},
     "output_type": "execute_result"
    }
   ],
   "source": [
    "a_s=data.Score\n",
    "a_s=a_s.map(change)\n",
    "data.Score=a_s\n",
    "data.Score.head(5)"
   ]
  },
  {
   "cell_type": "markdown",
   "metadata": {},
   "source": [
    "# Data cleaning"
   ]
  },
  {
   "cell_type": "markdown",
   "metadata": {},
   "source": [
    "The data needs to get clean as it may have some unwanted things such as duplicates."
   ]
  },
  {
   "cell_type": "code",
   "execution_count": 6,
   "metadata": {},
   "outputs": [],
   "source": [
    "#sorting the values by product ids\n",
    "data=data.sort_values(\"ProductId\")"
   ]
  },
  {
   "cell_type": "code",
   "execution_count": 7,
   "metadata": {},
   "outputs": [],
   "source": [
    "#removing the duplicates from the data\n",
    "final_data=data.drop_duplicates(subset={\"UserId\",\"Text\",\"ProfileName\",\"Time\"},keep=\"first\",inplace=False)"
   ]
  },
  {
   "cell_type": "code",
   "execution_count": 8,
   "metadata": {},
   "outputs": [],
   "source": [
    "final_data=final_data[final_data['HelpfulnessNumerator']<=final_data['HelpfulnessDenominator']]"
   ]
  },
  {
   "cell_type": "code",
   "execution_count": 9,
   "metadata": {},
   "outputs": [
    {
     "name": "stdout",
     "output_type": "stream",
     "text": [
      "(364171, 10)\n",
      "positive    307061\n",
      "negative     57110\n",
      "Name: Score, dtype: int64\n"
     ]
    }
   ],
   "source": [
    "print(final_data.shape)\n",
    "print(final_data.Score.value_counts())"
   ]
  },
  {
   "cell_type": "code",
   "execution_count": 10,
   "metadata": {},
   "outputs": [],
   "source": [
    "p_data=final_data[final_data.Score==\"positive\"]\n",
    "n_data=final_data[final_data.Score==\"negative\"]"
   ]
  },
  {
   "cell_type": "code",
   "execution_count": 11,
   "metadata": {},
   "outputs": [],
   "source": [
    "#randomly selecting points\n",
    "p_data_w2v=p_data.sample(150000)\n",
    "n_data_w2v=n_data.sample(12000)"
   ]
  },
  {
   "cell_type": "code",
   "execution_count": 12,
   "metadata": {},
   "outputs": [
    {
     "name": "stdout",
     "output_type": "stream",
     "text": [
      "(307061, 10) (57110, 10)\n"
     ]
    }
   ],
   "source": [
    "print(p_data.shape,n_data.shape)"
   ]
  },
  {
   "cell_type": "code",
   "execution_count": 13,
   "metadata": {},
   "outputs": [],
   "source": [
    "d=pd.concat((p_data,n_data))\n",
    "d_w2v=pd.concat((p_data_w2v,n_data_w2v))"
   ]
  },
  {
   "cell_type": "code",
   "execution_count": 14,
   "metadata": {},
   "outputs": [
    {
     "name": "stdout",
     "output_type": "stream",
     "text": [
      "(364171, 10)\n"
     ]
    }
   ],
   "source": [
    "print(d.shape)"
   ]
  },
  {
   "cell_type": "code",
   "execution_count": 15,
   "metadata": {},
   "outputs": [],
   "source": [
    "#sorting according to time stamp\n",
    "d=d.sort_values('Time')\n",
    "d_w2v=d_w2v.sort_values('Time')"
   ]
  },
  {
   "cell_type": "code",
   "execution_count": 16,
   "metadata": {},
   "outputs": [
    {
     "name": "stdout",
     "output_type": "stream",
     "text": [
      "positive    307061\n",
      "negative     57110\n",
      "Name: Score, dtype: int64\n",
      "positive    150000\n",
      "negative     12000\n",
      "Name: Score, dtype: int64\n"
     ]
    }
   ],
   "source": [
    "print(d.Score.value_counts())\n",
    "print(d_w2v.Score.value_counts())"
   ]
  },
  {
   "cell_type": "markdown",
   "metadata": {},
   "source": [
    "# Data preprocessing"
   ]
  },
  {
   "cell_type": "markdown",
   "metadata": {},
   "source": [
    "The data should be preprocessed after cleaning it"
   ]
  },
  {
   "cell_type": "code",
   "execution_count": 17,
   "metadata": {},
   "outputs": [],
   "source": [
    "import string \n",
    "from nltk.corpus import stopwords\n",
    "from nltk.stem import SnowballStemmer\n",
    "import re"
   ]
  },
  {
   "cell_type": "code",
   "execution_count": 18,
   "metadata": {},
   "outputs": [
    {
     "name": "stdout",
     "output_type": "stream",
     "text": [
      "{\"you've\", 'no', \"should've\", \"didn't\", 'shan', 'because', 'now', \"doesn't\", 'until', \"shan't\", \"couldn't\", 'hers', \"haven't\", 'will', 'myself', 'again', 'from', 'hadn', 'once', \"you're\", 'that', 'do', 'so', 'on', 'nor', 'itself', 'such', 'themselves', 'doing', 'while', 'your', 'what', 'how', 'their', 'if', 'he', 'any', 'all', 'ma', \"it's\", 'here', 'is', 'mightn', 'about', 'up', 'why', 'between', 'into', 'its', 'but', 'ourselves', \"needn't\", 'were', 'isn', 'y', \"you'd\", 'can', 'it', 'during', 'and', 'them', 'above', 'own', 'had', 'more', 'too', 's', 'just', 'don', \"hasn't\", 'ours', 'herself', 'off', 'an', \"shouldn't\", 'with', 'this', 'mustn', 'these', \"she's\", 'him', 'wouldn', 'down', 'only', 'wasn', 'further', 've', 'other', 'of', 'does', 'same', 'ain', 'himself', 'a', 'she', 'for', 'or', 'yourself', 'haven', 'they', 'needn', 'at', 'didn', 'yours', 'than', 'd', \"won't\", 'out', 'yourselves', 'each', 'few', 're', \"isn't\", 'where', 'm', 'won', 'the', 'am', 'being', 'which', 'against', 'to', 'there', \"wasn't\", 'shouldn', 'have', \"aren't\", 'those', 'aren', 'should', 'are', 'in', 'some', \"don't\", 'been', 'couldn', \"you'll\", 'her', 'was', 'his', 'when', 'll', 'theirs', 'has', 'i', \"weren't\", 'you', 'both', \"mustn't\", 'before', 'below', 'under', 'very', \"that'll\", 'weren', 'we', \"wouldn't\", 'by', \"mightn't\", 'o', 'me', \"hadn't\", 'my', 'be', 'not', 'who', 't', 'our', 'as', 'over', 'having', 'did', 'through', 'after', 'then', 'most', 'hasn', 'doesn', 'whom'}\n"
     ]
    }
   ],
   "source": [
    "#stopwords\n",
    "stop_words=set(stopwords.words(\"english\"))\n",
    "#initializing snowball stemmer\n",
    "sno=SnowballStemmer(\"english\")\n",
    "print(stop_words)"
   ]
  },
  {
   "cell_type": "code",
   "execution_count": 19,
   "metadata": {},
   "outputs": [],
   "source": [
    "#function to remove html tags\n",
    "def cleanhtml(s):\n",
    "    cleanr=re.compile(\"<.*?>\")\n",
    "    cleant=re.sub(cleanr,\" \",s)\n",
    "    return cleant"
   ]
  },
  {
   "cell_type": "code",
   "execution_count": 20,
   "metadata": {},
   "outputs": [],
   "source": [
    "#funtion to remove punctuation and special character\n",
    "def cleanpunc(s): \n",
    "    cleaned = re.sub(r'[?|!|\\'|\"|#]',r'',s)\n",
    "    cleaned = re.sub(r'[.|,|)|(|\\|/]',r' ',cleaned)\n",
    "    return  cleaned\n"
   ]
  },
  {
   "cell_type": "code",
   "execution_count": 21,
   "metadata": {},
   "outputs": [],
   "source": [
    "i=0\n",
    "final=[]\n",
    "\n",
    "for s in d.Text.values:\n",
    "    f=[]\n",
    "    c=cleanhtml(s)\n",
    "    for w in cleanpunc(c).split():\n",
    "        if w.isalpha() and len(w)>2:\n",
    "            if w not in stop_words:\n",
    "                sne=(sno.stem(w.lower())).encode('utf-8')\n",
    "                f.append(sne)\n",
    "               \n",
    "            else:\n",
    "                continue\n",
    "        else:\n",
    "            continue\n",
    "    te=b\" \".join(f)\n",
    "    final.append(te)\n",
    "    i+=1"
   ]
  },
  {
   "cell_type": "code",
   "execution_count": 22,
   "metadata": {},
   "outputs": [
    {
     "data": {
      "text/html": [
       "<div>\n",
       "<style scoped>\n",
       "    .dataframe tbody tr th:only-of-type {\n",
       "        vertical-align: middle;\n",
       "    }\n",
       "\n",
       "    .dataframe tbody tr th {\n",
       "        vertical-align: top;\n",
       "    }\n",
       "\n",
       "    .dataframe thead th {\n",
       "        text-align: right;\n",
       "    }\n",
       "</style>\n",
       "<table border=\"1\" class=\"dataframe\">\n",
       "  <thead>\n",
       "    <tr style=\"text-align: right;\">\n",
       "      <th></th>\n",
       "      <th>Id</th>\n",
       "      <th>ProductId</th>\n",
       "      <th>UserId</th>\n",
       "      <th>ProfileName</th>\n",
       "      <th>HelpfulnessNumerator</th>\n",
       "      <th>HelpfulnessDenominator</th>\n",
       "      <th>Score</th>\n",
       "      <th>Time</th>\n",
       "      <th>Summary</th>\n",
       "      <th>Text</th>\n",
       "      <th>cleaned</th>\n",
       "    </tr>\n",
       "  </thead>\n",
       "  <tbody>\n",
       "    <tr>\n",
       "      <th>138706</th>\n",
       "      <td>150524</td>\n",
       "      <td>0006641040</td>\n",
       "      <td>ACITT7DI6IDDL</td>\n",
       "      <td>shari zychinski</td>\n",
       "      <td>0</td>\n",
       "      <td>0</td>\n",
       "      <td>positive</td>\n",
       "      <td>939340800</td>\n",
       "      <td>EVERY book is educational</td>\n",
       "      <td>this witty little book makes my son laugh at l...</td>\n",
       "      <td>b'witti littl book make son laugh loud recit c...</td>\n",
       "    </tr>\n",
       "    <tr>\n",
       "      <th>138683</th>\n",
       "      <td>150501</td>\n",
       "      <td>0006641040</td>\n",
       "      <td>AJ46FKXOVC7NR</td>\n",
       "      <td>Nicholas A Mesiano</td>\n",
       "      <td>2</td>\n",
       "      <td>2</td>\n",
       "      <td>positive</td>\n",
       "      <td>940809600</td>\n",
       "      <td>This whole series is great way to spend time w...</td>\n",
       "      <td>I can remember seeing the show when it aired o...</td>\n",
       "      <td>b'rememb see show air televis year ago child s...</td>\n",
       "    </tr>\n",
       "    <tr>\n",
       "      <th>417839</th>\n",
       "      <td>451856</td>\n",
       "      <td>B00004CXX9</td>\n",
       "      <td>AIUWLEQ1ADEG5</td>\n",
       "      <td>Elizabeth Medina</td>\n",
       "      <td>0</td>\n",
       "      <td>0</td>\n",
       "      <td>positive</td>\n",
       "      <td>944092800</td>\n",
       "      <td>Entertainingl Funny!</td>\n",
       "      <td>Beetlejuice is a well written movie ..... ever...</td>\n",
       "      <td>b'beetlejuic well written movi everyth excel f...</td>\n",
       "    </tr>\n",
       "    <tr>\n",
       "      <th>346055</th>\n",
       "      <td>374359</td>\n",
       "      <td>B00004CI84</td>\n",
       "      <td>A344SMIA5JECGM</td>\n",
       "      <td>Vincent P. Ross</td>\n",
       "      <td>1</td>\n",
       "      <td>2</td>\n",
       "      <td>positive</td>\n",
       "      <td>944438400</td>\n",
       "      <td>A modern day fairy tale</td>\n",
       "      <td>A twist of rumplestiskin captured on film, sta...</td>\n",
       "      <td>b'twist rumplestiskin captur film star michael...</td>\n",
       "    </tr>\n",
       "    <tr>\n",
       "      <th>417838</th>\n",
       "      <td>451855</td>\n",
       "      <td>B00004CXX9</td>\n",
       "      <td>AJH6LUC1UT1ON</td>\n",
       "      <td>The Phantom of the Opera</td>\n",
       "      <td>0</td>\n",
       "      <td>0</td>\n",
       "      <td>positive</td>\n",
       "      <td>946857600</td>\n",
       "      <td>FANTASTIC!</td>\n",
       "      <td>Beetlejuice is an excellent and funny movie. K...</td>\n",
       "      <td>b'beetlejuic excel funni movi keaton hilari wa...</td>\n",
       "    </tr>\n",
       "    <tr>\n",
       "      <th>346116</th>\n",
       "      <td>374422</td>\n",
       "      <td>B00004CI84</td>\n",
       "      <td>A1048CYU0OV4O8</td>\n",
       "      <td>Judy L. Eans</td>\n",
       "      <td>2</td>\n",
       "      <td>2</td>\n",
       "      <td>positive</td>\n",
       "      <td>947376000</td>\n",
       "      <td>GREAT</td>\n",
       "      <td>THIS IS ONE MOVIE THAT SHOULD BE IN YOUR MOVIE...</td>\n",
       "      <td>b'this one movi that should your movi collect ...</td>\n",
       "    </tr>\n",
       "    <tr>\n",
       "      <th>346041</th>\n",
       "      <td>374343</td>\n",
       "      <td>B00004CI84</td>\n",
       "      <td>A1B2IZU1JLZA6</td>\n",
       "      <td>Wes</td>\n",
       "      <td>19</td>\n",
       "      <td>23</td>\n",
       "      <td>negative</td>\n",
       "      <td>948240000</td>\n",
       "      <td>WARNING: CLAMSHELL EDITION IS EDITED TV VERSION</td>\n",
       "      <td>I, myself always enjoyed this movie, it's very...</td>\n",
       "      <td>b'alway enjoy movi funni entertain didnt hesit...</td>\n",
       "    </tr>\n",
       "    <tr>\n",
       "      <th>70688</th>\n",
       "      <td>76882</td>\n",
       "      <td>B00002N8SM</td>\n",
       "      <td>A32DW342WBJ6BX</td>\n",
       "      <td>Buttersugar</td>\n",
       "      <td>0</td>\n",
       "      <td>0</td>\n",
       "      <td>positive</td>\n",
       "      <td>948672000</td>\n",
       "      <td>A sure death for flies</td>\n",
       "      <td>I bought a few of these after my apartment was...</td>\n",
       "      <td>b'bought apart infest fruit fli after hour tra...</td>\n",
       "    </tr>\n",
       "    <tr>\n",
       "      <th>346141</th>\n",
       "      <td>374450</td>\n",
       "      <td>B00004CI84</td>\n",
       "      <td>ACJR7EQF9S6FP</td>\n",
       "      <td>Jeremy Robertson</td>\n",
       "      <td>2</td>\n",
       "      <td>3</td>\n",
       "      <td>positive</td>\n",
       "      <td>951523200</td>\n",
       "      <td>Bettlejuice...Bettlejuice...BETTLEJUICE!</td>\n",
       "      <td>What happens when you say his name three times...</td>\n",
       "      <td>b'what happen say name three time michael keat...</td>\n",
       "    </tr>\n",
       "    <tr>\n",
       "      <th>346094</th>\n",
       "      <td>374400</td>\n",
       "      <td>B00004CI84</td>\n",
       "      <td>A2DEE7F9XKP3ZR</td>\n",
       "      <td>jerome</td>\n",
       "      <td>0</td>\n",
       "      <td>3</td>\n",
       "      <td>positive</td>\n",
       "      <td>959990400</td>\n",
       "      <td>Research - Beatlejuice video - French version</td>\n",
       "      <td>I'm getting crazy.I'm looking for Beatlejuice ...</td>\n",
       "      <td>b'get crazi look beatlejuic french version vid...</td>\n",
       "    </tr>\n",
       "    <tr>\n",
       "      <th>417883</th>\n",
       "      <td>451903</td>\n",
       "      <td>B00004CXX9</td>\n",
       "      <td>A2DEE7F9XKP3ZR</td>\n",
       "      <td>jerome</td>\n",
       "      <td>0</td>\n",
       "      <td>1</td>\n",
       "      <td>positive</td>\n",
       "      <td>959990400</td>\n",
       "      <td>Research</td>\n",
       "      <td>I'm getting crazy.&lt;p&gt;Is it really impossible t...</td>\n",
       "      <td>b'get crazi realli imposs today find french vh...</td>\n",
       "    </tr>\n",
       "    <tr>\n",
       "      <th>1146</th>\n",
       "      <td>1245</td>\n",
       "      <td>B00002Z754</td>\n",
       "      <td>A29Z5PI9BW2PU3</td>\n",
       "      <td>Robbie</td>\n",
       "      <td>7</td>\n",
       "      <td>7</td>\n",
       "      <td>positive</td>\n",
       "      <td>961718400</td>\n",
       "      <td>Great Product</td>\n",
       "      <td>This was a really good idea and the final prod...</td>\n",
       "      <td>b'this realli good idea final product outstand...</td>\n",
       "    </tr>\n",
       "    <tr>\n",
       "      <th>1145</th>\n",
       "      <td>1244</td>\n",
       "      <td>B00002Z754</td>\n",
       "      <td>A3B8RCEI0FXFI6</td>\n",
       "      <td>B G Chase</td>\n",
       "      <td>10</td>\n",
       "      <td>10</td>\n",
       "      <td>positive</td>\n",
       "      <td>962236800</td>\n",
       "      <td>WOW Make your own 'slickers' !</td>\n",
       "      <td>I just received my shipment and could hardly w...</td>\n",
       "      <td>b'receiv shipment could hard wait tri product ...</td>\n",
       "    </tr>\n",
       "    <tr>\n",
       "      <th>121041</th>\n",
       "      <td>131217</td>\n",
       "      <td>B00004RAMX</td>\n",
       "      <td>A5NQLNC6QPGSI</td>\n",
       "      <td>Kim Nason</td>\n",
       "      <td>7</td>\n",
       "      <td>8</td>\n",
       "      <td>positive</td>\n",
       "      <td>965001600</td>\n",
       "      <td>End your Gopher Problems</td>\n",
       "      <td>I have just recently purchased the Woodstream ...</td>\n",
       "      <td>b'recent purchas woodstream corp gopher trap w...</td>\n",
       "    </tr>\n",
       "    <tr>\n",
       "      <th>138001</th>\n",
       "      <td>149770</td>\n",
       "      <td>B00004S1C5</td>\n",
       "      <td>A1KXONFPU2XQ5K</td>\n",
       "      <td>Stephanie Manley</td>\n",
       "      <td>8</td>\n",
       "      <td>8</td>\n",
       "      <td>positive</td>\n",
       "      <td>965779200</td>\n",
       "      <td>Very easy to use</td>\n",
       "      <td>This are so much easier to use than the Wilson...</td>\n",
       "      <td>b'this much easier use wilson past color color...</td>\n",
       "    </tr>\n",
       "    <tr>\n",
       "      <th>138017</th>\n",
       "      <td>149789</td>\n",
       "      <td>B00004S1C6</td>\n",
       "      <td>A1KXONFPU2XQ5K</td>\n",
       "      <td>Stephanie Manley</td>\n",
       "      <td>26</td>\n",
       "      <td>28</td>\n",
       "      <td>positive</td>\n",
       "      <td>965779200</td>\n",
       "      <td>A must have!</td>\n",
       "      <td>These are easy to use, they do not make a mess...</td>\n",
       "      <td>b'these easi use make mess offer vibrant color...</td>\n",
       "    </tr>\n",
       "    <tr>\n",
       "      <th>346115</th>\n",
       "      <td>374421</td>\n",
       "      <td>B00004CI84</td>\n",
       "      <td>A1FJOY14X3MUHE</td>\n",
       "      <td>Justin Howard</td>\n",
       "      <td>2</td>\n",
       "      <td>2</td>\n",
       "      <td>positive</td>\n",
       "      <td>966297600</td>\n",
       "      <td>A fresh, original film from master storyteller...</td>\n",
       "      <td>This is such a great film, I don't even know h...</td>\n",
       "      <td>b'this great film dont even know sum first com...</td>\n",
       "    </tr>\n",
       "    <tr>\n",
       "      <th>346102</th>\n",
       "      <td>374408</td>\n",
       "      <td>B00004CI84</td>\n",
       "      <td>A1GB1Q193DNFGR</td>\n",
       "      <td>Bruce Lee Pullen</td>\n",
       "      <td>5</td>\n",
       "      <td>5</td>\n",
       "      <td>positive</td>\n",
       "      <td>970531200</td>\n",
       "      <td>Fabulous Comedic Fanasy Directed by a Master</td>\n",
       "      <td>Beetlejuice is an awe-inspiring wonderfully am...</td>\n",
       "      <td>b'beetlejuic wonder amus comed romp explor inc...</td>\n",
       "    </tr>\n",
       "    <tr>\n",
       "      <th>138000</th>\n",
       "      <td>149768</td>\n",
       "      <td>B00004S1C5</td>\n",
       "      <td>A7P76IGRZZBFJ</td>\n",
       "      <td>E. Thompson \"Soooooper Genius\"</td>\n",
       "      <td>18</td>\n",
       "      <td>18</td>\n",
       "      <td>positive</td>\n",
       "      <td>975974400</td>\n",
       "      <td>Who Needs Wilton?</td>\n",
       "      <td>I'm sick of scads of nasty toothpicks all over...</td>\n",
       "      <td>b'sick scad nasti toothpick counter tint conce...</td>\n",
       "    </tr>\n",
       "    <tr>\n",
       "      <th>346078</th>\n",
       "      <td>374383</td>\n",
       "      <td>B00004CI84</td>\n",
       "      <td>A34NBH479RB0E</td>\n",
       "      <td>\"dmab6395\"</td>\n",
       "      <td>0</td>\n",
       "      <td>1</td>\n",
       "      <td>positive</td>\n",
       "      <td>977184000</td>\n",
       "      <td>FUNNY</td>\n",
       "      <td>I THOUGHT THIS MOVIE WAS SO FUNNY, MICHAEL KEA...</td>\n",
       "      <td>b'thought this movi was funni michael keaton b...</td>\n",
       "    </tr>\n",
       "    <tr>\n",
       "      <th>346054</th>\n",
       "      <td>374358</td>\n",
       "      <td>B00004CI84</td>\n",
       "      <td>A1HWMNSQF14MP8</td>\n",
       "      <td>will@socialaw.com</td>\n",
       "      <td>1</td>\n",
       "      <td>2</td>\n",
       "      <td>positive</td>\n",
       "      <td>978134400</td>\n",
       "      <td>A Afterlife Success</td>\n",
       "      <td>Many movies, have dealt with the figure of dea...</td>\n",
       "      <td>b'mani movi dealt figur death dead good angel ...</td>\n",
       "    </tr>\n",
       "    <tr>\n",
       "      <th>138018</th>\n",
       "      <td>149790</td>\n",
       "      <td>B00004S1C6</td>\n",
       "      <td>A1IU7S4HCK1XK0</td>\n",
       "      <td>Joanna Daneman</td>\n",
       "      <td>25</td>\n",
       "      <td>27</td>\n",
       "      <td>positive</td>\n",
       "      <td>982800000</td>\n",
       "      <td>Make your own Martha Stewart style cakes and c...</td>\n",
       "      <td>I don't know why anyone would ever use those l...</td>\n",
       "      <td>b'dont know anyon would ever use littl liquid ...</td>\n",
       "    </tr>\n",
       "    <tr>\n",
       "      <th>417901</th>\n",
       "      <td>451923</td>\n",
       "      <td>B00004CXX9</td>\n",
       "      <td>ANIMV3SPDD8SH</td>\n",
       "      <td>Guy De Federicis</td>\n",
       "      <td>1</td>\n",
       "      <td>12</td>\n",
       "      <td>negative</td>\n",
       "      <td>992217600</td>\n",
       "      <td>CASPER IS THE GHOST WITH THE MOST</td>\n",
       "      <td>Michael Keaton brings no distinguishing charac...</td>\n",
       "      <td>b'michael keaton bring distinguish characteris...</td>\n",
       "    </tr>\n",
       "    <tr>\n",
       "      <th>346037</th>\n",
       "      <td>374339</td>\n",
       "      <td>B00004CI84</td>\n",
       "      <td>AZRJH4JFB59VC</td>\n",
       "      <td>Lynwood E. Hines</td>\n",
       "      <td>21</td>\n",
       "      <td>23</td>\n",
       "      <td>negative</td>\n",
       "      <td>997228800</td>\n",
       "      <td>Great movie, terrible DVD</td>\n",
       "      <td>I am continually amazed at the shoddy treatmen...</td>\n",
       "      <td>b'continu amaz shoddi treatment movi get dvd r...</td>\n",
       "    </tr>\n",
       "    <tr>\n",
       "      <th>346140</th>\n",
       "      <td>374449</td>\n",
       "      <td>B00004CI84</td>\n",
       "      <td>A3K3YJWV0N54ZO</td>\n",
       "      <td>Joey</td>\n",
       "      <td>2</td>\n",
       "      <td>3</td>\n",
       "      <td>positive</td>\n",
       "      <td>1001289600</td>\n",
       "      <td>Beetlejuice is a greatmovie, but they cheated ...</td>\n",
       "      <td>Just to warn you. when in trying to trick you ...</td>\n",
       "      <td>b'just warn tri trick widescreen format compan...</td>\n",
       "    </tr>\n",
       "    <tr>\n",
       "      <th>138020</th>\n",
       "      <td>149792</td>\n",
       "      <td>B00004S1C6</td>\n",
       "      <td>A3B5QJVM1TLYJG</td>\n",
       "      <td>Dan Crevier</td>\n",
       "      <td>11</td>\n",
       "      <td>12</td>\n",
       "      <td>positive</td>\n",
       "      <td>1003795200</td>\n",
       "      <td>Nice, bright colors!</td>\n",
       "      <td>I bought these to decorate some dia de los mue...</td>\n",
       "      <td>b'bought decor dia los muerto skull ice the at...</td>\n",
       "    </tr>\n",
       "    <tr>\n",
       "      <th>346033</th>\n",
       "      <td>374335</td>\n",
       "      <td>B00004CI84</td>\n",
       "      <td>A3L5V40F14R2GP</td>\n",
       "      <td>AARON</td>\n",
       "      <td>0</td>\n",
       "      <td>0</td>\n",
       "      <td>positive</td>\n",
       "      <td>1004054400</td>\n",
       "      <td>Beetlejuice! Beetlejuice! Beatlejuice!</td>\n",
       "      <td>Winona Ryder is HOT! HOT! HOT! as the gothic d...</td>\n",
       "      <td>b'winona ryder hot hot hot gothic princess doo...</td>\n",
       "    </tr>\n",
       "    <tr>\n",
       "      <th>138682</th>\n",
       "      <td>150500</td>\n",
       "      <td>0006641040</td>\n",
       "      <td>A1IJKK6Q1GTEAY</td>\n",
       "      <td>A Customer</td>\n",
       "      <td>2</td>\n",
       "      <td>2</td>\n",
       "      <td>positive</td>\n",
       "      <td>1009324800</td>\n",
       "      <td>It Was a favorite!</td>\n",
       "      <td>This was a favorite book of mine when I was a ...</td>\n",
       "      <td>b'this favorit book mine littl girl would read...</td>\n",
       "    </tr>\n",
       "    <tr>\n",
       "      <th>333930</th>\n",
       "      <td>361317</td>\n",
       "      <td>B00005IX96</td>\n",
       "      <td>A3ODTU118FKC5J</td>\n",
       "      <td>Rosemarie E Smith</td>\n",
       "      <td>5</td>\n",
       "      <td>7</td>\n",
       "      <td>positive</td>\n",
       "      <td>1010275200</td>\n",
       "      <td>A little piece of heaven.</td>\n",
       "      <td>For years I have been trying to simulate a tru...</td>\n",
       "      <td>b'for year tri simul truli italian espresso ca...</td>\n",
       "    </tr>\n",
       "    <tr>\n",
       "      <th>346032</th>\n",
       "      <td>374334</td>\n",
       "      <td>B00004CI84</td>\n",
       "      <td>A2HIZRVOKXKZ52</td>\n",
       "      <td>KAY N. FOWLER</td>\n",
       "      <td>0</td>\n",
       "      <td>0</td>\n",
       "      <td>positive</td>\n",
       "      <td>1012780800</td>\n",
       "      <td>Beetlejuice - Great Fun for Everyone!</td>\n",
       "      <td>When vacationing Adam and Barbara Maitland mee...</td>\n",
       "      <td>b'when vacat adam barbara maitland meet demis ...</td>\n",
       "    </tr>\n",
       "    <tr>\n",
       "      <th>...</th>\n",
       "      <td>...</td>\n",
       "      <td>...</td>\n",
       "      <td>...</td>\n",
       "      <td>...</td>\n",
       "      <td>...</td>\n",
       "      <td>...</td>\n",
       "      <td>...</td>\n",
       "      <td>...</td>\n",
       "      <td>...</td>\n",
       "      <td>...</td>\n",
       "      <td>...</td>\n",
       "    </tr>\n",
       "    <tr>\n",
       "      <th>133042</th>\n",
       "      <td>144430</td>\n",
       "      <td>B008BT11RI</td>\n",
       "      <td>A3OGEVXL65IGNI</td>\n",
       "      <td>Shirley Day</td>\n",
       "      <td>0</td>\n",
       "      <td>0</td>\n",
       "      <td>positive</td>\n",
       "      <td>1351209600</td>\n",
       "      <td>Grandma's Chili Powder Replica Very Good</td>\n",
       "      <td>This product is what Grandma's Chili Powder us...</td>\n",
       "      <td>b'this product grandma chili powder use peopl ...</td>\n",
       "    </tr>\n",
       "    <tr>\n",
       "      <th>471630</th>\n",
       "      <td>510016</td>\n",
       "      <td>B001EPPBE0</td>\n",
       "      <td>A21N20QGFUWFEC</td>\n",
       "      <td>The Kat</td>\n",
       "      <td>0</td>\n",
       "      <td>0</td>\n",
       "      <td>positive</td>\n",
       "      <td>1351209600</td>\n",
       "      <td>Wonderful</td>\n",
       "      <td>Came quickly. Was plentiful and delicious and ...</td>\n",
       "      <td>b'came quick was plenti delici cheaper store y...</td>\n",
       "    </tr>\n",
       "    <tr>\n",
       "      <th>435529</th>\n",
       "      <td>470964</td>\n",
       "      <td>B004VLVFFI</td>\n",
       "      <td>A2HIF50JQB4G2W</td>\n",
       "      <td>A. G. Malone</td>\n",
       "      <td>0</td>\n",
       "      <td>0</td>\n",
       "      <td>positive</td>\n",
       "      <td>1351209600</td>\n",
       "      <td>Great product!</td>\n",
       "      <td>Made a batch of sourdough rye and it got rave ...</td>\n",
       "      <td>b'made batch sourdough rye got rave review cur...</td>\n",
       "    </tr>\n",
       "    <tr>\n",
       "      <th>433753</th>\n",
       "      <td>469063</td>\n",
       "      <td>B00750E0X6</td>\n",
       "      <td>A2CPS5MWG87O7E</td>\n",
       "      <td>k.kollevoll</td>\n",
       "      <td>0</td>\n",
       "      <td>0</td>\n",
       "      <td>negative</td>\n",
       "      <td>1351209600</td>\n",
       "      <td>not what i expected</td>\n",
       "      <td>when i ordered this i expected a big box full ...</td>\n",
       "      <td>b'order expect big box full fortun cooki like ...</td>\n",
       "    </tr>\n",
       "    <tr>\n",
       "      <th>332581</th>\n",
       "      <td>359883</td>\n",
       "      <td>B002ULC2V2</td>\n",
       "      <td>A4VW6XVS48EMF</td>\n",
       "      <td>Horacio</td>\n",
       "      <td>0</td>\n",
       "      <td>0</td>\n",
       "      <td>positive</td>\n",
       "      <td>1351209600</td>\n",
       "      <td>Seeds!</td>\n",
       "      <td>I love sunflower seeds and I have found that P...</td>\n",
       "      <td>b'love sunflow seed found planter best tast fr...</td>\n",
       "    </tr>\n",
       "    <tr>\n",
       "      <th>459971</th>\n",
       "      <td>497428</td>\n",
       "      <td>B0015A2W32</td>\n",
       "      <td>A1SEHFQQ30AR0E</td>\n",
       "      <td>jmble</td>\n",
       "      <td>0</td>\n",
       "      <td>0</td>\n",
       "      <td>positive</td>\n",
       "      <td>1351209600</td>\n",
       "      <td>Perfect</td>\n",
       "      <td>I was a little worried when I saw the reviews ...</td>\n",
       "      <td>b'littl worri saw review arriv melti enough go...</td>\n",
       "    </tr>\n",
       "    <tr>\n",
       "      <th>82885</th>\n",
       "      <td>90216</td>\n",
       "      <td>B00866AM2G</td>\n",
       "      <td>AY839W9JQDZM2</td>\n",
       "      <td>Daniella</td>\n",
       "      <td>0</td>\n",
       "      <td>0</td>\n",
       "      <td>positive</td>\n",
       "      <td>1351209600</td>\n",
       "      <td>I love this</td>\n",
       "      <td>It's is in my opinion the best coconut water o...</td>\n",
       "      <td>b'it opinion best coconut water especi sinc ma...</td>\n",
       "    </tr>\n",
       "    <tr>\n",
       "      <th>178865</th>\n",
       "      <td>193975</td>\n",
       "      <td>B002UQ17Z4</td>\n",
       "      <td>A1F0634GVMIIHA</td>\n",
       "      <td>kestrel</td>\n",
       "      <td>0</td>\n",
       "      <td>0</td>\n",
       "      <td>positive</td>\n",
       "      <td>1351209600</td>\n",
       "      <td>Delicious rooibos chai</td>\n",
       "      <td>This stuff is great for my non-black tea drink...</td>\n",
       "      <td>b'this stuff great tea drink friend veri nice ...</td>\n",
       "    </tr>\n",
       "    <tr>\n",
       "      <th>82884</th>\n",
       "      <td>90215</td>\n",
       "      <td>B00866AM2G</td>\n",
       "      <td>ADTOX2JFWWA0B</td>\n",
       "      <td>Arnos Vale</td>\n",
       "      <td>0</td>\n",
       "      <td>0</td>\n",
       "      <td>positive</td>\n",
       "      <td>1351209600</td>\n",
       "      <td>Love it.</td>\n",
       "      <td>I love this but think its a little to expensiv...</td>\n",
       "      <td>b'love think littl expens everyday use it refr...</td>\n",
       "    </tr>\n",
       "    <tr>\n",
       "      <th>114485</th>\n",
       "      <td>124174</td>\n",
       "      <td>B0084MBGNQ</td>\n",
       "      <td>A3F526Y77Y64KT</td>\n",
       "      <td>D. Greenwood \"dg\"</td>\n",
       "      <td>0</td>\n",
       "      <td>0</td>\n",
       "      <td>positive</td>\n",
       "      <td>1351209600</td>\n",
       "      <td>Great Outdoor Dog Treat</td>\n",
       "      <td>I have two Weims that have a strong need to ch...</td>\n",
       "      <td>b'two weim strong need chew these bone serv ne...</td>\n",
       "    </tr>\n",
       "    <tr>\n",
       "      <th>468409</th>\n",
       "      <td>506494</td>\n",
       "      <td>B0006UFY46</td>\n",
       "      <td>AEEVDQNVIH4SJ</td>\n",
       "      <td>Eugene M. Watson</td>\n",
       "      <td>0</td>\n",
       "      <td>0</td>\n",
       "      <td>positive</td>\n",
       "      <td>1351209600</td>\n",
       "      <td>Great Salmon</td>\n",
       "      <td>This Salmon Is The Best!  I Try To Make A Smal...</td>\n",
       "      <td>b'this salmon the best tri make small varieti ...</td>\n",
       "    </tr>\n",
       "    <tr>\n",
       "      <th>177137</th>\n",
       "      <td>192089</td>\n",
       "      <td>B0083COD6O</td>\n",
       "      <td>A1DOLU6HS6R05M</td>\n",
       "      <td>J. Sommerville \"book lover\"</td>\n",
       "      <td>0</td>\n",
       "      <td>0</td>\n",
       "      <td>positive</td>\n",
       "      <td>1351209600</td>\n",
       "      <td>Great flavor!</td>\n",
       "      <td>I purchased this in a local health foods store...</td>\n",
       "      <td>b'purchas local health food store love right a...</td>\n",
       "    </tr>\n",
       "    <tr>\n",
       "      <th>132312</th>\n",
       "      <td>143644</td>\n",
       "      <td>B000MAK3R8</td>\n",
       "      <td>A2WWNCU4KG5S0B</td>\n",
       "      <td>Neal Layton</td>\n",
       "      <td>0</td>\n",
       "      <td>0</td>\n",
       "      <td>positive</td>\n",
       "      <td>1351209600</td>\n",
       "      <td>Best Microwave popcorn on the market.</td>\n",
       "      <td>If you like butter flavor this is the best mic...</td>\n",
       "      <td>b'like butter flavor best microwav popcorn ava...</td>\n",
       "    </tr>\n",
       "    <tr>\n",
       "      <th>218159</th>\n",
       "      <td>236486</td>\n",
       "      <td>B000MBN5TK</td>\n",
       "      <td>A1W2QH1LI4YQR4</td>\n",
       "      <td>Judy Grothause</td>\n",
       "      <td>0</td>\n",
       "      <td>0</td>\n",
       "      <td>positive</td>\n",
       "      <td>1351209600</td>\n",
       "      <td>Yum!</td>\n",
       "      <td>I'll never go back to regular taco seasoning a...</td>\n",
       "      <td>b'ill never back regular taco season use taco ...</td>\n",
       "    </tr>\n",
       "    <tr>\n",
       "      <th>198820</th>\n",
       "      <td>215480</td>\n",
       "      <td>B0014X5O1C</td>\n",
       "      <td>AHYRTWABDAG1H</td>\n",
       "      <td>E. Thomsen \"arvig\"</td>\n",
       "      <td>0</td>\n",
       "      <td>0</td>\n",
       "      <td>positive</td>\n",
       "      <td>1351209600</td>\n",
       "      <td>Wonderful alternative to soda pop</td>\n",
       "      <td>This is a wonderful alternative to soda pop.  ...</td>\n",
       "      <td>b'this wonder altern soda pop it carbon like e...</td>\n",
       "    </tr>\n",
       "    <tr>\n",
       "      <th>359323</th>\n",
       "      <td>388653</td>\n",
       "      <td>B007TGO1TY</td>\n",
       "      <td>A2LEO7WT1VIMKZ</td>\n",
       "      <td>jmonty \"tech junkie\"</td>\n",
       "      <td>0</td>\n",
       "      <td>0</td>\n",
       "      <td>positive</td>\n",
       "      <td>1351209600</td>\n",
       "      <td>This stuff is great!</td>\n",
       "      <td>I'm surprised to see so many negative comments...</td>\n",
       "      <td>b'surpris see mani negat comment product dont ...</td>\n",
       "    </tr>\n",
       "    <tr>\n",
       "      <th>206619</th>\n",
       "      <td>223926</td>\n",
       "      <td>B000EMAZK4</td>\n",
       "      <td>A46U02M3QK02</td>\n",
       "      <td>Cynthia &amp;#34;Bellasmom&amp;#34;</td>\n",
       "      <td>0</td>\n",
       "      <td>0</td>\n",
       "      <td>positive</td>\n",
       "      <td>1351209600</td>\n",
       "      <td>FAVORITE tea...</td>\n",
       "      <td>Lipton makes the BEST French Vanilla tea...I h...</td>\n",
       "      <td>b'lipton make best french vanilla tea tri othe...</td>\n",
       "    </tr>\n",
       "    <tr>\n",
       "      <th>206620</th>\n",
       "      <td>223927</td>\n",
       "      <td>B000EMAZK4</td>\n",
       "      <td>A20DY4XPIV6YKR</td>\n",
       "      <td>Traci Weaver</td>\n",
       "      <td>0</td>\n",
       "      <td>0</td>\n",
       "      <td>positive</td>\n",
       "      <td>1351209600</td>\n",
       "      <td>SO GOOD!!!</td>\n",
       "      <td>I love this French Vanilla tea and it's not av...</td>\n",
       "      <td>b'love french vanilla tea avail store longer t...</td>\n",
       "    </tr>\n",
       "    <tr>\n",
       "      <th>359322</th>\n",
       "      <td>388652</td>\n",
       "      <td>B007TGO1TY</td>\n",
       "      <td>A1N655X9X7C6QY</td>\n",
       "      <td>C. Cook \"LIVE..........LOVE........AND..........</td>\n",
       "      <td>0</td>\n",
       "      <td>0</td>\n",
       "      <td>positive</td>\n",
       "      <td>1351209600</td>\n",
       "      <td>Its LIGHT but very nice sweetener</td>\n",
       "      <td>This Nectresse Sweetener is rather light in ta...</td>\n",
       "      <td>b'this nectress sweeten rather light tast nice...</td>\n",
       "    </tr>\n",
       "    <tr>\n",
       "      <th>454604</th>\n",
       "      <td>491489</td>\n",
       "      <td>B002YR97SS</td>\n",
       "      <td>AKXZEJH9B6BQ8</td>\n",
       "      <td>Martha</td>\n",
       "      <td>0</td>\n",
       "      <td>0</td>\n",
       "      <td>positive</td>\n",
       "      <td>1351209600</td>\n",
       "      <td>good deal</td>\n",
       "      <td>it's okay, but I would prefer a larger nugget ...</td>\n",
       "      <td>b'okay would prefer larger nugget type product...</td>\n",
       "    </tr>\n",
       "    <tr>\n",
       "      <th>85745</th>\n",
       "      <td>93367</td>\n",
       "      <td>B007TGDXMU</td>\n",
       "      <td>AAMUNRK134Y5P</td>\n",
       "      <td>Tony Schy</td>\n",
       "      <td>0</td>\n",
       "      <td>0</td>\n",
       "      <td>positive</td>\n",
       "      <td>1351209600</td>\n",
       "      <td>Very pleased</td>\n",
       "      <td>Good price, good quality with convenience.  Fu...</td>\n",
       "      <td>b'good price good qualiti conveni fulli met ex...</td>\n",
       "    </tr>\n",
       "    <tr>\n",
       "      <th>329692</th>\n",
       "      <td>356813</td>\n",
       "      <td>B002YHU9LC</td>\n",
       "      <td>A2Z0XFW79HXASE</td>\n",
       "      <td>Kelby Scandrett \"Kaiahso\"</td>\n",
       "      <td>0</td>\n",
       "      <td>0</td>\n",
       "      <td>positive</td>\n",
       "      <td>1351209600</td>\n",
       "      <td>Yum</td>\n",
       "      <td>Yum, Yum, Yum, Yum...  (Munch, munch).  Yum!  ...</td>\n",
       "      <td>b'yum yum yum yum munch munch yum love tast wo...</td>\n",
       "    </tr>\n",
       "    <tr>\n",
       "      <th>474283</th>\n",
       "      <td>512923</td>\n",
       "      <td>B007VGZXPS</td>\n",
       "      <td>AE3WZL0YLVZG2</td>\n",
       "      <td>Helen King</td>\n",
       "      <td>0</td>\n",
       "      <td>0</td>\n",
       "      <td>positive</td>\n",
       "      <td>1351209600</td>\n",
       "      <td>Rustichella ROCKS!</td>\n",
       "      <td>Anything this company makes is worthwhile eati...</td>\n",
       "      <td>b'anyth compani make worthwhil eat favorit tre...</td>\n",
       "    </tr>\n",
       "    <tr>\n",
       "      <th>42269</th>\n",
       "      <td>45991</td>\n",
       "      <td>B007VQQT1K</td>\n",
       "      <td>A34P4V70RNC2YV</td>\n",
       "      <td>S. Guss</td>\n",
       "      <td>0</td>\n",
       "      <td>0</td>\n",
       "      <td>positive</td>\n",
       "      <td>1351209600</td>\n",
       "      <td>Great Irish Tea</td>\n",
       "      <td>We recently returned from a wonderful three we...</td>\n",
       "      <td>b'recent return wonder three week excurs irela...</td>\n",
       "    </tr>\n",
       "    <tr>\n",
       "      <th>235616</th>\n",
       "      <td>255611</td>\n",
       "      <td>B002Y3CSD8</td>\n",
       "      <td>ATL8TGSAEMDV1</td>\n",
       "      <td>Ray</td>\n",
       "      <td>0</td>\n",
       "      <td>0</td>\n",
       "      <td>positive</td>\n",
       "      <td>1351209600</td>\n",
       "      <td>I would buy it again</td>\n",
       "      <td>I decided to try this sauce recently and overa...</td>\n",
       "      <td>b'decid tri sauc recent overal thought delici ...</td>\n",
       "    </tr>\n",
       "    <tr>\n",
       "      <th>451083</th>\n",
       "      <td>487720</td>\n",
       "      <td>B00816PNK2</td>\n",
       "      <td>ABDQA93G2GTXC</td>\n",
       "      <td>Sheila Fox</td>\n",
       "      <td>0</td>\n",
       "      <td>0</td>\n",
       "      <td>positive</td>\n",
       "      <td>1351209600</td>\n",
       "      <td>This is so good!</td>\n",
       "      <td>I purchased this after my sister sent a small ...</td>\n",
       "      <td>b'purchas sister sent small bag gift box love ...</td>\n",
       "    </tr>\n",
       "    <tr>\n",
       "      <th>297558</th>\n",
       "      <td>322328</td>\n",
       "      <td>B004X71550</td>\n",
       "      <td>A1EEGOM5ZQVD81</td>\n",
       "      <td>S. Ansel \"New Grandma\"</td>\n",
       "      <td>0</td>\n",
       "      <td>0</td>\n",
       "      <td>positive</td>\n",
       "      <td>1351209600</td>\n",
       "      <td>Finally!</td>\n",
       "      <td>At last a sweetener with hardly any of that na...</td>\n",
       "      <td>b'last sweeten hard nasti aftertast there slig...</td>\n",
       "    </tr>\n",
       "    <tr>\n",
       "      <th>272256</th>\n",
       "      <td>295078</td>\n",
       "      <td>B004WZ4KK0</td>\n",
       "      <td>A19SKPB9MCXGGH</td>\n",
       "      <td>eugeniahoward</td>\n",
       "      <td>0</td>\n",
       "      <td>0</td>\n",
       "      <td>positive</td>\n",
       "      <td>1351209600</td>\n",
       "      <td>The best Tassimo coffee</td>\n",
       "      <td>I love all the coffees I have tried, but the G...</td>\n",
       "      <td>b'love coffe tri gevalia dark italian roast be...</td>\n",
       "    </tr>\n",
       "    <tr>\n",
       "      <th>305102</th>\n",
       "      <td>330432</td>\n",
       "      <td>B00800525U</td>\n",
       "      <td>A22IAC67WWBIJB</td>\n",
       "      <td>jbruce</td>\n",
       "      <td>0</td>\n",
       "      <td>0</td>\n",
       "      <td>negative</td>\n",
       "      <td>1351209600</td>\n",
       "      <td>disappointed</td>\n",
       "      <td>I am disappointed with this press. I was hopin...</td>\n",
       "      <td>b'disappoint press hope would make good cup co...</td>\n",
       "    </tr>\n",
       "    <tr>\n",
       "      <th>372276</th>\n",
       "      <td>402585</td>\n",
       "      <td>B000EML7DS</td>\n",
       "      <td>A2DFSA2JXQKVY3</td>\n",
       "      <td>C-Rush</td>\n",
       "      <td>0</td>\n",
       "      <td>0</td>\n",
       "      <td>positive</td>\n",
       "      <td>1351209600</td>\n",
       "      <td>Not bad.</td>\n",
       "      <td>These are small and very salty. The taste is g...</td>\n",
       "      <td>b'these small salti the tast good strong good ...</td>\n",
       "    </tr>\n",
       "  </tbody>\n",
       "</table>\n",
       "<p>364171 rows × 11 columns</p>\n",
       "</div>"
      ],
      "text/plain": [
       "            Id   ProductId          UserId  \\\n",
       "138706  150524  0006641040   ACITT7DI6IDDL   \n",
       "138683  150501  0006641040   AJ46FKXOVC7NR   \n",
       "417839  451856  B00004CXX9   AIUWLEQ1ADEG5   \n",
       "346055  374359  B00004CI84  A344SMIA5JECGM   \n",
       "417838  451855  B00004CXX9   AJH6LUC1UT1ON   \n",
       "346116  374422  B00004CI84  A1048CYU0OV4O8   \n",
       "346041  374343  B00004CI84   A1B2IZU1JLZA6   \n",
       "70688    76882  B00002N8SM  A32DW342WBJ6BX   \n",
       "346141  374450  B00004CI84   ACJR7EQF9S6FP   \n",
       "346094  374400  B00004CI84  A2DEE7F9XKP3ZR   \n",
       "417883  451903  B00004CXX9  A2DEE7F9XKP3ZR   \n",
       "1146      1245  B00002Z754  A29Z5PI9BW2PU3   \n",
       "1145      1244  B00002Z754  A3B8RCEI0FXFI6   \n",
       "121041  131217  B00004RAMX   A5NQLNC6QPGSI   \n",
       "138001  149770  B00004S1C5  A1KXONFPU2XQ5K   \n",
       "138017  149789  B00004S1C6  A1KXONFPU2XQ5K   \n",
       "346115  374421  B00004CI84  A1FJOY14X3MUHE   \n",
       "346102  374408  B00004CI84  A1GB1Q193DNFGR   \n",
       "138000  149768  B00004S1C5   A7P76IGRZZBFJ   \n",
       "346078  374383  B00004CI84   A34NBH479RB0E   \n",
       "346054  374358  B00004CI84  A1HWMNSQF14MP8   \n",
       "138018  149790  B00004S1C6  A1IU7S4HCK1XK0   \n",
       "417901  451923  B00004CXX9   ANIMV3SPDD8SH   \n",
       "346037  374339  B00004CI84   AZRJH4JFB59VC   \n",
       "346140  374449  B00004CI84  A3K3YJWV0N54ZO   \n",
       "138020  149792  B00004S1C6  A3B5QJVM1TLYJG   \n",
       "346033  374335  B00004CI84  A3L5V40F14R2GP   \n",
       "138682  150500  0006641040  A1IJKK6Q1GTEAY   \n",
       "333930  361317  B00005IX96  A3ODTU118FKC5J   \n",
       "346032  374334  B00004CI84  A2HIZRVOKXKZ52   \n",
       "...        ...         ...             ...   \n",
       "133042  144430  B008BT11RI  A3OGEVXL65IGNI   \n",
       "471630  510016  B001EPPBE0  A21N20QGFUWFEC   \n",
       "435529  470964  B004VLVFFI  A2HIF50JQB4G2W   \n",
       "433753  469063  B00750E0X6  A2CPS5MWG87O7E   \n",
       "332581  359883  B002ULC2V2   A4VW6XVS48EMF   \n",
       "459971  497428  B0015A2W32  A1SEHFQQ30AR0E   \n",
       "82885    90216  B00866AM2G   AY839W9JQDZM2   \n",
       "178865  193975  B002UQ17Z4  A1F0634GVMIIHA   \n",
       "82884    90215  B00866AM2G   ADTOX2JFWWA0B   \n",
       "114485  124174  B0084MBGNQ  A3F526Y77Y64KT   \n",
       "468409  506494  B0006UFY46   AEEVDQNVIH4SJ   \n",
       "177137  192089  B0083COD6O  A1DOLU6HS6R05M   \n",
       "132312  143644  B000MAK3R8  A2WWNCU4KG5S0B   \n",
       "218159  236486  B000MBN5TK  A1W2QH1LI4YQR4   \n",
       "198820  215480  B0014X5O1C   AHYRTWABDAG1H   \n",
       "359323  388653  B007TGO1TY  A2LEO7WT1VIMKZ   \n",
       "206619  223926  B000EMAZK4    A46U02M3QK02   \n",
       "206620  223927  B000EMAZK4  A20DY4XPIV6YKR   \n",
       "359322  388652  B007TGO1TY  A1N655X9X7C6QY   \n",
       "454604  491489  B002YR97SS   AKXZEJH9B6BQ8   \n",
       "85745    93367  B007TGDXMU   AAMUNRK134Y5P   \n",
       "329692  356813  B002YHU9LC  A2Z0XFW79HXASE   \n",
       "474283  512923  B007VGZXPS   AE3WZL0YLVZG2   \n",
       "42269    45991  B007VQQT1K  A34P4V70RNC2YV   \n",
       "235616  255611  B002Y3CSD8   ATL8TGSAEMDV1   \n",
       "451083  487720  B00816PNK2   ABDQA93G2GTXC   \n",
       "297558  322328  B004X71550  A1EEGOM5ZQVD81   \n",
       "272256  295078  B004WZ4KK0  A19SKPB9MCXGGH   \n",
       "305102  330432  B00800525U  A22IAC67WWBIJB   \n",
       "372276  402585  B000EML7DS  A2DFSA2JXQKVY3   \n",
       "\n",
       "                                             ProfileName  \\\n",
       "138706                                   shari zychinski   \n",
       "138683                                Nicholas A Mesiano   \n",
       "417839                                  Elizabeth Medina   \n",
       "346055                                   Vincent P. Ross   \n",
       "417838                          The Phantom of the Opera   \n",
       "346116                                      Judy L. Eans   \n",
       "346041                                               Wes   \n",
       "70688                                        Buttersugar   \n",
       "346141                                  Jeremy Robertson   \n",
       "346094                                            jerome   \n",
       "417883                                            jerome   \n",
       "1146                                              Robbie   \n",
       "1145                                           B G Chase   \n",
       "121041                                         Kim Nason   \n",
       "138001                                  Stephanie Manley   \n",
       "138017                                  Stephanie Manley   \n",
       "346115                                     Justin Howard   \n",
       "346102                                  Bruce Lee Pullen   \n",
       "138000                    E. Thompson \"Soooooper Genius\"   \n",
       "346078                                        \"dmab6395\"   \n",
       "346054                                 will@socialaw.com   \n",
       "138018                                    Joanna Daneman   \n",
       "417901                                  Guy De Federicis   \n",
       "346037                                  Lynwood E. Hines   \n",
       "346140                                              Joey   \n",
       "138020                                       Dan Crevier   \n",
       "346033                                             AARON   \n",
       "138682                                        A Customer   \n",
       "333930                                 Rosemarie E Smith   \n",
       "346032                                     KAY N. FOWLER   \n",
       "...                                                  ...   \n",
       "133042                                       Shirley Day   \n",
       "471630                                           The Kat   \n",
       "435529                                      A. G. Malone   \n",
       "433753                                       k.kollevoll   \n",
       "332581                                           Horacio   \n",
       "459971                                             jmble   \n",
       "82885                                           Daniella   \n",
       "178865                                           kestrel   \n",
       "82884                                         Arnos Vale   \n",
       "114485                                 D. Greenwood \"dg\"   \n",
       "468409                                  Eugene M. Watson   \n",
       "177137                       J. Sommerville \"book lover\"   \n",
       "132312                                       Neal Layton   \n",
       "218159                                    Judy Grothause   \n",
       "198820                                E. Thomsen \"arvig\"   \n",
       "359323                              jmonty \"tech junkie\"   \n",
       "206619                       Cynthia &#34;Bellasmom&#34;   \n",
       "206620                                      Traci Weaver   \n",
       "359322  C. Cook \"LIVE..........LOVE........AND..........   \n",
       "454604                                            Martha   \n",
       "85745                                          Tony Schy   \n",
       "329692                         Kelby Scandrett \"Kaiahso\"   \n",
       "474283                                        Helen King   \n",
       "42269                                            S. Guss   \n",
       "235616                                               Ray   \n",
       "451083                                        Sheila Fox   \n",
       "297558                            S. Ansel \"New Grandma\"   \n",
       "272256                                     eugeniahoward   \n",
       "305102                                            jbruce   \n",
       "372276                                            C-Rush   \n",
       "\n",
       "        HelpfulnessNumerator  HelpfulnessDenominator     Score        Time  \\\n",
       "138706                     0                       0  positive   939340800   \n",
       "138683                     2                       2  positive   940809600   \n",
       "417839                     0                       0  positive   944092800   \n",
       "346055                     1                       2  positive   944438400   \n",
       "417838                     0                       0  positive   946857600   \n",
       "346116                     2                       2  positive   947376000   \n",
       "346041                    19                      23  negative   948240000   \n",
       "70688                      0                       0  positive   948672000   \n",
       "346141                     2                       3  positive   951523200   \n",
       "346094                     0                       3  positive   959990400   \n",
       "417883                     0                       1  positive   959990400   \n",
       "1146                       7                       7  positive   961718400   \n",
       "1145                      10                      10  positive   962236800   \n",
       "121041                     7                       8  positive   965001600   \n",
       "138001                     8                       8  positive   965779200   \n",
       "138017                    26                      28  positive   965779200   \n",
       "346115                     2                       2  positive   966297600   \n",
       "346102                     5                       5  positive   970531200   \n",
       "138000                    18                      18  positive   975974400   \n",
       "346078                     0                       1  positive   977184000   \n",
       "346054                     1                       2  positive   978134400   \n",
       "138018                    25                      27  positive   982800000   \n",
       "417901                     1                      12  negative   992217600   \n",
       "346037                    21                      23  negative   997228800   \n",
       "346140                     2                       3  positive  1001289600   \n",
       "138020                    11                      12  positive  1003795200   \n",
       "346033                     0                       0  positive  1004054400   \n",
       "138682                     2                       2  positive  1009324800   \n",
       "333930                     5                       7  positive  1010275200   \n",
       "346032                     0                       0  positive  1012780800   \n",
       "...                      ...                     ...       ...         ...   \n",
       "133042                     0                       0  positive  1351209600   \n",
       "471630                     0                       0  positive  1351209600   \n",
       "435529                     0                       0  positive  1351209600   \n",
       "433753                     0                       0  negative  1351209600   \n",
       "332581                     0                       0  positive  1351209600   \n",
       "459971                     0                       0  positive  1351209600   \n",
       "82885                      0                       0  positive  1351209600   \n",
       "178865                     0                       0  positive  1351209600   \n",
       "82884                      0                       0  positive  1351209600   \n",
       "114485                     0                       0  positive  1351209600   \n",
       "468409                     0                       0  positive  1351209600   \n",
       "177137                     0                       0  positive  1351209600   \n",
       "132312                     0                       0  positive  1351209600   \n",
       "218159                     0                       0  positive  1351209600   \n",
       "198820                     0                       0  positive  1351209600   \n",
       "359323                     0                       0  positive  1351209600   \n",
       "206619                     0                       0  positive  1351209600   \n",
       "206620                     0                       0  positive  1351209600   \n",
       "359322                     0                       0  positive  1351209600   \n",
       "454604                     0                       0  positive  1351209600   \n",
       "85745                      0                       0  positive  1351209600   \n",
       "329692                     0                       0  positive  1351209600   \n",
       "474283                     0                       0  positive  1351209600   \n",
       "42269                      0                       0  positive  1351209600   \n",
       "235616                     0                       0  positive  1351209600   \n",
       "451083                     0                       0  positive  1351209600   \n",
       "297558                     0                       0  positive  1351209600   \n",
       "272256                     0                       0  positive  1351209600   \n",
       "305102                     0                       0  negative  1351209600   \n",
       "372276                     0                       0  positive  1351209600   \n",
       "\n",
       "                                                  Summary  \\\n",
       "138706                          EVERY book is educational   \n",
       "138683  This whole series is great way to spend time w...   \n",
       "417839                               Entertainingl Funny!   \n",
       "346055                            A modern day fairy tale   \n",
       "417838                                         FANTASTIC!   \n",
       "346116                                              GREAT   \n",
       "346041    WARNING: CLAMSHELL EDITION IS EDITED TV VERSION   \n",
       "70688                              A sure death for flies   \n",
       "346141           Bettlejuice...Bettlejuice...BETTLEJUICE!   \n",
       "346094      Research - Beatlejuice video - French version   \n",
       "417883                                           Research   \n",
       "1146                                        Great Product   \n",
       "1145                       WOW Make your own 'slickers' !   \n",
       "121041                           End your Gopher Problems   \n",
       "138001                                   Very easy to use   \n",
       "138017                                       A must have!   \n",
       "346115  A fresh, original film from master storyteller...   \n",
       "346102       Fabulous Comedic Fanasy Directed by a Master   \n",
       "138000                                  Who Needs Wilton?   \n",
       "346078                                              FUNNY   \n",
       "346054                                A Afterlife Success   \n",
       "138018  Make your own Martha Stewart style cakes and c...   \n",
       "417901                  CASPER IS THE GHOST WITH THE MOST   \n",
       "346037                          Great movie, terrible DVD   \n",
       "346140  Beetlejuice is a greatmovie, but they cheated ...   \n",
       "138020                               Nice, bright colors!   \n",
       "346033             Beetlejuice! Beetlejuice! Beatlejuice!   \n",
       "138682                                 It Was a favorite!   \n",
       "333930                          A little piece of heaven.   \n",
       "346032              Beetlejuice - Great Fun for Everyone!   \n",
       "...                                                   ...   \n",
       "133042           Grandma's Chili Powder Replica Very Good   \n",
       "471630                                          Wonderful   \n",
       "435529                                     Great product!   \n",
       "433753                                not what i expected   \n",
       "332581                                             Seeds!   \n",
       "459971                                            Perfect   \n",
       "82885                                         I love this   \n",
       "178865                             Delicious rooibos chai   \n",
       "82884                                            Love it.   \n",
       "114485                            Great Outdoor Dog Treat   \n",
       "468409                                       Great Salmon   \n",
       "177137                                      Great flavor!   \n",
       "132312              Best Microwave popcorn on the market.   \n",
       "218159                                               Yum!   \n",
       "198820                  Wonderful alternative to soda pop   \n",
       "359323                               This stuff is great!   \n",
       "206619                                    FAVORITE tea...   \n",
       "206620                                         SO GOOD!!!   \n",
       "359322                  Its LIGHT but very nice sweetener   \n",
       "454604                                          good deal   \n",
       "85745                                        Very pleased   \n",
       "329692                                                Yum   \n",
       "474283                                 Rustichella ROCKS!   \n",
       "42269                                     Great Irish Tea   \n",
       "235616                               I would buy it again   \n",
       "451083                                   This is so good!   \n",
       "297558                                           Finally!   \n",
       "272256                            The best Tassimo coffee   \n",
       "305102                                       disappointed   \n",
       "372276                                           Not bad.   \n",
       "\n",
       "                                                     Text  \\\n",
       "138706  this witty little book makes my son laugh at l...   \n",
       "138683  I can remember seeing the show when it aired o...   \n",
       "417839  Beetlejuice is a well written movie ..... ever...   \n",
       "346055  A twist of rumplestiskin captured on film, sta...   \n",
       "417838  Beetlejuice is an excellent and funny movie. K...   \n",
       "346116  THIS IS ONE MOVIE THAT SHOULD BE IN YOUR MOVIE...   \n",
       "346041  I, myself always enjoyed this movie, it's very...   \n",
       "70688   I bought a few of these after my apartment was...   \n",
       "346141  What happens when you say his name three times...   \n",
       "346094  I'm getting crazy.I'm looking for Beatlejuice ...   \n",
       "417883  I'm getting crazy.<p>Is it really impossible t...   \n",
       "1146    This was a really good idea and the final prod...   \n",
       "1145    I just received my shipment and could hardly w...   \n",
       "121041  I have just recently purchased the Woodstream ...   \n",
       "138001  This are so much easier to use than the Wilson...   \n",
       "138017  These are easy to use, they do not make a mess...   \n",
       "346115  This is such a great film, I don't even know h...   \n",
       "346102  Beetlejuice is an awe-inspiring wonderfully am...   \n",
       "138000  I'm sick of scads of nasty toothpicks all over...   \n",
       "346078  I THOUGHT THIS MOVIE WAS SO FUNNY, MICHAEL KEA...   \n",
       "346054  Many movies, have dealt with the figure of dea...   \n",
       "138018  I don't know why anyone would ever use those l...   \n",
       "417901  Michael Keaton brings no distinguishing charac...   \n",
       "346037  I am continually amazed at the shoddy treatmen...   \n",
       "346140  Just to warn you. when in trying to trick you ...   \n",
       "138020  I bought these to decorate some dia de los mue...   \n",
       "346033  Winona Ryder is HOT! HOT! HOT! as the gothic d...   \n",
       "138682  This was a favorite book of mine when I was a ...   \n",
       "333930  For years I have been trying to simulate a tru...   \n",
       "346032  When vacationing Adam and Barbara Maitland mee...   \n",
       "...                                                   ...   \n",
       "133042  This product is what Grandma's Chili Powder us...   \n",
       "471630  Came quickly. Was plentiful and delicious and ...   \n",
       "435529  Made a batch of sourdough rye and it got rave ...   \n",
       "433753  when i ordered this i expected a big box full ...   \n",
       "332581  I love sunflower seeds and I have found that P...   \n",
       "459971  I was a little worried when I saw the reviews ...   \n",
       "82885   It's is in my opinion the best coconut water o...   \n",
       "178865  This stuff is great for my non-black tea drink...   \n",
       "82884   I love this but think its a little to expensiv...   \n",
       "114485  I have two Weims that have a strong need to ch...   \n",
       "468409  This Salmon Is The Best!  I Try To Make A Smal...   \n",
       "177137  I purchased this in a local health foods store...   \n",
       "132312  If you like butter flavor this is the best mic...   \n",
       "218159  I'll never go back to regular taco seasoning a...   \n",
       "198820  This is a wonderful alternative to soda pop.  ...   \n",
       "359323  I'm surprised to see so many negative comments...   \n",
       "206619  Lipton makes the BEST French Vanilla tea...I h...   \n",
       "206620  I love this French Vanilla tea and it's not av...   \n",
       "359322  This Nectresse Sweetener is rather light in ta...   \n",
       "454604  it's okay, but I would prefer a larger nugget ...   \n",
       "85745   Good price, good quality with convenience.  Fu...   \n",
       "329692  Yum, Yum, Yum, Yum...  (Munch, munch).  Yum!  ...   \n",
       "474283  Anything this company makes is worthwhile eati...   \n",
       "42269   We recently returned from a wonderful three we...   \n",
       "235616  I decided to try this sauce recently and overa...   \n",
       "451083  I purchased this after my sister sent a small ...   \n",
       "297558  At last a sweetener with hardly any of that na...   \n",
       "272256  I love all the coffees I have tried, but the G...   \n",
       "305102  I am disappointed with this press. I was hopin...   \n",
       "372276  These are small and very salty. The taste is g...   \n",
       "\n",
       "                                                  cleaned  \n",
       "138706  b'witti littl book make son laugh loud recit c...  \n",
       "138683  b'rememb see show air televis year ago child s...  \n",
       "417839  b'beetlejuic well written movi everyth excel f...  \n",
       "346055  b'twist rumplestiskin captur film star michael...  \n",
       "417838  b'beetlejuic excel funni movi keaton hilari wa...  \n",
       "346116  b'this one movi that should your movi collect ...  \n",
       "346041  b'alway enjoy movi funni entertain didnt hesit...  \n",
       "70688   b'bought apart infest fruit fli after hour tra...  \n",
       "346141  b'what happen say name three time michael keat...  \n",
       "346094  b'get crazi look beatlejuic french version vid...  \n",
       "417883  b'get crazi realli imposs today find french vh...  \n",
       "1146    b'this realli good idea final product outstand...  \n",
       "1145    b'receiv shipment could hard wait tri product ...  \n",
       "121041  b'recent purchas woodstream corp gopher trap w...  \n",
       "138001  b'this much easier use wilson past color color...  \n",
       "138017  b'these easi use make mess offer vibrant color...  \n",
       "346115  b'this great film dont even know sum first com...  \n",
       "346102  b'beetlejuic wonder amus comed romp explor inc...  \n",
       "138000  b'sick scad nasti toothpick counter tint conce...  \n",
       "346078  b'thought this movi was funni michael keaton b...  \n",
       "346054  b'mani movi dealt figur death dead good angel ...  \n",
       "138018  b'dont know anyon would ever use littl liquid ...  \n",
       "417901  b'michael keaton bring distinguish characteris...  \n",
       "346037  b'continu amaz shoddi treatment movi get dvd r...  \n",
       "346140  b'just warn tri trick widescreen format compan...  \n",
       "138020  b'bought decor dia los muerto skull ice the at...  \n",
       "346033  b'winona ryder hot hot hot gothic princess doo...  \n",
       "138682  b'this favorit book mine littl girl would read...  \n",
       "333930  b'for year tri simul truli italian espresso ca...  \n",
       "346032  b'when vacat adam barbara maitland meet demis ...  \n",
       "...                                                   ...  \n",
       "133042  b'this product grandma chili powder use peopl ...  \n",
       "471630  b'came quick was plenti delici cheaper store y...  \n",
       "435529  b'made batch sourdough rye got rave review cur...  \n",
       "433753  b'order expect big box full fortun cooki like ...  \n",
       "332581  b'love sunflow seed found planter best tast fr...  \n",
       "459971  b'littl worri saw review arriv melti enough go...  \n",
       "82885   b'it opinion best coconut water especi sinc ma...  \n",
       "178865  b'this stuff great tea drink friend veri nice ...  \n",
       "82884   b'love think littl expens everyday use it refr...  \n",
       "114485  b'two weim strong need chew these bone serv ne...  \n",
       "468409  b'this salmon the best tri make small varieti ...  \n",
       "177137  b'purchas local health food store love right a...  \n",
       "132312  b'like butter flavor best microwav popcorn ava...  \n",
       "218159  b'ill never back regular taco season use taco ...  \n",
       "198820  b'this wonder altern soda pop it carbon like e...  \n",
       "359323  b'surpris see mani negat comment product dont ...  \n",
       "206619  b'lipton make best french vanilla tea tri othe...  \n",
       "206620  b'love french vanilla tea avail store longer t...  \n",
       "359322  b'this nectress sweeten rather light tast nice...  \n",
       "454604  b'okay would prefer larger nugget type product...  \n",
       "85745   b'good price good qualiti conveni fulli met ex...  \n",
       "329692  b'yum yum yum yum munch munch yum love tast wo...  \n",
       "474283  b'anyth compani make worthwhil eat favorit tre...  \n",
       "42269   b'recent return wonder three week excurs irela...  \n",
       "235616  b'decid tri sauc recent overal thought delici ...  \n",
       "451083  b'purchas sister sent small bag gift box love ...  \n",
       "297558  b'last sweeten hard nasti aftertast there slig...  \n",
       "272256  b'love coffe tri gevalia dark italian roast be...  \n",
       "305102  b'disappoint press hope would make good cup co...  \n",
       "372276  b'these small salti the tast good strong good ...  \n",
       "\n",
       "[364171 rows x 11 columns]"
      ]
     },
     "execution_count": 22,
     "metadata": {},
     "output_type": "execute_result"
    }
   ],
   "source": [
    "#adding the preprocessed data into another column\n",
    "d[\"cleaned\"]=final\n",
    "d"
   ]
  },
  {
   "cell_type": "code",
   "execution_count": 23,
   "metadata": {},
   "outputs": [
    {
     "data": {
      "text/plain": [
       "Index(['Id', 'ProductId', 'UserId', 'ProfileName', 'HelpfulnessNumerator',\n",
       "       'HelpfulnessDenominator', 'Score', 'Time', 'Summary', 'Text',\n",
       "       'cleaned'],\n",
       "      dtype='object')"
      ]
     },
     "execution_count": 23,
     "metadata": {},
     "output_type": "execute_result"
    }
   ],
   "source": [
    "#checking if new column is added\n",
    "d.columns"
   ]
  },
  {
   "cell_type": "code",
   "execution_count": 24,
   "metadata": {},
   "outputs": [],
   "source": [
    "import sqlite3\n",
    "conn=sqlite3.connect(\"future.sqlite\")\n",
    "c=conn.cursor()\n",
    "conn.text_factory=str\n",
    "d.to_sql('Reviews',conn,if_exists='replace',index=True)"
   ]
  },
  {
   "cell_type": "code",
   "execution_count": 25,
   "metadata": {},
   "outputs": [
    {
     "data": {
      "text/html": [
       "<div>\n",
       "<style scoped>\n",
       "    .dataframe tbody tr th:only-of-type {\n",
       "        vertical-align: middle;\n",
       "    }\n",
       "\n",
       "    .dataframe tbody tr th {\n",
       "        vertical-align: top;\n",
       "    }\n",
       "\n",
       "    .dataframe thead th {\n",
       "        text-align: right;\n",
       "    }\n",
       "</style>\n",
       "<table border=\"1\" class=\"dataframe\">\n",
       "  <thead>\n",
       "    <tr style=\"text-align: right;\">\n",
       "      <th></th>\n",
       "      <th>Id</th>\n",
       "      <th>ProductId</th>\n",
       "      <th>UserId</th>\n",
       "      <th>ProfileName</th>\n",
       "      <th>HelpfulnessNumerator</th>\n",
       "      <th>HelpfulnessDenominator</th>\n",
       "      <th>Score</th>\n",
       "      <th>Time</th>\n",
       "      <th>Summary</th>\n",
       "      <th>Text</th>\n",
       "      <th>cleaned</th>\n",
       "    </tr>\n",
       "  </thead>\n",
       "  <tbody>\n",
       "    <tr>\n",
       "      <th>138706</th>\n",
       "      <td>150524</td>\n",
       "      <td>0006641040</td>\n",
       "      <td>ACITT7DI6IDDL</td>\n",
       "      <td>shari zychinski</td>\n",
       "      <td>0</td>\n",
       "      <td>0</td>\n",
       "      <td>1</td>\n",
       "      <td>939340800</td>\n",
       "      <td>EVERY book is educational</td>\n",
       "      <td>this witty little book makes my son laugh at l...</td>\n",
       "      <td>b'witti littl book make son laugh loud recit c...</td>\n",
       "    </tr>\n",
       "    <tr>\n",
       "      <th>138683</th>\n",
       "      <td>150501</td>\n",
       "      <td>0006641040</td>\n",
       "      <td>AJ46FKXOVC7NR</td>\n",
       "      <td>Nicholas A Mesiano</td>\n",
       "      <td>2</td>\n",
       "      <td>2</td>\n",
       "      <td>1</td>\n",
       "      <td>940809600</td>\n",
       "      <td>This whole series is great way to spend time w...</td>\n",
       "      <td>I can remember seeing the show when it aired o...</td>\n",
       "      <td>b'rememb see show air televis year ago child s...</td>\n",
       "    </tr>\n",
       "    <tr>\n",
       "      <th>417839</th>\n",
       "      <td>451856</td>\n",
       "      <td>B00004CXX9</td>\n",
       "      <td>AIUWLEQ1ADEG5</td>\n",
       "      <td>Elizabeth Medina</td>\n",
       "      <td>0</td>\n",
       "      <td>0</td>\n",
       "      <td>1</td>\n",
       "      <td>944092800</td>\n",
       "      <td>Entertainingl Funny!</td>\n",
       "      <td>Beetlejuice is a well written movie ..... ever...</td>\n",
       "      <td>b'beetlejuic well written movi everyth excel f...</td>\n",
       "    </tr>\n",
       "    <tr>\n",
       "      <th>346055</th>\n",
       "      <td>374359</td>\n",
       "      <td>B00004CI84</td>\n",
       "      <td>A344SMIA5JECGM</td>\n",
       "      <td>Vincent P. Ross</td>\n",
       "      <td>1</td>\n",
       "      <td>2</td>\n",
       "      <td>1</td>\n",
       "      <td>944438400</td>\n",
       "      <td>A modern day fairy tale</td>\n",
       "      <td>A twist of rumplestiskin captured on film, sta...</td>\n",
       "      <td>b'twist rumplestiskin captur film star michael...</td>\n",
       "    </tr>\n",
       "    <tr>\n",
       "      <th>417838</th>\n",
       "      <td>451855</td>\n",
       "      <td>B00004CXX9</td>\n",
       "      <td>AJH6LUC1UT1ON</td>\n",
       "      <td>The Phantom of the Opera</td>\n",
       "      <td>0</td>\n",
       "      <td>0</td>\n",
       "      <td>1</td>\n",
       "      <td>946857600</td>\n",
       "      <td>FANTASTIC!</td>\n",
       "      <td>Beetlejuice is an excellent and funny movie. K...</td>\n",
       "      <td>b'beetlejuic excel funni movi keaton hilari wa...</td>\n",
       "    </tr>\n",
       "    <tr>\n",
       "      <th>346116</th>\n",
       "      <td>374422</td>\n",
       "      <td>B00004CI84</td>\n",
       "      <td>A1048CYU0OV4O8</td>\n",
       "      <td>Judy L. Eans</td>\n",
       "      <td>2</td>\n",
       "      <td>2</td>\n",
       "      <td>1</td>\n",
       "      <td>947376000</td>\n",
       "      <td>GREAT</td>\n",
       "      <td>THIS IS ONE MOVIE THAT SHOULD BE IN YOUR MOVIE...</td>\n",
       "      <td>b'this one movi that should your movi collect ...</td>\n",
       "    </tr>\n",
       "    <tr>\n",
       "      <th>346041</th>\n",
       "      <td>374343</td>\n",
       "      <td>B00004CI84</td>\n",
       "      <td>A1B2IZU1JLZA6</td>\n",
       "      <td>Wes</td>\n",
       "      <td>19</td>\n",
       "      <td>23</td>\n",
       "      <td>0</td>\n",
       "      <td>948240000</td>\n",
       "      <td>WARNING: CLAMSHELL EDITION IS EDITED TV VERSION</td>\n",
       "      <td>I, myself always enjoyed this movie, it's very...</td>\n",
       "      <td>b'alway enjoy movi funni entertain didnt hesit...</td>\n",
       "    </tr>\n",
       "    <tr>\n",
       "      <th>70688</th>\n",
       "      <td>76882</td>\n",
       "      <td>B00002N8SM</td>\n",
       "      <td>A32DW342WBJ6BX</td>\n",
       "      <td>Buttersugar</td>\n",
       "      <td>0</td>\n",
       "      <td>0</td>\n",
       "      <td>1</td>\n",
       "      <td>948672000</td>\n",
       "      <td>A sure death for flies</td>\n",
       "      <td>I bought a few of these after my apartment was...</td>\n",
       "      <td>b'bought apart infest fruit fli after hour tra...</td>\n",
       "    </tr>\n",
       "    <tr>\n",
       "      <th>346141</th>\n",
       "      <td>374450</td>\n",
       "      <td>B00004CI84</td>\n",
       "      <td>ACJR7EQF9S6FP</td>\n",
       "      <td>Jeremy Robertson</td>\n",
       "      <td>2</td>\n",
       "      <td>3</td>\n",
       "      <td>1</td>\n",
       "      <td>951523200</td>\n",
       "      <td>Bettlejuice...Bettlejuice...BETTLEJUICE!</td>\n",
       "      <td>What happens when you say his name three times...</td>\n",
       "      <td>b'what happen say name three time michael keat...</td>\n",
       "    </tr>\n",
       "    <tr>\n",
       "      <th>346094</th>\n",
       "      <td>374400</td>\n",
       "      <td>B00004CI84</td>\n",
       "      <td>A2DEE7F9XKP3ZR</td>\n",
       "      <td>jerome</td>\n",
       "      <td>0</td>\n",
       "      <td>3</td>\n",
       "      <td>1</td>\n",
       "      <td>959990400</td>\n",
       "      <td>Research - Beatlejuice video - French version</td>\n",
       "      <td>I'm getting crazy.I'm looking for Beatlejuice ...</td>\n",
       "      <td>b'get crazi look beatlejuic french version vid...</td>\n",
       "    </tr>\n",
       "  </tbody>\n",
       "</table>\n",
       "</div>"
      ],
      "text/plain": [
       "            Id   ProductId          UserId               ProfileName  \\\n",
       "138706  150524  0006641040   ACITT7DI6IDDL           shari zychinski   \n",
       "138683  150501  0006641040   AJ46FKXOVC7NR        Nicholas A Mesiano   \n",
       "417839  451856  B00004CXX9   AIUWLEQ1ADEG5          Elizabeth Medina   \n",
       "346055  374359  B00004CI84  A344SMIA5JECGM           Vincent P. Ross   \n",
       "417838  451855  B00004CXX9   AJH6LUC1UT1ON  The Phantom of the Opera   \n",
       "346116  374422  B00004CI84  A1048CYU0OV4O8              Judy L. Eans   \n",
       "346041  374343  B00004CI84   A1B2IZU1JLZA6                       Wes   \n",
       "70688    76882  B00002N8SM  A32DW342WBJ6BX               Buttersugar   \n",
       "346141  374450  B00004CI84   ACJR7EQF9S6FP          Jeremy Robertson   \n",
       "346094  374400  B00004CI84  A2DEE7F9XKP3ZR                    jerome   \n",
       "\n",
       "        HelpfulnessNumerator  HelpfulnessDenominator  Score       Time  \\\n",
       "138706                     0                       0      1  939340800   \n",
       "138683                     2                       2      1  940809600   \n",
       "417839                     0                       0      1  944092800   \n",
       "346055                     1                       2      1  944438400   \n",
       "417838                     0                       0      1  946857600   \n",
       "346116                     2                       2      1  947376000   \n",
       "346041                    19                      23      0  948240000   \n",
       "70688                      0                       0      1  948672000   \n",
       "346141                     2                       3      1  951523200   \n",
       "346094                     0                       3      1  959990400   \n",
       "\n",
       "                                                  Summary  \\\n",
       "138706                          EVERY book is educational   \n",
       "138683  This whole series is great way to spend time w...   \n",
       "417839                               Entertainingl Funny!   \n",
       "346055                            A modern day fairy tale   \n",
       "417838                                         FANTASTIC!   \n",
       "346116                                              GREAT   \n",
       "346041    WARNING: CLAMSHELL EDITION IS EDITED TV VERSION   \n",
       "70688                              A sure death for flies   \n",
       "346141           Bettlejuice...Bettlejuice...BETTLEJUICE!   \n",
       "346094      Research - Beatlejuice video - French version   \n",
       "\n",
       "                                                     Text  \\\n",
       "138706  this witty little book makes my son laugh at l...   \n",
       "138683  I can remember seeing the show when it aired o...   \n",
       "417839  Beetlejuice is a well written movie ..... ever...   \n",
       "346055  A twist of rumplestiskin captured on film, sta...   \n",
       "417838  Beetlejuice is an excellent and funny movie. K...   \n",
       "346116  THIS IS ONE MOVIE THAT SHOULD BE IN YOUR MOVIE...   \n",
       "346041  I, myself always enjoyed this movie, it's very...   \n",
       "70688   I bought a few of these after my apartment was...   \n",
       "346141  What happens when you say his name three times...   \n",
       "346094  I'm getting crazy.I'm looking for Beatlejuice ...   \n",
       "\n",
       "                                                  cleaned  \n",
       "138706  b'witti littl book make son laugh loud recit c...  \n",
       "138683  b'rememb see show air televis year ago child s...  \n",
       "417839  b'beetlejuic well written movi everyth excel f...  \n",
       "346055  b'twist rumplestiskin captur film star michael...  \n",
       "417838  b'beetlejuic excel funni movi keaton hilari wa...  \n",
       "346116  b'this one movi that should your movi collect ...  \n",
       "346041  b'alway enjoy movi funni entertain didnt hesit...  \n",
       "70688   b'bought apart infest fruit fli after hour tra...  \n",
       "346141  b'what happen say name three time michael keat...  \n",
       "346094  b'get crazi look beatlejuic french version vid...  "
      ]
     },
     "execution_count": 25,
     "metadata": {},
     "output_type": "execute_result"
    }
   ],
   "source": [
    "#replacing positive and negative with 1,0 to make it work for different metrics\n",
    "d=d.replace(['positive','negative'],[1,0])\n",
    "d.head(10)"
   ]
  },
  {
   "cell_type": "markdown",
   "metadata": {},
   "source": [
    "# Bag of words"
   ]
  },
  {
   "cell_type": "code",
   "execution_count": 26,
   "metadata": {},
   "outputs": [],
   "source": [
    "#splitting \n",
    "x_1, x_test, y_1, y_test = train_test_split(d.cleaned.values, d.Score, test_size=0.3, random_state=0,shuffle=False)\n",
    "\n",
    "#x_tr, x_cv, y_tr, y_cv = train_test_split(x_1, y_1, test_size=0.3)"
   ]
  },
  {
   "cell_type": "code",
   "execution_count": 27,
   "metadata": {},
   "outputs": [
    {
     "name": "stdout",
     "output_type": "stream",
     "text": [
      "(254919,) (109252,) (254919,) (109252,)\n"
     ]
    }
   ],
   "source": [
    "print(x_1.shape,x_test.shape,y_1.shape,y_test.shape)"
   ]
  },
  {
   "cell_type": "code",
   "execution_count": 28,
   "metadata": {},
   "outputs": [],
   "source": [
    "#bigrams\n",
    "count_vect=CountVectorizer(ngram_range=(1,2))"
   ]
  },
  {
   "cell_type": "code",
   "execution_count": 29,
   "metadata": {},
   "outputs": [
    {
     "name": "stdout",
     "output_type": "stream",
     "text": [
      "(254919, 2351241) (254919,) (109252, 2351241) (109252,)\n"
     ]
    }
   ],
   "source": [
    "#transforming the data\n",
    "bdata=count_vect.fit_transform(x_1)\n",
    "#preprocessing the data\n",
    "bdata=preprocessing.normalize(bdata)\n",
    "#transforming the data\n",
    "test_data=count_vect.transform(x_test)\n",
    "#preprocessing the data\n",
    "test_data=preprocessing.normalize(test_data)\n",
    "print(bdata.shape,y_1.shape,test_data.shape,y_test.shape)"
   ]
  },
  {
   "cell_type": "code",
   "execution_count": 30,
   "metadata": {},
   "outputs": [
    {
     "name": "stdout",
     "output_type": "stream",
     "text": [
      "Fitting 5 folds for each of 14 candidates, totalling 70 fits\n"
     ]
    },
    {
     "name": "stderr",
     "output_type": "stream",
     "text": [
      "[Parallel(n_jobs=-1)]: Done  34 tasks      | elapsed:  2.6min\n",
      "[Parallel(n_jobs=-1)]: Done  70 out of  70 | elapsed: 12.8min finished\n"
     ]
    },
    {
     "name": "stdout",
     "output_type": "stream",
     "text": [
      "Best HyperParameter:  {'C': 100, 'penalty': 'l2'}\n",
      "best estimator:  LogisticRegression(C=1.0, class_weight=None, dual=False, fit_intercept=True,\n",
      "          intercept_scaling=1, max_iter=100, multi_class='ovr', n_jobs=1,\n",
      "          penalty='l2', random_state=None, solver='liblinear', tol=0.0001,\n",
      "          verbose=0, warm_start=False)\n"
     ]
    }
   ],
   "source": [
    "#using the gridsearchcv for finding the best c\n",
    "lr = LogisticRegression()\n",
    "param_grid = {'C':[0.0001,0.001,0.01,0.1,1,10,100],\"penalty\":[\"l1\",\"l2\"]} \n",
    "#For time based splitting\n",
    "t = TimeSeriesSplit(n_splits=5) \n",
    "    \n",
    "gsv = GridSearchCV(lr,param_grid,cv=t,n_jobs=-1,verbose=1,scoring=\"f1\")\n",
    "gsv.fit(bdata,y_1)\n",
    "print(\"Best HyperParameter: \",gsv.best_params_)\n",
    "#assinging best alpha to optimal print(\"Best Accuracy: %.2f%%\"%(gsv.best_score_*100))\n",
    "print(\"best estimator: \",gsv.estimator)\n",
    "    "
   ]
  },
  {
   "cell_type": "code",
   "execution_count": 31,
   "metadata": {},
   "outputs": [
    {
     "data": {
      "text/plain": [
       "95.9740680876888"
      ]
     },
     "execution_count": 31,
     "metadata": {},
     "output_type": "execute_result"
    }
   ],
   "source": [
    "gsv.best_score_*100"
   ]
  },
  {
   "cell_type": "code",
   "execution_count": 32,
   "metadata": {},
   "outputs": [
    {
     "name": "stderr",
     "output_type": "stream",
     "text": [
      "C:\\Users\\himateja\\Anaconda3\\lib\\site-packages\\sklearn\\utils\\deprecation.py:122: FutureWarning: You are accessing a training score ('split0_train_score'), which will not be available by default any more in 0.21. If you need training scores, please set return_train_score=True\n",
      "  warnings.warn(*warn_args, **warn_kwargs)\n",
      "C:\\Users\\himateja\\Anaconda3\\lib\\site-packages\\sklearn\\utils\\deprecation.py:122: FutureWarning: You are accessing a training score ('split1_train_score'), which will not be available by default any more in 0.21. If you need training scores, please set return_train_score=True\n",
      "  warnings.warn(*warn_args, **warn_kwargs)\n",
      "C:\\Users\\himateja\\Anaconda3\\lib\\site-packages\\sklearn\\utils\\deprecation.py:122: FutureWarning: You are accessing a training score ('split2_train_score'), which will not be available by default any more in 0.21. If you need training scores, please set return_train_score=True\n",
      "  warnings.warn(*warn_args, **warn_kwargs)\n",
      "C:\\Users\\himateja\\Anaconda3\\lib\\site-packages\\sklearn\\utils\\deprecation.py:122: FutureWarning: You are accessing a training score ('split3_train_score'), which will not be available by default any more in 0.21. If you need training scores, please set return_train_score=True\n",
      "  warnings.warn(*warn_args, **warn_kwargs)\n",
      "C:\\Users\\himateja\\Anaconda3\\lib\\site-packages\\sklearn\\utils\\deprecation.py:122: FutureWarning: You are accessing a training score ('split4_train_score'), which will not be available by default any more in 0.21. If you need training scores, please set return_train_score=True\n",
      "  warnings.warn(*warn_args, **warn_kwargs)\n",
      "C:\\Users\\himateja\\Anaconda3\\lib\\site-packages\\sklearn\\utils\\deprecation.py:122: FutureWarning: You are accessing a training score ('mean_train_score'), which will not be available by default any more in 0.21. If you need training scores, please set return_train_score=True\n",
      "  warnings.warn(*warn_args, **warn_kwargs)\n",
      "C:\\Users\\himateja\\Anaconda3\\lib\\site-packages\\sklearn\\utils\\deprecation.py:122: FutureWarning: You are accessing a training score ('std_train_score'), which will not be available by default any more in 0.21. If you need training scores, please set return_train_score=True\n",
      "  warnings.warn(*warn_args, **warn_kwargs)\n"
     ]
    },
    {
     "data": {
      "text/plain": [
       "{'mean_fit_time': array([ 16.63749781,  20.83253603,  23.25176392,  24.08889909,\n",
       "         47.01011367,  35.6068409 ,  54.66903248,  57.00446014,\n",
       "         62.42787461, 103.62524829, 108.52031026, 178.52324286,\n",
       "        157.93410149, 159.81724205]),\n",
       " 'std_fit_time': array([13.39802197,  9.29681063,  9.30139419, 11.0702012 , 21.25689261,\n",
       "        17.83793764, 20.41594066, 26.31793641, 25.54481749, 53.81259925,\n",
       "        45.06210088, 89.72110796, 42.22490133, 44.85393228]),\n",
       " 'mean_score_time': array([0.31299424, 0.7248939 , 0.24830265, 0.19129672, 0.23151498,\n",
       "        0.18702321, 0.22707152, 0.20118022, 0.17680678, 0.2042418 ,\n",
       "        0.20415545, 0.19411001, 0.20534668, 0.11184316]),\n",
       " 'std_score_time': array([0.21530891, 0.65495301, 0.06519058, 0.01489942, 0.03607768,\n",
       "        0.01986659, 0.0695942 , 0.0104857 , 0.0188051 , 0.02787597,\n",
       "        0.04191677, 0.06072975, 0.03496602, 0.07222408]),\n",
       " 'param_C': masked_array(data=[0.0001, 0.0001, 0.001, 0.001, 0.01, 0.01, 0.1, 0.1, 1,\n",
       "                    1, 10, 10, 100, 100],\n",
       "              mask=[False, False, False, False, False, False, False, False,\n",
       "                    False, False, False, False, False, False],\n",
       "        fill_value='?',\n",
       "             dtype=object),\n",
       " 'param_penalty': masked_array(data=['l1', 'l2', 'l1', 'l2', 'l1', 'l2', 'l1', 'l2', 'l1',\n",
       "                    'l2', 'l1', 'l2', 'l1', 'l2'],\n",
       "              mask=[False, False, False, False, False, False, False, False,\n",
       "                    False, False, False, False, False, False],\n",
       "        fill_value='?',\n",
       "             dtype=object),\n",
       " 'params': [{'C': 0.0001, 'penalty': 'l1'},\n",
       "  {'C': 0.0001, 'penalty': 'l2'},\n",
       "  {'C': 0.001, 'penalty': 'l1'},\n",
       "  {'C': 0.001, 'penalty': 'l2'},\n",
       "  {'C': 0.01, 'penalty': 'l1'},\n",
       "  {'C': 0.01, 'penalty': 'l2'},\n",
       "  {'C': 0.1, 'penalty': 'l1'},\n",
       "  {'C': 0.1, 'penalty': 'l2'},\n",
       "  {'C': 1, 'penalty': 'l1'},\n",
       "  {'C': 1, 'penalty': 'l2'},\n",
       "  {'C': 10, 'penalty': 'l1'},\n",
       "  {'C': 10, 'penalty': 'l2'},\n",
       "  {'C': 100, 'penalty': 'l1'},\n",
       "  {'C': 100, 'penalty': 'l2'}],\n",
       " 'split0_test_score': array([0.93038947, 0.93038947, 0.93038947, 0.93038947, 0.93038947,\n",
       "        0.93038947, 0.93636052, 0.93175456, 0.95404711, 0.95064403,\n",
       "        0.9575864 , 0.95804583, 0.95572507, 0.95936398]),\n",
       " 'split1_test_score': array([0.91895881, 0.91895881, 0.91895881, 0.91895881, 0.91895881,\n",
       "        0.91895881, 0.93646412, 0.93053349, 0.95476113, 0.95143193,\n",
       "        0.95546238, 0.95852223, 0.95313078, 0.95913908]),\n",
       " 'split2_test_score': array([0.91142484, 0.91142484, 0.91142484, 0.91142484, 0.91187366,\n",
       "        0.91142484, 0.93707453, 0.93265451, 0.95358916, 0.95039996,\n",
       "        0.95598147, 0.95788098, 0.95357088, 0.95880357]),\n",
       " 'split3_test_score': array([0.90923095, 0.90923095, 0.90923095, 0.90923095, 0.9114374 ,\n",
       "        0.90942941, 0.94156116, 0.93668929, 0.95661665, 0.95406399,\n",
       "        0.95810087, 0.96035352, 0.95479665, 0.96077969]),\n",
       " 'split4_test_score': array([0.90377098, 0.90377098, 0.90377098, 0.90377098, 0.91037699,\n",
       "        0.90546428, 0.94299395, 0.93860694, 0.95648161, 0.95483799,\n",
       "        0.95743481, 0.96008633, 0.95441108, 0.96061709]),\n",
       " 'mean_test_score': array([0.91475501, 0.91475501, 0.91475501, 0.91475501, 0.91660727,\n",
       "        0.91513336, 0.93889086, 0.93404776, 0.95509913, 0.95227558,\n",
       "        0.95691319, 0.95897778, 0.95432689, 0.95974068]),\n",
       " 'std_test_score': array([0.00921263, 0.00921263, 0.00921263, 0.00921263, 0.00752901,\n",
       "        0.00879957, 0.00281271, 0.00307616, 0.00124219, 0.00182516,\n",
       "        0.00101083, 0.00103929, 0.00091487, 0.00080369]),\n",
       " 'rank_test_score': array([11, 11, 11, 11,  9, 10,  7,  8,  4,  6,  3,  2,  5,  1]),\n",
       " 'split0_train_score': array([0.94170392, 0.94170392, 0.94170392, 0.94170392, 0.94170392,\n",
       "        0.94170392, 0.94682908, 0.94349888, 0.9649202 , 0.96682452,\n",
       "        0.99457252, 0.99419836, 1.        , 1.        ]),\n",
       " 'split1_train_score': array([0.93607698, 0.93607698, 0.93607698, 0.93607698, 0.93607698,\n",
       "        0.93607698, 0.94951653, 0.9453562 , 0.96513281, 0.96780545,\n",
       "        0.99423013, 0.99320841, 0.99998662, 0.99997325]),\n",
       " 'split2_train_score': array([0.93043161, 0.93043161, 0.93043161, 0.93043161, 0.93067379,\n",
       "        0.93043161, 0.94999892, 0.94674546, 0.96460334, 0.96760948,\n",
       "        0.99404104, 0.99226085, 0.99999098, 0.99997745]),\n",
       " 'split3_train_score': array([0.9257425 , 0.9257425 , 0.9257425 , 0.9257425 , 0.9272306 ,\n",
       "        0.92586786, 0.95028654, 0.94776761, 0.96406704, 0.96729214,\n",
       "        0.99369203, 0.99164274, 0.99999317, 0.9999761 ]),\n",
       " 'split4_train_score': array([0.92248034, 0.92248034, 0.92248034, 0.92248034, 0.92630843,\n",
       "        0.92338001, 0.95079841, 0.94875985, 0.96405421, 0.96717254,\n",
       "        0.99369204, 0.99119119, 0.99999175, 0.99997526]),\n",
       " 'mean_train_score': array([0.93128707, 0.93128707, 0.93128707, 0.93128707, 0.93239874,\n",
       "        0.93149208, 0.94948589, 0.9464256 , 0.96455552, 0.96734083,\n",
       "        0.99404555, 0.99250031, 0.99999251, 0.99998041]),\n",
       " 'std_train_score': array([6.93522268e-03, 6.93522268e-03, 6.93522268e-03, 6.93522268e-03,\n",
       "        5.77741960e-03, 6.69126518e-03, 1.39186804e-03, 1.84723452e-03,\n",
       "        4.37827385e-04, 3.42143506e-04, 3.35179906e-04, 1.08548268e-03,\n",
       "        4.33786040e-06, 9.88827542e-06])}"
      ]
     },
     "execution_count": 32,
     "metadata": {},
     "output_type": "execute_result"
    }
   ],
   "source": [
    "gsv.cv_results_"
   ]
  },
  {
   "cell_type": "markdown",
   "metadata": {},
   "source": [
    "we can see that l1 and l2 are alternatively executed . so , lets separate the values."
   ]
  },
  {
   "cell_type": "code",
   "execution_count": 33,
   "metadata": {},
   "outputs": [
    {
     "name": "stdout",
     "output_type": "stream",
     "text": [
      "[0.08524499261752805, 0.08524499261752805, 0.08339273461120578, 0.06110914246917176, 0.04490086725962483, 0.04308681209550935, 0.04567310934270652]\n",
      "\n",
      "\n",
      "\n",
      "[0.08524499261752805, 0.08524499261752805, 0.0848666413108411, 0.06595224081153384, 0.04772442038977054, 0.041022223684298975, 0.04025931912311187]\n"
     ]
    }
   ],
   "source": [
    "#separating the regularization values\n",
    "mean_test_score=gsv.cv_results_[\"mean_test_score\"]\n",
    "mean_test_score=1-mean_test_score\n",
    "y_l1=[]\n",
    "y_l2=[]\n",
    "for i in mean_test_score[0:14:2]:\n",
    "    y_l1.append(i)\n",
    "for i in mean_test_score[1:14:2]:\n",
    "    y_l2.append(i)\n",
    "print(y_l1)\n",
    "print(\"\\n\\n\")\n",
    "print(y_l2)"
   ]
  },
  {
   "cell_type": "code",
   "execution_count": 34,
   "metadata": {},
   "outputs": [
    {
     "data": {
      "image/png": "[encoded data removed]",
      "text/plain": [
       "<Figure size 432x288 with 1 Axes>"
      ]
     },
     "metadata": {},
     "output_type": "display_data"
    }
   ],
   "source": [
    "#plotting the error\n",
    "x=param_grid[\"C\"]\n",
    "plt.plot(x,y_l1,\"b\",label=\"L1\")\n",
    "plt.plot(x,y_l2,\"g\",label=\"L2\")\n",
    "plt.xlabel(\"C\")\n",
    "plt.ylabel(\"error\")\n",
    "plt.title(\"error plot\")\n",
    "plt.legend()\n",
    "plt.show()"
   ]
  },
  {
   "cell_type": "markdown",
   "metadata": {},
   "source": [
    "now lets test the optimal value on test data"
   ]
  },
  {
   "cell_type": "code",
   "execution_count": 35,
   "metadata": {},
   "outputs": [
    {
     "data": {
      "text/plain": [
       "LogisticRegression(C=100, class_weight=None, dual=False, fit_intercept=True,\n",
       "          intercept_scaling=1, max_iter=100, multi_class='ovr', n_jobs=1,\n",
       "          penalty='l2', random_state=None, solver='liblinear', tol=0.0001,\n",
       "          verbose=0, warm_start=False)"
      ]
     },
     "execution_count": 35,
     "metadata": {},
     "output_type": "execute_result"
    }
   ],
   "source": [
    "lr=LogisticRegression(C=100,penalty=\"l2\")\n",
    "lr.fit(bdata,y_1)"
   ]
  },
  {
   "cell_type": "code",
   "execution_count": 36,
   "metadata": {},
   "outputs": [],
   "source": [
    "pred=lr.predict(test_data)"
   ]
  },
  {
   "cell_type": "code",
   "execution_count": 37,
   "metadata": {},
   "outputs": [
    {
     "name": "stdout",
     "output_type": "stream",
     "text": [
      "\n",
      "the accuracy is 93.38%\n",
      "\n",
      "the recall is 97.37%\n",
      "the precision is 94.76%\n",
      "the f1 score is 96.05%\n"
     ]
    },
    {
     "data": {
      "text/plain": [
       "<matplotlib.axes._subplots.AxesSubplot at 0x28c19a5d710>"
      ]
     },
     "execution_count": 37,
     "metadata": {},
     "output_type": "execute_result"
    },
    {
     "data": {
      "image/png": "[encoded data removed]",
      "text/plain": [
       "<Figure size 432x288 with 2 Axes>"
      ]
     },
     "metadata": {},
     "output_type": "display_data"
    }
   ],
   "source": [
    "#different metrics\n",
    "acc=accuracy_score(y_test,pred)*100\n",
    "print(\"\\nthe accuracy is %.2f%%\"%acc)\n",
    "    \n",
    "re=recall_score(y_test,pred,) * 100\n",
    "print(\"\\nthe recall is %.2f%%\"%re)\n",
    "    \n",
    "pre=precision_score(y_test,pred) * 100\n",
    "print(\"the precision is %.2f%%\"%pre)\n",
    "    \n",
    "f1=f1_score(y_test,pred) * 100\n",
    "print(\"the f1 score is %.2f%%\"%f1)\n",
    "\n",
    "df_cm=pd.DataFrame(confusion_matrix(y_test,pred))\n",
    "#sns.set(font_scale=1.4)\n",
    "sns.heatmap(df_cm,annot=True,fmt=\"d\")"
   ]
  },
  {
   "cell_type": "code",
   "execution_count": 38,
   "metadata": {},
   "outputs": [
    {
     "data": {
      "text/html": [
       "<div>\n",
       "<style scoped>\n",
       "    .dataframe tbody tr th:only-of-type {\n",
       "        vertical-align: middle;\n",
       "    }\n",
       "\n",
       "    .dataframe tbody tr th {\n",
       "        vertical-align: top;\n",
       "    }\n",
       "\n",
       "    .dataframe thead th {\n",
       "        text-align: right;\n",
       "    }\n",
       "</style>\n",
       "<table border=\"1\" class=\"dataframe\">\n",
       "  <thead>\n",
       "    <tr style=\"text-align: right;\">\n",
       "      <th></th>\n",
       "      <th>score</th>\n",
       "    </tr>\n",
       "  </thead>\n",
       "  <tbody>\n",
       "    <tr>\n",
       "      <th>accuracy</th>\n",
       "      <td>93.38%</td>\n",
       "    </tr>\n",
       "    <tr>\n",
       "      <th>recall</th>\n",
       "      <td>97.37%</td>\n",
       "    </tr>\n",
       "    <tr>\n",
       "      <th>precision</th>\n",
       "      <td>94.76</td>\n",
       "    </tr>\n",
       "    <tr>\n",
       "      <th>f1</th>\n",
       "      <td>96.05%</td>\n",
       "    </tr>\n",
       "  </tbody>\n",
       "</table>\n",
       "</div>"
      ],
      "text/plain": [
       "            score\n",
       "accuracy   93.38%\n",
       "recall     97.37%\n",
       "precision   94.76\n",
       "f1         96.05%"
      ]
     },
     "execution_count": 38,
     "metadata": {},
     "output_type": "execute_result"
    }
   ],
   "source": [
    "scoring_data=pd.DataFrame({\"accuracy\":\"93.38%\",\"recall\":\"97.37%\",\"precision\":\"94.76\",\"f1\":\"96.05%\"},index=[\"score\"])\n",
    "scoring_data.T"
   ]
  },
  {
   "cell_type": "markdown",
   "metadata": {},
   "source": [
    "Lets see what happens to sparsity when lambda increases (c decreases) with L1 regularization"
   ]
  },
  {
   "cell_type": "code",
   "execution_count": 39,
   "metadata": {},
   "outputs": [
    {
     "data": {
      "text/plain": [
       "2635"
      ]
     },
     "execution_count": 39,
     "metadata": {},
     "output_type": "execute_result"
    }
   ],
   "source": [
    "lr=LogisticRegression(C=1,penalty=\"l1\")\n",
    "lr.fit(bdata,y_1)\n",
    "np.count_nonzero(lr.coef_)"
   ]
  },
  {
   "cell_type": "code",
   "execution_count": 40,
   "metadata": {},
   "outputs": [
    {
     "data": {
      "text/plain": [
       "453"
      ]
     },
     "execution_count": 40,
     "metadata": {},
     "output_type": "execute_result"
    }
   ],
   "source": [
    "lr=LogisticRegression(C=0.1,penalty=\"l1\")\n",
    "lr.fit(bdata,y_1)\n",
    "np.count_nonzero(lr.coef_)"
   ]
  },
  {
   "cell_type": "code",
   "execution_count": 41,
   "metadata": {},
   "outputs": [
    {
     "data": {
      "text/plain": [
       "57"
      ]
     },
     "execution_count": 41,
     "metadata": {},
     "output_type": "execute_result"
    }
   ],
   "source": [
    "lr=LogisticRegression(C=0.01,penalty=\"l1\")\n",
    "lr.fit(bdata,y_1)\n",
    "np.count_nonzero(lr.coef_)"
   ]
  },
  {
   "cell_type": "code",
   "execution_count": 42,
   "metadata": {},
   "outputs": [
    {
     "data": {
      "text/plain": [
       "1"
      ]
     },
     "execution_count": 42,
     "metadata": {},
     "output_type": "execute_result"
    }
   ],
   "source": [
    "lr=LogisticRegression(C=0.001,penalty=\"l1\")\n",
    "lr.fit(bdata,y_1)\n",
    "np.count_nonzero(lr.coef_)"
   ]
  },
  {
   "cell_type": "markdown",
   "metadata": {},
   "source": [
    "sparsity increases with increase in lambda(decrease in C)"
   ]
  },
  {
   "cell_type": "code",
   "execution_count": 116,
   "metadata": {},
   "outputs": [
    {
     "name": "stdout",
     "output_type": "stream",
     "text": [
      "Fitting 5 folds for each of 10 candidates, totalling 50 fits\n"
     ]
    },
    {
     "name": "stderr",
     "output_type": "stream",
     "text": [
      "[Parallel(n_jobs=-1)]: Done  34 tasks      | elapsed: 14.9min\n",
      "[Parallel(n_jobs=-1)]: Done  50 out of  50 | elapsed: 20.1min finished\n"
     ]
    },
    {
     "name": "stdout",
     "output_type": "stream",
     "text": [
      "Best HyperParameter:  {'C': 79, 'penalty': 'l2'}\n",
      "best estimator:  LogisticRegression(C=1.0, class_weight=None, dual=False, fit_intercept=True,\n",
      "          intercept_scaling=1, max_iter=100, multi_class='ovr', n_jobs=1,\n",
      "          penalty='l2', random_state=None, solver='liblinear', tol=0.0001,\n",
      "          verbose=0, warm_start=False)\n"
     ]
    }
   ],
   "source": [
    "#randomizedsearchcv is used to find optimal c and regulariztion\n",
    "lr = LogisticRegression()\n",
    "param_grid = {'C':randint(10**-2, 10**2),\"penalty\":[\"l1\",\"l2\"]} \n",
    "#For time based splitting\n",
    "t = TimeSeriesSplit(n_splits=5) \n",
    "    \n",
    "rsv = RandomizedSearchCV(lr,param_grid,cv=t,n_jobs=-1,verbose=1)\n",
    "rsv.fit(bdata,y_1)\n",
    "print(\"Best HyperParameter: \",rsv.best_params_)\n",
    "#assinging best alpha to optimal print(\"Best Accuracy: %.2f%%\"%(gsv.best_score_*100))\n",
    "print(\"best estimator: \",rsv.estimator)"
   ]
  },
  {
   "cell_type": "markdown",
   "metadata": {},
   "source": [
    "# Pertubation test\n",
    "<br>This test is for multicollinearity check"
   ]
  },
  {
   "cell_type": "code",
   "execution_count": 43,
   "metadata": {},
   "outputs": [
    {
     "data": {
      "text/plain": [
       "LogisticRegression(C=1.0, class_weight=None, dual=False, fit_intercept=True,\n",
       "          intercept_scaling=1, max_iter=100, multi_class='ovr', n_jobs=1,\n",
       "          penalty='l2', random_state=None, solver='liblinear', tol=0.0001,\n",
       "          verbose=0, warm_start=False)"
      ]
     },
     "execution_count": 43,
     "metadata": {},
     "output_type": "execute_result"
    }
   ],
   "source": [
    "#the data before adding noise\n",
    "clf=LogisticRegression()\n",
    "clf.fit(bdata,y_1)\n"
   ]
  },
  {
   "cell_type": "code",
   "execution_count": 44,
   "metadata": {},
   "outputs": [
    {
     "data": {
      "text/plain": [
       "2351241"
      ]
     },
     "execution_count": 44,
     "metadata": {},
     "output_type": "execute_result"
    }
   ],
   "source": [
    "np.count_nonzero(clf.coef_)"
   ]
  },
  {
   "cell_type": "code",
   "execution_count": 59,
   "metadata": {},
   "outputs": [
    {
     "name": "stdout",
     "output_type": "stream",
     "text": [
      "[ 2.95206467e-02  2.92571924e-02  2.63454358e-04  1.61430043e-01\n",
      "  1.15755606e-01  3.77762247e-03 -2.40949890e-02  2.48134930e-03\n",
      "  6.32093536e-03  2.82106843e-03  1.56434515e-03  5.28477633e-04\n",
      "  3.84257308e-02  1.56737879e-04  1.29260824e-03  1.29260824e-03\n",
      "  6.07704500e-03  6.07704500e-03  9.78693576e-05  9.78693576e-05]\n"
     ]
    }
   ],
   "source": [
    "wt_test=find(clf.coef_)[2]\n",
    "print(wt_test[0:20])"
   ]
  },
  {
   "cell_type": "code",
   "execution_count": 54,
   "metadata": {},
   "outputs": [
    {
     "name": "stdout",
     "output_type": "stream",
     "text": [
      "[-5.63431474e-04 -1.93660834e-04 -5.35740061e-04 ...  9.67153780e-04\n",
      "  3.86172824e-05 -1.22587320e-04]\n"
     ]
    }
   ],
   "source": [
    "#randomling getting noise for all nonzero values\n",
    "bdata_t=bdata\n",
    "epsilon = np.random.uniform(low=-0.001, high=0.001, size=(find(bdata_t)[0].size,))\n",
    "i,j,v=find(bdata_t)\n",
    "print(epsilon)"
   ]
  },
  {
   "cell_type": "code",
   "execution_count": 55,
   "metadata": {},
   "outputs": [
    {
     "data": {
      "text/plain": [
       "18114878"
      ]
     },
     "execution_count": 55,
     "metadata": {},
     "output_type": "execute_result"
    }
   ],
   "source": [
    "find(bdata_t)[0].size"
   ]
  },
  {
   "cell_type": "code",
   "execution_count": 121,
   "metadata": {},
   "outputs": [],
   "source": [
    "#adding the noise to nonzero value\n",
    "bdata_t[i,j] = epsilon + bdata_t[i,j]"
   ]
  },
  {
   "cell_type": "code",
   "execution_count": 122,
   "metadata": {},
   "outputs": [
    {
     "data": {
      "text/plain": [
       "LogisticRegression(C=1.0, class_weight=None, dual=False, fit_intercept=True,\n",
       "          intercept_scaling=1, max_iter=100, multi_class='ovr', n_jobs=1,\n",
       "          penalty='l2', random_state=None, solver='liblinear', tol=0.0001,\n",
       "          verbose=0, warm_start=False)"
      ]
     },
     "execution_count": 122,
     "metadata": {},
     "output_type": "execute_result"
    }
   ],
   "source": [
    "#the data after adding noise\n",
    "cl=LogisticRegression()\n",
    "cl.fit(bdata_t,y_1)\n"
   ]
  },
  {
   "cell_type": "code",
   "execution_count": 123,
   "metadata": {},
   "outputs": [
    {
     "data": {
      "text/plain": [
       "2351241"
      ]
     },
     "execution_count": 123,
     "metadata": {},
     "output_type": "execute_result"
    }
   ],
   "source": [
    "np.count_nonzero(cl.coef_)"
   ]
  },
  {
   "cell_type": "code",
   "execution_count": 124,
   "metadata": {},
   "outputs": [
    {
     "name": "stdout",
     "output_type": "stream",
     "text": [
      "[ 2.95171555e-02  2.93880598e-02  2.55116481e-04  1.61207681e-01\n",
      "  1.15946295e-01  3.77784478e-03 -2.39667566e-02  2.44735048e-03\n",
      "  6.33426888e-03  2.77482622e-03  1.54081980e-03  5.32318649e-04\n",
      "  3.83345599e-02  1.57880619e-04  1.31856287e-03  1.31021722e-03\n",
      "  5.99185334e-03  5.98170349e-03  9.69787143e-05  9.73391520e-05]\n"
     ]
    }
   ],
   "source": [
    "wt_test_noise=find(cl.coef_[0])[2]\n",
    "print(wt_test_noise[0:20])"
   ]
  },
  {
   "cell_type": "markdown",
   "metadata": {},
   "source": [
    "As the difference between the values is not significant , features are not multicollinear"
   ]
  },
  {
   "cell_type": "markdown",
   "metadata": {},
   "source": [
    "# Feature importance\n",
    "<br>as the features are not mutlicollinear , we can use l1 regularization to get imp features"
   ]
  },
  {
   "cell_type": "code",
   "execution_count": 125,
   "metadata": {},
   "outputs": [],
   "source": [
    "countvect=CountVectorizer(ngram_range=(1,2),stop_words=\"english\",analyzer='word')\n",
    "feature_data=countvect.fit_transform(x_1)\n",
    "all_feat = countvect.get_feature_names()"
   ]
  },
  {
   "cell_type": "code",
   "execution_count": 126,
   "metadata": {},
   "outputs": [
    {
     "data": {
      "text/plain": [
       "LogisticRegression(C=1, class_weight=None, dual=False, fit_intercept=True,\n",
       "          intercept_scaling=1, max_iter=100, multi_class='ovr', n_jobs=1,\n",
       "          penalty='l1', random_state=None, solver='liblinear', tol=0.0001,\n",
       "          verbose=0, warm_start=False)"
      ]
     },
     "execution_count": 126,
     "metadata": {},
     "output_type": "execute_result"
    }
   ],
   "source": [
    "clf=LogisticRegression(C=1,penalty=\"l1\")\n",
    "clf.fit(feature_data,y_1)"
   ]
  },
  {
   "cell_type": "code",
   "execution_count": 127,
   "metadata": {},
   "outputs": [
    {
     "data": {
      "text/plain": [
       "(1, 2209266)"
      ]
     },
     "execution_count": 127,
     "metadata": {},
     "output_type": "execute_result"
    }
   ],
   "source": [
    "#shape of the array\n",
    "clf.coef_.shape"
   ]
  },
  {
   "cell_type": "code",
   "execution_count": 128,
   "metadata": {},
   "outputs": [],
   "source": [
    "#converting the array to one dimensional\n",
    "check=clf.coef_.ravel()"
   ]
  },
  {
   "cell_type": "code",
   "execution_count": 129,
   "metadata": {},
   "outputs": [
    {
     "data": {
      "text/html": [
       "<div>\n",
       "<style scoped>\n",
       "    .dataframe tbody tr th:only-of-type {\n",
       "        vertical-align: middle;\n",
       "    }\n",
       "\n",
       "    .dataframe tbody tr th {\n",
       "        vertical-align: top;\n",
       "    }\n",
       "\n",
       "    .dataframe thead th {\n",
       "        text-align: right;\n",
       "    }\n",
       "</style>\n",
       "<table border=\"1\" class=\"dataframe\">\n",
       "  <thead>\n",
       "    <tr style=\"text-align: right;\">\n",
       "      <th></th>\n",
       "      <th>word</th>\n",
       "      <th>coef_</th>\n",
       "    </tr>\n",
       "  </thead>\n",
       "  <tbody>\n",
       "    <tr>\n",
       "      <th>0</th>\n",
       "      <td>aa</td>\n",
       "      <td>0.000000</td>\n",
       "    </tr>\n",
       "    <tr>\n",
       "      <th>1</th>\n",
       "      <td>aa pleas</td>\n",
       "      <td>0.000000</td>\n",
       "    </tr>\n",
       "    <tr>\n",
       "      <th>2</th>\n",
       "      <td>aa state</td>\n",
       "      <td>0.000000</td>\n",
       "    </tr>\n",
       "    <tr>\n",
       "      <th>3</th>\n",
       "      <td>aaa</td>\n",
       "      <td>0.028596</td>\n",
       "    </tr>\n",
       "  </tbody>\n",
       "</table>\n",
       "</div>"
      ],
      "text/plain": [
       "       word     coef_\n",
       "0        aa  0.000000\n",
       "1  aa pleas  0.000000\n",
       "2  aa state  0.000000\n",
       "3       aaa  0.028596"
      ]
     },
     "execution_count": 129,
     "metadata": {},
     "output_type": "execute_result"
    }
   ],
   "source": [
    "#creating the dataframe for features importance\n",
    "feature_importance=pd.DataFrame({\"word\":all_feat,\"coef_\":check})\n",
    "feature_importance.head(4)"
   ]
  },
  {
   "cell_type": "code",
   "execution_count": 130,
   "metadata": {},
   "outputs": [
    {
     "data": {
      "text/html": [
       "<div>\n",
       "<style scoped>\n",
       "    .dataframe tbody tr th:only-of-type {\n",
       "        vertical-align: middle;\n",
       "    }\n",
       "\n",
       "    .dataframe tbody tr th {\n",
       "        vertical-align: top;\n",
       "    }\n",
       "\n",
       "    .dataframe thead th {\n",
       "        text-align: right;\n",
       "    }\n",
       "</style>\n",
       "<table border=\"1\" class=\"dataframe\">\n",
       "  <thead>\n",
       "    <tr style=\"text-align: right;\">\n",
       "      <th></th>\n",
       "      <th>word</th>\n",
       "      <th>coef_</th>\n",
       "    </tr>\n",
       "  </thead>\n",
       "  <tbody>\n",
       "    <tr>\n",
       "      <th>205612</th>\n",
       "      <td>bonsai today</td>\n",
       "      <td>6.236173</td>\n",
       "    </tr>\n",
       "    <tr>\n",
       "      <th>757031</th>\n",
       "      <td>food beverag</td>\n",
       "      <td>4.913268</td>\n",
       "    </tr>\n",
       "    <tr>\n",
       "      <th>632314</th>\n",
       "      <td>emeraldforest</td>\n",
       "      <td>4.634703</td>\n",
       "    </tr>\n",
       "    <tr>\n",
       "      <th>2170887</th>\n",
       "      <td>wont sorri</td>\n",
       "      <td>4.536133</td>\n",
       "    </tr>\n",
       "    <tr>\n",
       "      <th>1821192</th>\n",
       "      <td>spoke someon</td>\n",
       "      <td>4.239659</td>\n",
       "    </tr>\n",
       "    <tr>\n",
       "      <th>445276</th>\n",
       "      <td>correct mistak</td>\n",
       "      <td>4.223517</td>\n",
       "    </tr>\n",
       "    <tr>\n",
       "      <th>492910</th>\n",
       "      <td>damag contain</td>\n",
       "      <td>4.200272</td>\n",
       "    </tr>\n",
       "    <tr>\n",
       "      <th>1851394</th>\n",
       "      <td>stick wont</td>\n",
       "      <td>4.184966</td>\n",
       "    </tr>\n",
       "    <tr>\n",
       "      <th>963200</th>\n",
       "      <td>illi brand</td>\n",
       "      <td>4.107079</td>\n",
       "    </tr>\n",
       "    <tr>\n",
       "      <th>1855900</th>\n",
       "      <td>stomach bad</td>\n",
       "      <td>3.997220</td>\n",
       "    </tr>\n",
       "  </tbody>\n",
       "</table>\n",
       "</div>"
      ],
      "text/plain": [
       "                   word     coef_\n",
       "205612     bonsai today  6.236173\n",
       "757031     food beverag  4.913268\n",
       "632314    emeraldforest  4.634703\n",
       "2170887      wont sorri  4.536133\n",
       "1821192    spoke someon  4.239659\n",
       "445276   correct mistak  4.223517\n",
       "492910    damag contain  4.200272\n",
       "1851394      stick wont  4.184966\n",
       "963200       illi brand  4.107079\n",
       "1855900     stomach bad  3.997220"
      ]
     },
     "execution_count": 130,
     "metadata": {},
     "output_type": "execute_result"
    }
   ],
   "source": [
    "#sorting in the descending order\n",
    "feature_importance.sort_values(by=\"coef_\",ascending=False,inplace=True)\n",
    "feature_importance.head(10)"
   ]
  },
  {
   "cell_type": "code",
   "execution_count": 131,
   "metadata": {},
   "outputs": [
    {
     "data": {
      "text/plain": [
       "Text(0.5,1,'important positive features ')"
      ]
     },
     "execution_count": 131,
     "metadata": {},
     "output_type": "execute_result"
    },
    {
     "data": {
      "image/png": "[encoded data removed]",
      "text/plain": [
       "<Figure size 432x288 with 1 Axes>"
      ]
     },
     "metadata": {},
     "output_type": "display_data"
    }
   ],
   "source": [
    "#visualising positive features\n",
    "sns.barplot(y='word', x='coef_', data=feature_importance.head(20), palette=\"Blues_d\").set_title('important positive features ')"
   ]
  },
  {
   "cell_type": "code",
   "execution_count": 132,
   "metadata": {},
   "outputs": [
    {
     "data": {
      "text/plain": [
       "Text(0.5,1,'important negative features')"
      ]
     },
     "execution_count": 132,
     "metadata": {},
     "output_type": "execute_result"
    },
    {
     "data": {
      "image/png": "[encoded data removed]",
      "text/plain": [
       "<Figure size 432x288 with 1 Axes>"
      ]
     },
     "metadata": {},
     "output_type": "display_data"
    }
   ],
   "source": [
    "#visualing the negative features\n",
    "sns.barplot(y='word', x='coef_', data=feature_importance.tail(20), palette=\"Greens_d\").set_title('important negative features')"
   ]
  },
  {
   "cell_type": "code",
   "execution_count": 133,
   "metadata": {},
   "outputs": [
    {
     "data": {
      "text/html": [
       "<div>\n",
       "<style scoped>\n",
       "    .dataframe tbody tr th:only-of-type {\n",
       "        vertical-align: middle;\n",
       "    }\n",
       "\n",
       "    .dataframe tbody tr th {\n",
       "        vertical-align: top;\n",
       "    }\n",
       "\n",
       "    .dataframe thead th {\n",
       "        text-align: right;\n",
       "    }\n",
       "</style>\n",
       "<table border=\"1\" class=\"dataframe\">\n",
       "  <thead>\n",
       "    <tr style=\"text-align: right;\">\n",
       "      <th></th>\n",
       "      <th>C</th>\n",
       "      <th>regularization</th>\n",
       "    </tr>\n",
       "  </thead>\n",
       "  <tbody>\n",
       "    <tr>\n",
       "      <th>gridsearchcv</th>\n",
       "      <td>100</td>\n",
       "      <td>L2</td>\n",
       "    </tr>\n",
       "    <tr>\n",
       "      <th>randomizedsearchcv</th>\n",
       "      <td>90</td>\n",
       "      <td>L2</td>\n",
       "    </tr>\n",
       "  </tbody>\n",
       "</table>\n",
       "</div>"
      ],
      "text/plain": [
       "                      C regularization\n",
       "gridsearchcv        100             L2\n",
       "randomizedsearchcv   90             L2"
      ]
     },
     "execution_count": 133,
     "metadata": {},
     "output_type": "execute_result"
    }
   ],
   "source": [
    "summary=pd.DataFrame({\"gridsearchcv\":[\"100\",\"L2\"],\"randomizedsearchcv\":[\"90\",\"L2\"]},index=[\"C\",\"regularization\"])\n",
    "summary.T"
   ]
  },
  {
   "cell_type": "markdown",
   "metadata": {},
   "source": [
    "The model performs good for bag of words"
   ]
  },
  {
   "cell_type": "markdown",
   "metadata": {},
   "source": [
    "# Tfidf"
   ]
  },
  {
   "cell_type": "code",
   "execution_count": 26,
   "metadata": {},
   "outputs": [],
   "source": [
    "from sklearn.feature_extraction.text import TfidfVectorizer"
   ]
  },
  {
   "cell_type": "code",
   "execution_count": 27,
   "metadata": {},
   "outputs": [],
   "source": [
    "#splitting\n",
    "x_1, x_test, y_1, y_test = train_test_split(d.cleaned.values, d.Score, test_size=0.3, random_state=0,shuffle=False)\n"
   ]
  },
  {
   "cell_type": "code",
   "execution_count": 28,
   "metadata": {},
   "outputs": [],
   "source": [
    "tfidf=TfidfVectorizer(ngram_range=(1,2))"
   ]
  },
  {
   "cell_type": "code",
   "execution_count": 72,
   "metadata": {},
   "outputs": [
    {
     "name": "stdout",
     "output_type": "stream",
     "text": [
      "(254919, 2351241) (109252, 2351241)\n"
     ]
    }
   ],
   "source": [
    "#transforming the data and normalizing\n",
    "tdata=tfidf.fit_transform(x_1)\n",
    "tdata=preprocessing.normalize(tdata)\n",
    "test_data=tfidf.transform(x_test)\n",
    "test_data=preprocessing.normalize(test_data)\n",
    "print(tdata.shape,test_data.shape)"
   ]
  },
  {
   "cell_type": "code",
   "execution_count": 138,
   "metadata": {},
   "outputs": [
    {
     "name": "stdout",
     "output_type": "stream",
     "text": [
      "Fitting 5 folds for each of 14 candidates, totalling 70 fits\n"
     ]
    },
    {
     "name": "stderr",
     "output_type": "stream",
     "text": [
      "[Parallel(n_jobs=-1)]: Done  34 tasks      | elapsed:  2.0min\n",
      "[Parallel(n_jobs=-1)]: Done  70 out of  70 | elapsed:  9.1min finished\n"
     ]
    },
    {
     "name": "stdout",
     "output_type": "stream",
     "text": [
      "Best HyperParameter:  {'C': 100, 'penalty': 'l2'}\n",
      "best estimator:  LogisticRegression(C=1.0, class_weight=None, dual=False, fit_intercept=True,\n",
      "          intercept_scaling=1, max_iter=100, multi_class='ovr', n_jobs=1,\n",
      "          penalty='l2', random_state=None, solver='liblinear', tol=0.0001,\n",
      "          verbose=0, warm_start=False)\n"
     ]
    }
   ],
   "source": [
    "#gridsearchcv for finding optimal c\n",
    "lr = LogisticRegression()\n",
    "param_grid = {'C':[0.0001,0.001,0.01,0.1,1,10,100],\"penalty\":[\"l1\",\"l2\"]} \n",
    "#For time based splitting\n",
    "t = TimeSeriesSplit(n_splits=5) \n",
    "    \n",
    "gsv = GridSearchCV(lr,param_grid,cv=t,n_jobs=-1,verbose=1,scoring=\"f1\")\n",
    "gsv.fit(tdata,y_1)\n",
    "print(\"Best HyperParameter: \",gsv.best_params_)\n",
    "#assinging best alpha to optimal print(\"Best Accuracy: %.2f%%\"%(gsv.best_score_*100))\n",
    "print(\"best estimator: \",gsv.estimator)\n",
    "    "
   ]
  },
  {
   "cell_type": "code",
   "execution_count": 139,
   "metadata": {},
   "outputs": [
    {
     "data": {
      "text/plain": [
       "95.881560903948"
      ]
     },
     "execution_count": 139,
     "metadata": {},
     "output_type": "execute_result"
    }
   ],
   "source": [
    "gsv.best_score_*100"
   ]
  },
  {
   "cell_type": "code",
   "execution_count": 140,
   "metadata": {},
   "outputs": [
    {
     "name": "stderr",
     "output_type": "stream",
     "text": [
      "C:\\Users\\himateja\\Anaconda3\\lib\\site-packages\\sklearn\\utils\\deprecation.py:122: FutureWarning: You are accessing a training score ('split0_train_score'), which will not be available by default any more in 0.21. If you need training scores, please set return_train_score=True\n",
      "  warnings.warn(*warn_args, **warn_kwargs)\n",
      "C:\\Users\\himateja\\Anaconda3\\lib\\site-packages\\sklearn\\utils\\deprecation.py:122: FutureWarning: You are accessing a training score ('split1_train_score'), which will not be available by default any more in 0.21. If you need training scores, please set return_train_score=True\n",
      "  warnings.warn(*warn_args, **warn_kwargs)\n",
      "C:\\Users\\himateja\\Anaconda3\\lib\\site-packages\\sklearn\\utils\\deprecation.py:122: FutureWarning: You are accessing a training score ('split2_train_score'), which will not be available by default any more in 0.21. If you need training scores, please set return_train_score=True\n",
      "  warnings.warn(*warn_args, **warn_kwargs)\n",
      "C:\\Users\\himateja\\Anaconda3\\lib\\site-packages\\sklearn\\utils\\deprecation.py:122: FutureWarning: You are accessing a training score ('split3_train_score'), which will not be available by default any more in 0.21. If you need training scores, please set return_train_score=True\n",
      "  warnings.warn(*warn_args, **warn_kwargs)\n",
      "C:\\Users\\himateja\\Anaconda3\\lib\\site-packages\\sklearn\\utils\\deprecation.py:122: FutureWarning: You are accessing a training score ('split4_train_score'), which will not be available by default any more in 0.21. If you need training scores, please set return_train_score=True\n",
      "  warnings.warn(*warn_args, **warn_kwargs)\n",
      "C:\\Users\\himateja\\Anaconda3\\lib\\site-packages\\sklearn\\utils\\deprecation.py:122: FutureWarning: You are accessing a training score ('mean_train_score'), which will not be available by default any more in 0.21. If you need training scores, please set return_train_score=True\n",
      "  warnings.warn(*warn_args, **warn_kwargs)\n",
      "C:\\Users\\himateja\\Anaconda3\\lib\\site-packages\\sklearn\\utils\\deprecation.py:122: FutureWarning: You are accessing a training score ('std_train_score'), which will not be available by default any more in 0.21. If you need training scores, please set return_train_score=True\n",
      "  warnings.warn(*warn_args, **warn_kwargs)\n"
     ]
    },
    {
     "data": {
      "text/plain": [
       "{'mean_fit_time': array([ 10.83135114,  15.52902765,  18.80591683,  18.03613682,\n",
       "         30.0579565 ,  26.55556188,  46.33152084,  43.05567989,\n",
       "         54.47191563,  66.16227899, 116.95815043, 106.12292461,\n",
       "        133.90091906,  89.25948577]),\n",
       " 'std_fit_time': array([ 8.77987927,  6.67995435,  6.31384052,  6.27018968, 17.19573239,\n",
       "        11.20526836, 17.15118712, 20.45784888, 23.32192273, 32.78727172,\n",
       "        34.73263094, 50.81945423, 43.94987548, 27.56192968]),\n",
       " 'mean_score_time': array([0.16983318, 0.33866196, 0.18420677, 0.1710062 , 0.18557477,\n",
       "        0.18648515, 0.18425741, 0.19670715, 0.18640232, 0.22183523,\n",
       "        0.19661117, 0.20786991, 0.13647561, 0.11973615]),\n",
       " 'std_score_time': array([0.10261496, 0.26277737, 0.02368178, 0.03001298, 0.055409  ,\n",
       "        0.02765762, 0.02928589, 0.02315976, 0.01824364, 0.01926342,\n",
       "        0.04302977, 0.03075364, 0.03885573, 0.05725366]),\n",
       " 'param_C': masked_array(data=[0.0001, 0.0001, 0.001, 0.001, 0.01, 0.01, 0.1, 0.1, 1,\n",
       "                    1, 10, 10, 100, 100],\n",
       "              mask=[False, False, False, False, False, False, False, False,\n",
       "                    False, False, False, False, False, False],\n",
       "        fill_value='?',\n",
       "             dtype=object),\n",
       " 'param_penalty': masked_array(data=['l1', 'l2', 'l1', 'l2', 'l1', 'l2', 'l1', 'l2', 'l1',\n",
       "                    'l2', 'l1', 'l2', 'l1', 'l2'],\n",
       "              mask=[False, False, False, False, False, False, False, False,\n",
       "                    False, False, False, False, False, False],\n",
       "        fill_value='?',\n",
       "             dtype=object),\n",
       " 'params': [{'C': 0.0001, 'penalty': 'l1'},\n",
       "  {'C': 0.0001, 'penalty': 'l2'},\n",
       "  {'C': 0.001, 'penalty': 'l1'},\n",
       "  {'C': 0.001, 'penalty': 'l2'},\n",
       "  {'C': 0.01, 'penalty': 'l1'},\n",
       "  {'C': 0.01, 'penalty': 'l2'},\n",
       "  {'C': 0.1, 'penalty': 'l1'},\n",
       "  {'C': 0.1, 'penalty': 'l2'},\n",
       "  {'C': 1, 'penalty': 'l1'},\n",
       "  {'C': 1, 'penalty': 'l2'},\n",
       "  {'C': 10, 'penalty': 'l1'},\n",
       "  {'C': 10, 'penalty': 'l2'},\n",
       "  {'C': 100, 'penalty': 'l1'},\n",
       "  {'C': 100, 'penalty': 'l2'}],\n",
       " 'split0_test_score': array([0.93038947, 0.93038947, 0.93038947, 0.93038947, 0.93038947,\n",
       "        0.93038947, 0.93150547, 0.93038947, 0.95217352, 0.94213188,\n",
       "        0.95791525, 0.95411269, 0.95662906, 0.95650811]),\n",
       " 'split1_test_score': array([0.91895881, 0.91895881, 0.91895881, 0.91895881, 0.91895881,\n",
       "        0.91895881, 0.92958474, 0.9194501 , 0.95384698, 0.94527442,\n",
       "        0.9561855 , 0.95643891, 0.95486334, 0.95818628]),\n",
       " 'split2_test_score': array([0.91142484, 0.91142484, 0.91142484, 0.91142484, 0.91142484,\n",
       "        0.91142484, 0.93142616, 0.91623509, 0.95320837, 0.94718154,\n",
       "        0.95683344, 0.95644209, 0.95460405, 0.95795944]),\n",
       " 'split3_test_score': array([0.90923095, 0.90923095, 0.90923095, 0.90923095, 0.90923095,\n",
       "        0.90923095, 0.93694176, 0.92073861, 0.95612232, 0.95184344,\n",
       "        0.95793592, 0.95938142, 0.95610437, 0.96072199]),\n",
       " 'split4_test_score': array([0.90377098, 0.90377098, 0.90377098, 0.90377098, 0.90404099,\n",
       "        0.90377098, 0.93884428, 0.9235609 , 0.95654967, 0.95325478,\n",
       "        0.95789444, 0.95982467, 0.95622962, 0.96070224]),\n",
       " 'mean_test_score': array([0.91475501, 0.91475501, 0.91475501, 0.91475501, 0.91480901,\n",
       "        0.91475501, 0.93366048, 0.92207483, 0.95438017, 0.94793721,\n",
       "        0.95735291, 0.95723995, 0.95568609, 0.95881561]),\n",
       " 'std_test_score': array([0.00921263, 0.00921263, 0.00921263, 0.00921263, 0.00914865,\n",
       "        0.00921263, 0.00357453, 0.00477742, 0.00168929, 0.00412065,\n",
       "        0.00071862, 0.00211304, 0.00080091, 0.00165211]),\n",
       " 'rank_test_score': array([10, 10, 10, 10,  9, 10,  7,  8,  5,  6,  2,  3,  4,  1]),\n",
       " 'split0_train_score': array([0.94170392, 0.94170392, 0.94170392, 0.94170392, 0.94170392,\n",
       "        0.94170392, 0.9427937 , 0.94170392, 0.96263098, 0.96109543,\n",
       "        0.99808528, 0.99924674, 1.        , 1.        ]),\n",
       " 'split1_train_score': array([0.93607698, 0.93607698, 0.93607698, 0.93607698, 0.93607698,\n",
       "        0.93607698, 0.94445747, 0.93659294, 0.96405152, 0.9665533 ,\n",
       "        0.99816303, 0.99871747, 0.99998662, 0.99997994]),\n",
       " 'split2_train_score': array([0.93043161, 0.93043161, 0.93043161, 0.93043161, 0.93043161,\n",
       "        0.93043161, 0.94539179, 0.93437351, 0.96407992, 0.96894454,\n",
       "        0.99820258, 0.99856332, 0.99999098, 0.99998647]),\n",
       " 'split3_train_score': array([0.9257425 , 0.9257425 , 0.9257425 , 0.9257425 , 0.9257425 ,\n",
       "        0.9257425 , 0.94650316, 0.93528192, 0.96383388, 0.96987432,\n",
       "        0.99832537, 0.99828503, 0.99999317, 0.99998976]),\n",
       " 'split4_train_score': array([0.92248034, 0.92248034, 0.92248034, 0.92248034, 0.92263628,\n",
       "        0.92248034, 0.9477968 , 0.93741255, 0.9641811 , 0.97041871,\n",
       "        0.99841507, 0.99812767, 0.99999175, 0.99999175]),\n",
       " 'mean_train_score': array([0.93128707, 0.93128707, 0.93128707, 0.93128707, 0.93131826,\n",
       "        0.93128707, 0.94538858, 0.93707297, 0.96375548, 0.96737726,\n",
       "        0.99823827, 0.99858804, 0.99999251, 0.99998958]),\n",
       " 'std_train_score': array([6.93522268e-03, 6.93522268e-03, 6.93522268e-03, 6.93522268e-03,\n",
       "        6.89578868e-03, 6.93522268e-03, 1.71126711e-03, 2.54111872e-03,\n",
       "        5.73530635e-04, 3.40829628e-03, 1.17633028e-04, 3.88588634e-04,\n",
       "        4.33786040e-06, 6.57218963e-06])}"
      ]
     },
     "execution_count": 140,
     "metadata": {},
     "output_type": "execute_result"
    }
   ],
   "source": [
    "gsv.cv_results_"
   ]
  },
  {
   "cell_type": "code",
   "execution_count": 141,
   "metadata": {},
   "outputs": [
    {
     "name": "stdout",
     "output_type": "stream",
     "text": [
      "[0.08524499261752805, 0.08524499261752805, 0.08519099054896606, 0.06633951990852582, 0.04561982694223621, 0.04264709122839683, 0.04431391213889535]\n",
      "\n",
      "\n",
      "\n",
      "[0.08524499261752805, 0.08524499261752805, 0.08524499261752805, 0.07792516634021995, 0.0520627897955962, 0.042760045170896044, 0.041184390960519957]\n"
     ]
    }
   ],
   "source": [
    "#separating the values of regulerization\n",
    "mean_test_score=gsv.cv_results_[\"mean_test_score\"]\n",
    "mean_test_score=1-mean_test_score\n",
    "y_l1=[]\n",
    "y_l2=[]\n",
    "for i in mean_test_score[0:14:2]:\n",
    "    y_l1.append(i)\n",
    "for i in mean_test_score[1:14:2]:\n",
    "    y_l2.append(i)\n",
    "print(y_l1)\n",
    "print(\"\\n\\n\")\n",
    "print(y_l2)"
   ]
  },
  {
   "cell_type": "code",
   "execution_count": 142,
   "metadata": {},
   "outputs": [
    {
     "data": {
      "image/png": "[encoded data removed]",
      "text/plain": [
       "<Figure size 432x288 with 1 Axes>"
      ]
     },
     "metadata": {},
     "output_type": "display_data"
    }
   ],
   "source": [
    "x=param_grid[\"C\"]\n",
    "plt.plot(x,y_l1,\"b\",label=\"L1\")\n",
    "plt.plot(x,y_l2,\"g\",label=\"L2\")\n",
    "plt.xlabel(\"C\")\n",
    "plt.ylabel(\"error\")\n",
    "plt.title(\"error plot\")\n",
    "plt.legend()\n",
    "plt.show()"
   ]
  },
  {
   "cell_type": "markdown",
   "metadata": {},
   "source": [
    "now lets try the optimal parameteres on the test data"
   ]
  },
  {
   "cell_type": "code",
   "execution_count": 143,
   "metadata": {},
   "outputs": [
    {
     "data": {
      "text/plain": [
       "LogisticRegression(C=100, class_weight=None, dual=False, fit_intercept=True,\n",
       "          intercept_scaling=1, max_iter=100, multi_class='ovr', n_jobs=1,\n",
       "          penalty='l2', random_state=None, solver='liblinear', tol=0.0001,\n",
       "          verbose=0, warm_start=False)"
      ]
     },
     "execution_count": 143,
     "metadata": {},
     "output_type": "execute_result"
    }
   ],
   "source": [
    "lr=LogisticRegression(C=100,penalty=\"l2\")\n",
    "lr.fit(tdata,y_1)"
   ]
  },
  {
   "cell_type": "code",
   "execution_count": 144,
   "metadata": {},
   "outputs": [],
   "source": [
    "pred=lr.predict(test_data)"
   ]
  },
  {
   "cell_type": "code",
   "execution_count": 145,
   "metadata": {},
   "outputs": [
    {
     "name": "stdout",
     "output_type": "stream",
     "text": [
      "\n",
      "the accuracy is 93.46%\n",
      "\n",
      "the recall is 97.60%\n",
      "the precision is 94.65%\n",
      "the f1 score is 96.10%\n"
     ]
    },
    {
     "data": {
      "text/plain": [
       "<matplotlib.axes._subplots.AxesSubplot at 0x2750a3944e0>"
      ]
     },
     "execution_count": 145,
     "metadata": {},
     "output_type": "execute_result"
    },
    {
     "data": {
      "image/png": "[encoded data removed]",
      "text/plain": [
       "<Figure size 432x288 with 2 Axes>"
      ]
     },
     "metadata": {},
     "output_type": "display_data"
    }
   ],
   "source": [
    "acc=accuracy_score(y_test,pred)*100\n",
    "print(\"\\nthe accuracy is %.2f%%\"%acc)\n",
    "    \n",
    "re=recall_score(y_test,pred,) * 100\n",
    "print(\"\\nthe recall is %.2f%%\"%re)\n",
    "    \n",
    "pre=precision_score(y_test,pred) * 100\n",
    "print(\"the precision is %.2f%%\"%pre)\n",
    "    \n",
    "f1=f1_score(y_test,pred) * 100\n",
    "print(\"the f1 score is %.2f%%\"%f1)\n",
    "\n",
    "df_cm=pd.DataFrame(confusion_matrix(y_test,pred))\n",
    "sns.set(font_scale=1.4)\n",
    "sns.heatmap(df_cm,annot=True,fmt=\"d\")"
   ]
  },
  {
   "cell_type": "code",
   "execution_count": 146,
   "metadata": {},
   "outputs": [
    {
     "data": {
      "text/html": [
       "<div>\n",
       "<style scoped>\n",
       "    .dataframe tbody tr th:only-of-type {\n",
       "        vertical-align: middle;\n",
       "    }\n",
       "\n",
       "    .dataframe tbody tr th {\n",
       "        vertical-align: top;\n",
       "    }\n",
       "\n",
       "    .dataframe thead th {\n",
       "        text-align: right;\n",
       "    }\n",
       "</style>\n",
       "<table border=\"1\" class=\"dataframe\">\n",
       "  <thead>\n",
       "    <tr style=\"text-align: right;\">\n",
       "      <th></th>\n",
       "      <th>score</th>\n",
       "    </tr>\n",
       "  </thead>\n",
       "  <tbody>\n",
       "    <tr>\n",
       "      <th>accuracy</th>\n",
       "      <td>93.46%</td>\n",
       "    </tr>\n",
       "    <tr>\n",
       "      <th>recall</th>\n",
       "      <td>97.60%</td>\n",
       "    </tr>\n",
       "    <tr>\n",
       "      <th>precision</th>\n",
       "      <td>94.65%</td>\n",
       "    </tr>\n",
       "    <tr>\n",
       "      <th>f1</th>\n",
       "      <td>96.10%</td>\n",
       "    </tr>\n",
       "  </tbody>\n",
       "</table>\n",
       "</div>"
      ],
      "text/plain": [
       "            score\n",
       "accuracy   93.46%\n",
       "recall     97.60%\n",
       "precision  94.65%\n",
       "f1         96.10%"
      ]
     },
     "execution_count": 146,
     "metadata": {},
     "output_type": "execute_result"
    }
   ],
   "source": [
    "scoring_data=pd.DataFrame({\"accuracy\":\"93.46%\",\"recall\":\"97.60%\",\"precision\":\"94.65%\",\"f1\":\"96.10%\"},index=[\"score\"])\n",
    "scoring_data.T"
   ]
  },
  {
   "cell_type": "markdown",
   "metadata": {},
   "source": [
    "lets see what happens to sparsity with increase in lambda or decrease in C"
   ]
  },
  {
   "cell_type": "code",
   "execution_count": 147,
   "metadata": {},
   "outputs": [
    {
     "data": {
      "text/plain": [
       "31092"
      ]
     },
     "execution_count": 147,
     "metadata": {},
     "output_type": "execute_result"
    }
   ],
   "source": [
    "lr=LogisticRegression(C=10,penalty=\"l1\")\n",
    "lr.fit(tdata,y_1)\n",
    "np.count_nonzero(lr.coef_)"
   ]
  },
  {
   "cell_type": "code",
   "execution_count": 148,
   "metadata": {},
   "outputs": [
    {
     "data": {
      "text/plain": [
       "2737"
      ]
     },
     "execution_count": 148,
     "metadata": {},
     "output_type": "execute_result"
    }
   ],
   "source": [
    "lr=LogisticRegression(C=1,penalty=\"l1\")\n",
    "lr.fit(tdata,y_1)\n",
    "np.count_nonzero(lr.coef_)"
   ]
  },
  {
   "cell_type": "code",
   "execution_count": 149,
   "metadata": {},
   "outputs": [
    {
     "data": {
      "text/plain": [
       "347"
      ]
     },
     "execution_count": 149,
     "metadata": {},
     "output_type": "execute_result"
    }
   ],
   "source": [
    "lr=LogisticRegression(C=0.1,penalty=\"l1\")\n",
    "lr.fit(tdata,y_1)\n",
    "np.count_nonzero(lr.coef_)"
   ]
  },
  {
   "cell_type": "code",
   "execution_count": 150,
   "metadata": {},
   "outputs": [
    {
     "data": {
      "text/plain": [
       "20"
      ]
     },
     "execution_count": 150,
     "metadata": {},
     "output_type": "execute_result"
    }
   ],
   "source": [
    "lr=LogisticRegression(C=0.01,penalty=\"l1\")\n",
    "lr.fit(tdata,y_1)\n",
    "np.count_nonzero(lr.coef_)"
   ]
  },
  {
   "cell_type": "markdown",
   "metadata": {},
   "source": [
    "sparsity increases with increase in lambda"
   ]
  },
  {
   "cell_type": "code",
   "execution_count": 151,
   "metadata": {},
   "outputs": [
    {
     "name": "stdout",
     "output_type": "stream",
     "text": [
      "Fitting 5 folds for each of 10 candidates, totalling 50 fits\n"
     ]
    },
    {
     "name": "stderr",
     "output_type": "stream",
     "text": [
      "[Parallel(n_jobs=-1)]: Done  34 tasks      | elapsed: 11.8min\n",
      "[Parallel(n_jobs=-1)]: Done  50 out of  50 | elapsed: 18.2min finished\n"
     ]
    },
    {
     "name": "stdout",
     "output_type": "stream",
     "text": [
      "Best HyperParameter:  {'C': 95, 'penalty': 'l2'}\n",
      "best estimator:  LogisticRegression(C=1.0, class_weight=None, dual=False, fit_intercept=True,\n",
      "          intercept_scaling=1, max_iter=100, multi_class='ovr', n_jobs=1,\n",
      "          penalty='l2', random_state=None, solver='liblinear', tol=0.0001,\n",
      "          verbose=0, warm_start=False)\n"
     ]
    }
   ],
   "source": [
    "#randomizedsearchcv for finding optimal c\n",
    "lr = LogisticRegression()\n",
    "param_grid = {'C':randint(10**-2, 10**2),\"penalty\":[\"l1\",\"l2\"]} \n",
    "#For time based splitting\n",
    "t = TimeSeriesSplit(n_splits=5) \n",
    "    \n",
    "rsv = RandomizedSearchCV(lr,param_grid,cv=t,n_jobs=-1,verbose=1)\n",
    "rsv.fit(tdata,y_1)\n",
    "print(\"Best HyperParameter: \",rsv.best_params_)\n",
    "#assinging best alpha to optimal print(\"Best Accuracy: %.2f%%\"%(gsv.best_score_*100))\n",
    "print(\"best estimator: \",rsv.estimator)"
   ]
  },
  {
   "cell_type": "markdown",
   "metadata": {},
   "source": [
    "# Pertubation technique\n",
    "<br>multicollinearity check"
   ]
  },
  {
   "cell_type": "code",
   "execution_count": 152,
   "metadata": {},
   "outputs": [
    {
     "data": {
      "text/plain": [
       "LogisticRegression(C=1.0, class_weight=None, dual=False, fit_intercept=True,\n",
       "          intercept_scaling=1, max_iter=100, multi_class='ovr', n_jobs=1,\n",
       "          penalty='l2', random_state=None, solver='liblinear', tol=0.0001,\n",
       "          verbose=0, warm_start=False)"
      ]
     },
     "execution_count": 152,
     "metadata": {},
     "output_type": "execute_result"
    }
   ],
   "source": [
    "#before noise\n",
    "clf=LogisticRegression()\n",
    "clf.fit(tdata,y_1)\n"
   ]
  },
  {
   "cell_type": "code",
   "execution_count": 153,
   "metadata": {},
   "outputs": [
    {
     "data": {
      "text/plain": [
       "2351241"
      ]
     },
     "execution_count": 153,
     "metadata": {},
     "output_type": "execute_result"
    }
   ],
   "source": [
    "#nonzero values\n",
    "np.count_nonzero(clf.coef_)"
   ]
  },
  {
   "cell_type": "code",
   "execution_count": 154,
   "metadata": {},
   "outputs": [
    {
     "name": "stdout",
     "output_type": "stream",
     "text": [
      "[ 0.04645525  0.04744264  0.00053778  0.17007897  0.12798862  0.00935973\n",
      " -0.04212703  0.00659661  0.01312656  0.00701524  0.00392476  0.00213447\n",
      "  0.0492709   0.00070833  0.0033779   0.0033779   0.01774095  0.01774095\n",
      "  0.00050136  0.00050136]\n"
     ]
    }
   ],
   "source": [
    "wt_test=find(clf.coef_[0])[2]\n",
    "print(wt_test[0:20])"
   ]
  },
  {
   "cell_type": "code",
   "execution_count": 155,
   "metadata": {},
   "outputs": [
    {
     "name": "stdout",
     "output_type": "stream",
     "text": [
      "[-0.00039151 -0.00071995  0.00052939 ... -0.00093318 -0.00011491\n",
      "  0.00067021]\n"
     ]
    }
   ],
   "source": [
    "#generating random noise for adding to nonzero value\n",
    "tdata_t=tdata\n",
    "epsilon = np.random.uniform(low=-0.001, high=0.001, size=(find(tdata_t)[0].size,))\n",
    "i,j,v=find(tdata_t)\n",
    "print(epsilon)"
   ]
  },
  {
   "cell_type": "code",
   "execution_count": 156,
   "metadata": {},
   "outputs": [],
   "source": [
    "#addition of noise\n",
    "tdata_t[i,j] = epsilon + tdata_t[i,j]"
   ]
  },
  {
   "cell_type": "code",
   "execution_count": 157,
   "metadata": {},
   "outputs": [
    {
     "data": {
      "text/plain": [
       "LogisticRegression(C=1.0, class_weight=None, dual=False, fit_intercept=True,\n",
       "          intercept_scaling=1, max_iter=100, multi_class='ovr', n_jobs=1,\n",
       "          penalty='l2', random_state=None, solver='liblinear', tol=0.0001,\n",
       "          verbose=0, warm_start=False)"
      ]
     },
     "execution_count": 157,
     "metadata": {},
     "output_type": "execute_result"
    }
   ],
   "source": [
    "cl=LogisticRegression()\n",
    "cl.fit(tdata_t,y_1)\n"
   ]
  },
  {
   "cell_type": "code",
   "execution_count": 158,
   "metadata": {},
   "outputs": [
    {
     "data": {
      "text/plain": [
       "2351241"
      ]
     },
     "execution_count": 158,
     "metadata": {},
     "output_type": "execute_result"
    }
   ],
   "source": [
    "np.count_nonzero(clf.coef_)"
   ]
  },
  {
   "cell_type": "code",
   "execution_count": 159,
   "metadata": {},
   "outputs": [
    {
     "name": "stdout",
     "output_type": "stream",
     "text": [
      "[ 0.04579204  0.04705734  0.00057517  0.17021508  0.1278883   0.00933912\n",
      " -0.04190056  0.0065739   0.01337778  0.00713104  0.00397958  0.00215312\n",
      "  0.04955252  0.00070725  0.00334899  0.00332952  0.01773055  0.01776998\n",
      "  0.00050474  0.00050525]\n"
     ]
    }
   ],
   "source": [
    "wt_test_noise=find(cl.coef_[0])[2]\n",
    "print(wt_test_noise[0:20])"
   ]
  },
  {
   "cell_type": "markdown",
   "metadata": {},
   "source": [
    "The difference is very small.so, the feadtures are not multicollinear"
   ]
  },
  {
   "cell_type": "markdown",
   "metadata": {},
   "source": [
    "# Feature importance\n",
    "<br> as the features are not multicollinear we can use L1 regularizaiton"
   ]
  },
  {
   "cell_type": "code",
   "execution_count": 160,
   "metadata": {},
   "outputs": [],
   "source": [
    "tf=TfidfVectorizer(ngram_range=(1,2),stop_words=\"english\",analyzer='word')\n",
    "feature_data=tf.fit_transform(x_1)\n",
    "all_feat = tf.get_feature_names()"
   ]
  },
  {
   "cell_type": "code",
   "execution_count": 161,
   "metadata": {},
   "outputs": [
    {
     "data": {
      "text/plain": [
       "LogisticRegression(C=1, class_weight=None, dual=False, fit_intercept=True,\n",
       "          intercept_scaling=1, max_iter=100, multi_class='ovr', n_jobs=1,\n",
       "          penalty='l1', random_state=None, solver='liblinear', tol=0.0001,\n",
       "          verbose=0, warm_start=False)"
      ]
     },
     "execution_count": 161,
     "metadata": {},
     "output_type": "execute_result"
    }
   ],
   "source": [
    "clf=LogisticRegression(C=1,penalty=\"l1\")\n",
    "clf.fit(feature_data,y_1)"
   ]
  },
  {
   "cell_type": "code",
   "execution_count": 162,
   "metadata": {},
   "outputs": [],
   "source": [
    "#converting array to 1D\n",
    "check=clf.coef_.ravel()"
   ]
  },
  {
   "cell_type": "code",
   "execution_count": 163,
   "metadata": {},
   "outputs": [
    {
     "data": {
      "text/html": [
       "<div>\n",
       "<style scoped>\n",
       "    .dataframe tbody tr th:only-of-type {\n",
       "        vertical-align: middle;\n",
       "    }\n",
       "\n",
       "    .dataframe tbody tr th {\n",
       "        vertical-align: top;\n",
       "    }\n",
       "\n",
       "    .dataframe thead th {\n",
       "        text-align: right;\n",
       "    }\n",
       "</style>\n",
       "<table border=\"1\" class=\"dataframe\">\n",
       "  <thead>\n",
       "    <tr style=\"text-align: right;\">\n",
       "      <th></th>\n",
       "      <th>word</th>\n",
       "      <th>coef_</th>\n",
       "    </tr>\n",
       "  </thead>\n",
       "  <tbody>\n",
       "    <tr>\n",
       "      <th>0</th>\n",
       "      <td>aa</td>\n",
       "      <td>0.0</td>\n",
       "    </tr>\n",
       "    <tr>\n",
       "      <th>1</th>\n",
       "      <td>aa pleas</td>\n",
       "      <td>0.0</td>\n",
       "    </tr>\n",
       "    <tr>\n",
       "      <th>2</th>\n",
       "      <td>aa state</td>\n",
       "      <td>0.0</td>\n",
       "    </tr>\n",
       "    <tr>\n",
       "      <th>3</th>\n",
       "      <td>aaa</td>\n",
       "      <td>0.0</td>\n",
       "    </tr>\n",
       "  </tbody>\n",
       "</table>\n",
       "</div>"
      ],
      "text/plain": [
       "       word  coef_\n",
       "0        aa    0.0\n",
       "1  aa pleas    0.0\n",
       "2  aa state    0.0\n",
       "3       aaa    0.0"
      ]
     },
     "execution_count": 163,
     "metadata": {},
     "output_type": "execute_result"
    }
   ],
   "source": [
    "#creating dataframe for feature importance\n",
    "feature_importance=pd.DataFrame({\"word\":all_feat,\"coef_\":check})\n",
    "feature_importance.head(4)"
   ]
  },
  {
   "cell_type": "code",
   "execution_count": 164,
   "metadata": {},
   "outputs": [
    {
     "data": {
      "text/html": [
       "<div>\n",
       "<style scoped>\n",
       "    .dataframe tbody tr th:only-of-type {\n",
       "        vertical-align: middle;\n",
       "    }\n",
       "\n",
       "    .dataframe tbody tr th {\n",
       "        vertical-align: top;\n",
       "    }\n",
       "\n",
       "    .dataframe thead th {\n",
       "        text-align: right;\n",
       "    }\n",
       "</style>\n",
       "<table border=\"1\" class=\"dataframe\">\n",
       "  <thead>\n",
       "    <tr style=\"text-align: right;\">\n",
       "      <th></th>\n",
       "      <th>word</th>\n",
       "      <th>coef_</th>\n",
       "    </tr>\n",
       "  </thead>\n",
       "  <tbody>\n",
       "    <tr>\n",
       "      <th>919679</th>\n",
       "      <td>high recommend</td>\n",
       "      <td>30.415174</td>\n",
       "    </tr>\n",
       "    <tr>\n",
       "      <th>849395</th>\n",
       "      <td>great</td>\n",
       "      <td>26.614199</td>\n",
       "    </tr>\n",
       "    <tr>\n",
       "      <th>518289</th>\n",
       "      <td>delici</td>\n",
       "      <td>25.806726</td>\n",
       "    </tr>\n",
       "    <tr>\n",
       "      <th>167357</th>\n",
       "      <td>best</td>\n",
       "      <td>23.982681</td>\n",
       "    </tr>\n",
       "    <tr>\n",
       "      <th>1407016</th>\n",
       "      <td>perfect</td>\n",
       "      <td>23.296294</td>\n",
       "    </tr>\n",
       "    <tr>\n",
       "      <th>1442136</th>\n",
       "      <td>pleasant surpris</td>\n",
       "      <td>21.142059</td>\n",
       "    </tr>\n",
       "    <tr>\n",
       "      <th>665793</th>\n",
       "      <td>excel</td>\n",
       "      <td>20.791440</td>\n",
       "    </tr>\n",
       "    <tr>\n",
       "      <th>2170289</th>\n",
       "      <td>wont disappoint</td>\n",
       "      <td>20.072441</td>\n",
       "    </tr>\n",
       "    <tr>\n",
       "      <th>1142736</th>\n",
       "      <td>love</td>\n",
       "      <td>20.056110</td>\n",
       "    </tr>\n",
       "    <tr>\n",
       "      <th>55385</th>\n",
       "      <td>amaz</td>\n",
       "      <td>18.324004</td>\n",
       "    </tr>\n",
       "  </tbody>\n",
       "</table>\n",
       "</div>"
      ],
      "text/plain": [
       "                     word      coef_\n",
       "919679     high recommend  30.415174\n",
       "849395              great  26.614199\n",
       "518289             delici  25.806726\n",
       "167357               best  23.982681\n",
       "1407016           perfect  23.296294\n",
       "1442136  pleasant surpris  21.142059\n",
       "665793              excel  20.791440\n",
       "2170289   wont disappoint  20.072441\n",
       "1142736              love  20.056110\n",
       "55385                amaz  18.324004"
      ]
     },
     "execution_count": 164,
     "metadata": {},
     "output_type": "execute_result"
    }
   ],
   "source": [
    "#sorting in descending order\n",
    "feature_importance.sort_values(by=\"coef_\",ascending=False,inplace=True)\n",
    "feature_importance.head(10)"
   ]
  },
  {
   "cell_type": "code",
   "execution_count": 165,
   "metadata": {},
   "outputs": [
    {
     "data": {
      "text/plain": [
       "Text(0.5,1,'important positive features ')"
      ]
     },
     "execution_count": 165,
     "metadata": {},
     "output_type": "execute_result"
    },
    {
     "data": {
      "image/png": "[encoded data removed]",
      "text/plain": [
       "<Figure size 432x288 with 1 Axes>"
      ]
     },
     "metadata": {},
     "output_type": "display_data"
    }
   ],
   "source": [
    "#visualising positive features\n",
    "sns.barplot(y='word', x='coef_', data=feature_importance.head(20), palette=\"Blues_d\").set_title('important positive features ')"
   ]
  },
  {
   "cell_type": "code",
   "execution_count": 166,
   "metadata": {},
   "outputs": [
    {
     "data": {
      "text/plain": [
       "Text(0.5,1,'important positive features ')"
      ]
     },
     "execution_count": 166,
     "metadata": {},
     "output_type": "execute_result"
    },
    {
     "data": {
      "image/png": "[encoded data removed]",
      "text/plain": [
       "<Figure size 432x288 with 1 Axes>"
      ]
     },
     "metadata": {},
     "output_type": "display_data"
    }
   ],
   "source": [
    "#visualising negative features\n",
    "sns.barplot(y='word', x='coef_', data=feature_importance.tail(20), palette=\"Greens_d\").set_title('important positive features ')"
   ]
  },
  {
   "cell_type": "code",
   "execution_count": 167,
   "metadata": {},
   "outputs": [
    {
     "data": {
      "text/html": [
       "<div>\n",
       "<style scoped>\n",
       "    .dataframe tbody tr th:only-of-type {\n",
       "        vertical-align: middle;\n",
       "    }\n",
       "\n",
       "    .dataframe tbody tr th {\n",
       "        vertical-align: top;\n",
       "    }\n",
       "\n",
       "    .dataframe thead th {\n",
       "        text-align: right;\n",
       "    }\n",
       "</style>\n",
       "<table border=\"1\" class=\"dataframe\">\n",
       "  <thead>\n",
       "    <tr style=\"text-align: right;\">\n",
       "      <th></th>\n",
       "      <th>C</th>\n",
       "      <th>regularization</th>\n",
       "    </tr>\n",
       "  </thead>\n",
       "  <tbody>\n",
       "    <tr>\n",
       "      <th>gridsearchcv</th>\n",
       "      <td>100</td>\n",
       "      <td>L2</td>\n",
       "    </tr>\n",
       "    <tr>\n",
       "      <th>randomizedsearchcv</th>\n",
       "      <td>90</td>\n",
       "      <td>L2</td>\n",
       "    </tr>\n",
       "  </tbody>\n",
       "</table>\n",
       "</div>"
      ],
      "text/plain": [
       "                      C regularization\n",
       "gridsearchcv        100             L2\n",
       "randomizedsearchcv   90             L2"
      ]
     },
     "execution_count": 167,
     "metadata": {},
     "output_type": "execute_result"
    }
   ],
   "source": [
    "summary=pd.DataFrame({\"gridsearchcv\":[\"100\",\"L2\"],\"randomizedsearchcv\":[\"90\",\"L2\"]},index=[\"C\",\"regularization\"])\n",
    "summary.T"
   ]
  },
  {
   "cell_type": "markdown",
   "metadata": {},
   "source": [
    "The model performs quiet good"
   ]
  },
  {
   "cell_type": "markdown",
   "metadata": {},
   "source": [
    "# Word2vec"
   ]
  },
  {
   "cell_type": "code",
   "execution_count": 26,
   "metadata": {},
   "outputs": [
    {
     "name": "stderr",
     "output_type": "stream",
     "text": [
      "C:\\Users\\himateja\\Anaconda3\\lib\\site-packages\\gensim\\utils.py:1209: UserWarning: detected Windows; aliasing chunkize to chunkize_serial\n",
      "  warnings.warn(\"detected Windows; aliasing chunkize to chunkize_serial\")\n"
     ]
    }
   ],
   "source": [
    "from gensim.models import Word2Vec\n",
    "#making list of sentences\n",
    "import string\n",
    "i=0\n",
    "list_s=[]\n",
    "for s in d.Text.values:\n",
    "    filtered=[]\n",
    "    s=cleanhtml(s)\n",
    "    for w in s.split():\n",
    "        for c_w in cleanpunc(w).split():\n",
    "            if c_w.isalpha():\n",
    "                filtered.append(c_w.lower())\n",
    "            else:\n",
    "                continue\n",
    "    list_s.append(filtered)\n",
    "#training our own model\n",
    "w2v_model=Word2Vec(list_s,min_count=3,size=100,workers=8)"
   ]
  },
  {
   "cell_type": "code",
   "execution_count": 27,
   "metadata": {},
   "outputs": [],
   "source": [
    "#splitting the data\n",
    "x_1, x_test, y_1, y_test = train_test_split(list_s, d.Score, test_size=0.3, random_state=0,shuffle=False)"
   ]
  },
  {
   "cell_type": "markdown",
   "metadata": {},
   "source": [
    "# Avg Word2vec"
   ]
  },
  {
   "cell_type": "code",
   "execution_count": 32,
   "metadata": {},
   "outputs": [],
   "source": [
    "def avg(l):\n",
    "    \n",
    "    sv=[]\n",
    "    for s in l:\n",
    "        sum=np.zeros(100)\n",
    "        i=0\n",
    "        for w in s:\n",
    "            try:\n",
    "            \n",
    "                x=w2v_model.wv[w]\n",
    "                sum+=x\n",
    "                i+=1\n",
    "            except:\n",
    "                pass\n",
    "        sum/=i\n",
    "        sv.append(sum)\n",
    "    return np.matrix(sv)\n",
    "    \n"
   ]
  },
  {
   "cell_type": "code",
   "execution_count": 33,
   "metadata": {},
   "outputs": [],
   "source": [
    "x_1=avg(x_1)"
   ]
  },
  {
   "cell_type": "code",
   "execution_count": 34,
   "metadata": {},
   "outputs": [
    {
     "data": {
      "text/plain": [
       "(254919, 100)"
      ]
     },
     "execution_count": 34,
     "metadata": {},
     "output_type": "execute_result"
    }
   ],
   "source": [
    "np.asarray(x_1).shape"
   ]
  },
  {
   "cell_type": "code",
   "execution_count": 35,
   "metadata": {},
   "outputs": [
    {
     "name": "stderr",
     "output_type": "stream",
     "text": [
      "C:\\Users\\himateja\\Anaconda3\\lib\\site-packages\\ipykernel_launcher.py:15: RuntimeWarning: invalid value encountered in true_divide\n",
      "  from ipykernel import kernelapp as app\n"
     ]
    }
   ],
   "source": [
    "x_test=avg(x_test)"
   ]
  },
  {
   "cell_type": "code",
   "execution_count": 36,
   "metadata": {},
   "outputs": [
    {
     "data": {
      "text/plain": [
       "(109252, 100)"
      ]
     },
     "execution_count": 36,
     "metadata": {},
     "output_type": "execute_result"
    }
   ],
   "source": [
    "np.asarray(x_test).shape"
   ]
  },
  {
   "cell_type": "code",
   "execution_count": 37,
   "metadata": {},
   "outputs": [],
   "source": [
    "#changing nan values if any\n",
    "train=np.nan_to_num(x_1)\n",
    "test=np.nan_to_num(x_test)\n"
   ]
  },
  {
   "cell_type": "code",
   "execution_count": 39,
   "metadata": {},
   "outputs": [
    {
     "name": "stdout",
     "output_type": "stream",
     "text": [
      "Fitting 5 folds for each of 14 candidates, totalling 70 fits\n"
     ]
    },
    {
     "name": "stderr",
     "output_type": "stream",
     "text": [
      "[Parallel(n_jobs=-1)]: Done  34 tasks      | elapsed:  2.9min\n",
      "[Parallel(n_jobs=-1)]: Done  70 out of  70 | elapsed: 53.8min finished\n"
     ]
    },
    {
     "name": "stdout",
     "output_type": "stream",
     "text": [
      "Best HyperParameter:  {'C': 100, 'penalty': 'l2'}\n",
      "best estimator:  LogisticRegression(C=1.0, class_weight=None, dual=False, fit_intercept=True,\n",
      "          intercept_scaling=1, max_iter=100, multi_class='ovr', n_jobs=1,\n",
      "          penalty='l2', random_state=None, solver='liblinear', tol=0.0001,\n",
      "          verbose=0, warm_start=False)\n"
     ]
    }
   ],
   "source": [
    "#gridsearchcv\n",
    "lr = LogisticRegression()\n",
    "param_grid = {'C':[0.0001,0.001,0.01,0.1,1,10,100],\"penalty\":[\"l1\",\"l2\"]} \n",
    "#For time based splitting\n",
    "t = TimeSeriesSplit(n_splits=5) \n",
    "    \n",
    "gsv = GridSearchCV(lr,param_grid,cv=t,n_jobs=-1,verbose=1,scoring=\"f1\")\n",
    "gsv.fit(train,y_1)\n",
    "print(\"Best HyperParameter: \",gsv.best_params_)\n",
    "#assinging best alpha to optimal print(\"Best Accuracy: %.2f%%\"%(gsv.best_score_*100))\n",
    "print(\"best estimator: \",gsv.estimator)\n",
    "    "
   ]
  },
  {
   "cell_type": "code",
   "execution_count": 40,
   "metadata": {},
   "outputs": [
    {
     "data": {
      "text/plain": [
       "94.00437890007348"
      ]
     },
     "execution_count": 40,
     "metadata": {},
     "output_type": "execute_result"
    }
   ],
   "source": [
    "gsv.best_score_*100"
   ]
  },
  {
   "cell_type": "code",
   "execution_count": 41,
   "metadata": {},
   "outputs": [
    {
     "name": "stderr",
     "output_type": "stream",
     "text": [
      "C:\\Users\\himateja\\Anaconda3\\lib\\site-packages\\sklearn\\utils\\deprecation.py:122: FutureWarning: You are accessing a training score ('split0_train_score'), which will not be available by default any more in 0.21. If you need training scores, please set return_train_score=True\n",
      "  warnings.warn(*warn_args, **warn_kwargs)\n",
      "C:\\Users\\himateja\\Anaconda3\\lib\\site-packages\\sklearn\\utils\\deprecation.py:122: FutureWarning: You are accessing a training score ('split1_train_score'), which will not be available by default any more in 0.21. If you need training scores, please set return_train_score=True\n",
      "  warnings.warn(*warn_args, **warn_kwargs)\n",
      "C:\\Users\\himateja\\Anaconda3\\lib\\site-packages\\sklearn\\utils\\deprecation.py:122: FutureWarning: You are accessing a training score ('split2_train_score'), which will not be available by default any more in 0.21. If you need training scores, please set return_train_score=True\n",
      "  warnings.warn(*warn_args, **warn_kwargs)\n",
      "C:\\Users\\himateja\\Anaconda3\\lib\\site-packages\\sklearn\\utils\\deprecation.py:122: FutureWarning: You are accessing a training score ('split3_train_score'), which will not be available by default any more in 0.21. If you need training scores, please set return_train_score=True\n",
      "  warnings.warn(*warn_args, **warn_kwargs)\n",
      "C:\\Users\\himateja\\Anaconda3\\lib\\site-packages\\sklearn\\utils\\deprecation.py:122: FutureWarning: You are accessing a training score ('split4_train_score'), which will not be available by default any more in 0.21. If you need training scores, please set return_train_score=True\n",
      "  warnings.warn(*warn_args, **warn_kwargs)\n",
      "C:\\Users\\himateja\\Anaconda3\\lib\\site-packages\\sklearn\\utils\\deprecation.py:122: FutureWarning: You are accessing a training score ('mean_train_score'), which will not be available by default any more in 0.21. If you need training scores, please set return_train_score=True\n",
      "  warnings.warn(*warn_args, **warn_kwargs)\n",
      "C:\\Users\\himateja\\Anaconda3\\lib\\site-packages\\sklearn\\utils\\deprecation.py:122: FutureWarning: You are accessing a training score ('std_train_score'), which will not be available by default any more in 0.21. If you need training scores, please set return_train_score=True\n",
      "  warnings.warn(*warn_args, **warn_kwargs)\n"
     ]
    },
    {
     "data": {
      "text/plain": [
       "{'mean_fit_time': array([   1.82420626,    5.17689247,   11.61071754,   13.99503365,\n",
       "          72.01259899,   24.47782598,  111.85185399,   29.52089338,\n",
       "         929.04287481,   51.19140778, 1674.16242766,   74.27691922,\n",
       "        1274.37865739,   76.73539486]),\n",
       " 'std_fit_time': array([  1.37291477,   4.06143855,  11.27843786,   9.45654506,\n",
       "         49.05016703,  14.42840945,  32.76317173,  14.57023775,\n",
       "        671.70342801,  31.7737272 , 773.63057706,  38.69139384,\n",
       "        366.71351344,  37.31782253]),\n",
       " 'mean_score_time': array([0.36877189, 0.2120688 , 0.09028049, 0.11553512, 0.1265851 ,\n",
       "        0.12145357, 0.15880523, 0.06650476, 0.18492413, 0.06358924,\n",
       "        0.16934791, 0.05960207, 0.06608438, 0.0531136 ]),\n",
       " 'std_score_time': array([0.20715121, 0.2649323 , 0.05319222, 0.05776915, 0.03230567,\n",
       "        0.09569468, 0.07903959, 0.01088597, 0.15404245, 0.01146809,\n",
       "        0.04554848, 0.00614829, 0.03182982, 0.00765296]),\n",
       " 'param_C': masked_array(data=[0.0001, 0.0001, 0.001, 0.001, 0.01, 0.01, 0.1, 0.1, 1,\n",
       "                    1, 10, 10, 100, 100],\n",
       "              mask=[False, False, False, False, False, False, False, False,\n",
       "                    False, False, False, False, False, False],\n",
       "        fill_value='?',\n",
       "             dtype=object),\n",
       " 'param_penalty': masked_array(data=['l1', 'l2', 'l1', 'l2', 'l1', 'l2', 'l1', 'l2', 'l1',\n",
       "                    'l2', 'l1', 'l2', 'l1', 'l2'],\n",
       "              mask=[False, False, False, False, False, False, False, False,\n",
       "                    False, False, False, False, False, False],\n",
       "        fill_value='?',\n",
       "             dtype=object),\n",
       " 'params': [{'C': 0.0001, 'penalty': 'l1'},\n",
       "  {'C': 0.0001, 'penalty': 'l2'},\n",
       "  {'C': 0.001, 'penalty': 'l1'},\n",
       "  {'C': 0.001, 'penalty': 'l2'},\n",
       "  {'C': 0.01, 'penalty': 'l1'},\n",
       "  {'C': 0.01, 'penalty': 'l2'},\n",
       "  {'C': 0.1, 'penalty': 'l1'},\n",
       "  {'C': 0.1, 'penalty': 'l2'},\n",
       "  {'C': 1, 'penalty': 'l1'},\n",
       "  {'C': 1, 'penalty': 'l2'},\n",
       "  {'C': 10, 'penalty': 'l1'},\n",
       "  {'C': 10, 'penalty': 'l2'},\n",
       "  {'C': 100, 'penalty': 'l1'},\n",
       "  {'C': 100, 'penalty': 'l2'}],\n",
       " 'split0_test_score': array([0.92988446, 0.93041289, 0.93038947, 0.93346511, 0.93970883,\n",
       "        0.94457344, 0.94641361, 0.94661269, 0.94689034, 0.94696632,\n",
       "        0.94715282, 0.9471984 , 0.94723572, 0.94739745]),\n",
       " 'split1_test_score': array([0.91895881, 0.91907161, 0.91957128, 0.92985441, 0.93671154,\n",
       "        0.93888416, 0.94062814, 0.94082174, 0.94087031, 0.94089238,\n",
       "        0.94089708, 0.94091763, 0.94092391, 0.94083078]),\n",
       " 'split2_test_score': array([0.91143651, 0.91202421, 0.91560936, 0.92755308, 0.93412158,\n",
       "        0.93578428, 0.9366731 , 0.93668719, 0.9372229 , 0.93722461,\n",
       "        0.93724498, 0.93712933, 0.93716338, 0.93718203]),\n",
       " 'split3_test_score': array([0.90925429, 0.91143089, 0.91781611, 0.92995366, 0.93644931,\n",
       "        0.93734936, 0.93790823, 0.93792877, 0.93794612, 0.93806157,\n",
       "        0.93786594, 0.93792839, 0.93794122, 0.93797124]),\n",
       " 'split4_test_score': array([0.90378264, 0.90833496, 0.9183706 , 0.92875418, 0.93527811,\n",
       "        0.93590344, 0.93658456, 0.93679886, 0.93673724, 0.93677262,\n",
       "        0.93677509, 0.93684691, 0.93677684, 0.93683744]),\n",
       " 'mean_test_score': array([0.91466334, 0.91625491, 0.92035136, 0.92991609, 0.93645387,\n",
       "        0.93849894, 0.93964153, 0.93976985, 0.93993338, 0.9399835 ,\n",
       "        0.93998718, 0.94000413, 0.94000821, 0.94004379]),\n",
       " 'std_test_score': array([0.00903541, 0.00790288, 0.00518092, 0.00197659, 0.00186993,\n",
       "        0.00323961, 0.0036877 , 0.00373229, 0.00376267, 0.00377361,\n",
       "        0.00386034, 0.00387642, 0.00389571, 0.00393602]),\n",
       " 'rank_test_score': array([14, 13, 12, 11, 10,  9,  8,  7,  6,  5,  4,  3,  2,  1]),\n",
       " 'split0_train_score': array([0.9410694 , 0.94171565, 0.94170392, 0.9448434 , 0.95017328,\n",
       "        0.95381074, 0.95589789, 0.95621229, 0.95653521, 0.95650602,\n",
       "        0.95644649, 0.95650826, 0.95649366, 0.95640605]),\n",
       " 'split1_train_score': array([0.93607032, 0.93618433, 0.93654744, 0.94387625, 0.9492893 ,\n",
       "        0.95095822, 0.95221959, 0.95212953, 0.95233062, 0.95227967,\n",
       "        0.95232999, 0.95235982, 0.95236355, 0.95236914]),\n",
       " 'split2_train_score': array([0.93042712, 0.93097568, 0.93342188, 0.94241427, 0.94680596,\n",
       "        0.94779292, 0.94876772, 0.94870556, 0.94882997, 0.94880777,\n",
       "        0.94881308, 0.94878412, 0.94882425, 0.94874625]),\n",
       " 'split3_train_score': array([0.92573863, 0.92718704, 0.93208279, 0.94052266, 0.94439744,\n",
       "        0.94538878, 0.94598843, 0.94596975, 0.94606549, 0.94608536,\n",
       "        0.94613906, 0.94611272, 0.94615129, 0.94607488]),\n",
       " 'split4_train_score': array([0.9224819 , 0.9255225 , 0.93191318, 0.9397927 , 0.94363814,\n",
       "        0.944303  , 0.9445567 , 0.94462853, 0.94468365, 0.94471312,\n",
       "        0.94476286, 0.94475458, 0.94477121, 0.94471471]),\n",
       " 'mean_train_score': array([0.93115747, 0.93231704, 0.93513384, 0.94228986, 0.94686082,\n",
       "        0.94845073, 0.94948606, 0.94952913, 0.94968899, 0.94967839,\n",
       "        0.9496983 , 0.9497039 , 0.94972079, 0.9496622 ]),\n",
       " 'std_train_score': array([0.00674604, 0.00595939, 0.00368176, 0.00191893, 0.00258174,\n",
       "        0.00352219, 0.0041384 , 0.00421402, 0.00430744, 0.00428264,\n",
       "        0.0042491 , 0.00427999, 0.00426379, 0.00426597])}"
      ]
     },
     "execution_count": 41,
     "metadata": {},
     "output_type": "execute_result"
    }
   ],
   "source": [
    "gsv.cv_results_"
   ]
  },
  {
   "cell_type": "code",
   "execution_count": 42,
   "metadata": {},
   "outputs": [
    {
     "name": "stdout",
     "output_type": "stream",
     "text": [
      "[0.08533665718223216, 0.07964863606371586, 0.06354612686837757, 0.06035847342606504, 0.06006661715558015, 0.060012820364547914, 0.05999178671175853]\n",
      "\n",
      "\n",
      "\n",
      "[0.08374508708523853, 0.0700839115999966, 0.061501063760627916, 0.0602301498629757, 0.06001650006946502, 0.059995866149874955, 0.05995621099926529]\n"
     ]
    }
   ],
   "source": [
    "#separating the l1 and l2 values\n",
    "mean_test_score=gsv.cv_results_[\"mean_test_score\"]\n",
    "mean_test_score=1-mean_test_score\n",
    "y_l1=[]\n",
    "y_l2=[]\n",
    "for i in mean_test_score[0:14:2]:\n",
    "    y_l1.append(i)\n",
    "for i in mean_test_score[1:14:2]:\n",
    "    y_l2.append(i)\n",
    "print(y_l1)\n",
    "print(\"\\n\\n\")\n",
    "print(y_l2)"
   ]
  },
  {
   "cell_type": "code",
   "execution_count": 43,
   "metadata": {
    "scrolled": true
   },
   "outputs": [
    {
     "data": {
      "image/png": "[encoded data removed]",
      "text/plain": [
       "<Figure size 432x288 with 1 Axes>"
      ]
     },
     "metadata": {},
     "output_type": "display_data"
    }
   ],
   "source": [
    "#error plot\n",
    "x=param_grid[\"C\"]\n",
    "plt.plot(x,y_l1,\"b\",label=\"L1\")\n",
    "plt.plot(x,y_l2,\"g\",label=\"L2\")\n",
    "plt.xlabel(\"C\")\n",
    "plt.ylabel(\"error\")\n",
    "plt.title(\"error plot\")\n",
    "plt.legend()\n",
    "plt.show()"
   ]
  },
  {
   "cell_type": "markdown",
   "metadata": {},
   "source": [
    "lets apply best hyperparameter in action"
   ]
  },
  {
   "cell_type": "code",
   "execution_count": 45,
   "metadata": {},
   "outputs": [
    {
     "data": {
      "text/plain": [
       "LogisticRegression(C=100, class_weight=None, dual=False, fit_intercept=True,\n",
       "          intercept_scaling=1, max_iter=100, multi_class='ovr', n_jobs=1,\n",
       "          penalty='l2', random_state=None, solver='liblinear', tol=0.0001,\n",
       "          verbose=0, warm_start=False)"
      ]
     },
     "execution_count": 45,
     "metadata": {},
     "output_type": "execute_result"
    }
   ],
   "source": [
    "lr=LogisticRegression(C=100,penalty=\"l2\")\n",
    "lr.fit(train,y_1)"
   ]
  },
  {
   "cell_type": "code",
   "execution_count": 46,
   "metadata": {},
   "outputs": [],
   "source": [
    "pred=lr.predict(test)"
   ]
  },
  {
   "cell_type": "code",
   "execution_count": 47,
   "metadata": {},
   "outputs": [
    {
     "name": "stdout",
     "output_type": "stream",
     "text": [
      "\n",
      "the accuracy is 89.00%\n",
      "\n",
      "the recall is 96.47%\n",
      "the precision is 90.77%\n",
      "the f1 score is 93.54%\n"
     ]
    },
    {
     "data": {
      "text/plain": [
       "<matplotlib.axes._subplots.AxesSubplot at 0x1c72f806ba8>"
      ]
     },
     "execution_count": 47,
     "metadata": {},
     "output_type": "execute_result"
    },
    {
     "data": {
      "image/png": "[encoded data removed]",
      "text/plain": [
       "<Figure size 432x288 with 2 Axes>"
      ]
     },
     "metadata": {},
     "output_type": "display_data"
    }
   ],
   "source": [
    "acc=accuracy_score(y_test,pred)*100\n",
    "print(\"\\nthe accuracy is %.2f%%\"%acc)\n",
    "    \n",
    "re=recall_score(y_test,pred,) * 100\n",
    "print(\"\\nthe recall is %.2f%%\"%re)\n",
    "    \n",
    "pre=precision_score(y_test,pred) * 100\n",
    "print(\"the precision is %.2f%%\"%pre)\n",
    "    \n",
    "f1=f1_score(y_test,pred) * 100\n",
    "print(\"the f1 score is %.2f%%\"%f1)\n",
    "\n",
    "df_cm=pd.DataFrame(confusion_matrix(y_test,pred))\n",
    "sns.set(font_scale=1.4)\n",
    "sns.heatmap(df_cm,annot=True,fmt=\"d\")"
   ]
  },
  {
   "cell_type": "code",
   "execution_count": 48,
   "metadata": {},
   "outputs": [
    {
     "data": {
      "text/html": [
       "<div>\n",
       "<style scoped>\n",
       "    .dataframe tbody tr th:only-of-type {\n",
       "        vertical-align: middle;\n",
       "    }\n",
       "\n",
       "    .dataframe tbody tr th {\n",
       "        vertical-align: top;\n",
       "    }\n",
       "\n",
       "    .dataframe thead th {\n",
       "        text-align: right;\n",
       "    }\n",
       "</style>\n",
       "<table border=\"1\" class=\"dataframe\">\n",
       "  <thead>\n",
       "    <tr style=\"text-align: right;\">\n",
       "      <th></th>\n",
       "      <th>score</th>\n",
       "    </tr>\n",
       "  </thead>\n",
       "  <tbody>\n",
       "    <tr>\n",
       "      <th>accuracy</th>\n",
       "      <td>89.00%</td>\n",
       "    </tr>\n",
       "    <tr>\n",
       "      <th>recall</th>\n",
       "      <td>96.47%</td>\n",
       "    </tr>\n",
       "    <tr>\n",
       "      <th>precision</th>\n",
       "      <td>90.77%</td>\n",
       "    </tr>\n",
       "    <tr>\n",
       "      <th>f1</th>\n",
       "      <td>93.54%</td>\n",
       "    </tr>\n",
       "  </tbody>\n",
       "</table>\n",
       "</div>"
      ],
      "text/plain": [
       "            score\n",
       "accuracy   89.00%\n",
       "recall     96.47%\n",
       "precision  90.77%\n",
       "f1         93.54%"
      ]
     },
     "execution_count": 48,
     "metadata": {},
     "output_type": "execute_result"
    }
   ],
   "source": [
    "scoring_data=pd.DataFrame({\"accuracy\":\"89.00%\",\"recall\":\"96.47%\",\"precision\":\"90.77%\",\"f1\":\"93.54%\"},index=[\"score\"])\n",
    "scoring_data.T"
   ]
  },
  {
   "cell_type": "markdown",
   "metadata": {},
   "source": [
    "lets see what happens to sparsity with increase in lambda"
   ]
  },
  {
   "cell_type": "code",
   "execution_count": 49,
   "metadata": {},
   "outputs": [
    {
     "data": {
      "text/plain": [
       "99"
      ]
     },
     "execution_count": 49,
     "metadata": {},
     "output_type": "execute_result"
    }
   ],
   "source": [
    "lr=LogisticRegression(C=10,penalty=\"l1\")\n",
    "lr.fit(train,y_1)\n",
    "np.count_nonzero(lr.coef_)"
   ]
  },
  {
   "cell_type": "code",
   "execution_count": 50,
   "metadata": {},
   "outputs": [
    {
     "data": {
      "text/plain": [
       "100"
      ]
     },
     "execution_count": 50,
     "metadata": {},
     "output_type": "execute_result"
    }
   ],
   "source": [
    "lr=LogisticRegression(C=1,penalty=\"l1\")\n",
    "lr.fit(train,y_1)\n",
    "np.count_nonzero(lr.coef_)"
   ]
  },
  {
   "cell_type": "code",
   "execution_count": 51,
   "metadata": {},
   "outputs": [
    {
     "data": {
      "text/plain": [
       "97"
      ]
     },
     "execution_count": 51,
     "metadata": {},
     "output_type": "execute_result"
    }
   ],
   "source": [
    "lr=LogisticRegression(C=.1,penalty=\"l1\")\n",
    "lr.fit(train,y_1)\n",
    "np.count_nonzero(lr.coef_)"
   ]
  },
  {
   "cell_type": "code",
   "execution_count": 52,
   "metadata": {},
   "outputs": [
    {
     "data": {
      "text/plain": [
       "81"
      ]
     },
     "execution_count": 52,
     "metadata": {},
     "output_type": "execute_result"
    }
   ],
   "source": [
    "lr=LogisticRegression(C=.01,penalty=\"l1\")\n",
    "lr.fit(train,y_1)\n",
    "np.count_nonzero(lr.coef_)"
   ]
  },
  {
   "cell_type": "markdown",
   "metadata": {},
   "source": [
    "sparsity increases with increase in lambda"
   ]
  },
  {
   "cell_type": "code",
   "execution_count": 38,
   "metadata": {},
   "outputs": [
    {
     "name": "stdout",
     "output_type": "stream",
     "text": [
      "Fitting 3 folds for each of 10 candidates, totalling 30 fits\n"
     ]
    },
    {
     "name": "stderr",
     "output_type": "stream",
     "text": [
      "[Parallel(n_jobs=-1)]: Done  30 out of  30 | elapsed: 49.3min finished\n"
     ]
    },
    {
     "name": "stdout",
     "output_type": "stream",
     "text": [
      "Best HyperParameter:  {'C': 33, 'penalty': 'l1'}\n",
      "best estimator:  LogisticRegression(C=1.0, class_weight=None, dual=False, fit_intercept=True,\n",
      "          intercept_scaling=1, max_iter=100, multi_class='ovr', n_jobs=1,\n",
      "          penalty='l2', random_state=None, solver='liblinear', tol=0.0001,\n",
      "          verbose=0, warm_start=False)\n"
     ]
    }
   ],
   "source": [
    "#randomizedsearchcv\n",
    "lr = LogisticRegression()\n",
    "param_grid = {'C':randint(10**-2, 10**2),\"penalty\":[\"l1\",\"l2\"]} \n",
    "#For time based splitting\n",
    "t = TimeSeriesSplit(n_splits=3) \n",
    "    \n",
    "rsv = RandomizedSearchCV(lr,param_grid,cv=t,n_jobs=-1,verbose=1)\n",
    "rsv.fit(train,y_1)\n",
    "print(\"Best HyperParameter: \",rsv.best_params_)\n",
    "#assinging best alpha to optimal print(\"Best Accuracy: %.2f%%\"%(gsv.best_score_*100))\n",
    "print(\"best estimator: \",rsv.estimator)"
   ]
  },
  {
   "cell_type": "markdown",
   "metadata": {},
   "source": [
    "# Pertubation technique\n",
    "<br>multicollinearity check"
   ]
  },
  {
   "cell_type": "code",
   "execution_count": 38,
   "metadata": {},
   "outputs": [
    {
     "data": {
      "text/plain": [
       "LogisticRegression(C=1.0, class_weight=None, dual=False, fit_intercept=True,\n",
       "          intercept_scaling=1, max_iter=100, multi_class='ovr', n_jobs=1,\n",
       "          penalty='l2', random_state=None, solver='liblinear', tol=0.0001,\n",
       "          verbose=0, warm_start=False)"
      ]
     },
     "execution_count": 38,
     "metadata": {},
     "output_type": "execute_result"
    }
   ],
   "source": [
    "clf=LogisticRegression()\n",
    "clf.fit(train,y_1)\n"
   ]
  },
  {
   "cell_type": "code",
   "execution_count": 39,
   "metadata": {},
   "outputs": [
    {
     "name": "stdout",
     "output_type": "stream",
     "text": [
      "[-0.07323414 -0.27828451  0.27906553 -1.57250832  0.00744133 -0.3886471\n",
      "  1.18881694 -0.15708664 -2.49435854  0.56476661  0.16660721 -0.32184196\n",
      " -1.32037805 -0.68279559  1.28570245  0.50028978  1.10845098  1.63209455\n",
      "  0.33067109  1.66735704]\n"
     ]
    }
   ],
   "source": [
    "wt_test=find(clf.coef_[0])[2]\n",
    "print(wt_test[0:20])"
   ]
  },
  {
   "cell_type": "code",
   "execution_count": 40,
   "metadata": {},
   "outputs": [
    {
     "name": "stdout",
     "output_type": "stream",
     "text": [
      "[ 7.52625773e-04  8.58448417e-05 -8.90916048e-04 ...  7.79184291e-04\n",
      "  5.51188742e-05  1.84753387e-04]\n"
     ]
    }
   ],
   "source": [
    "x_1_t=train\n",
    "epsilon = np.random.uniform(low=-0.001, high=0.001, size=(find(x_1_t)[0].size,))\n",
    "i,j,v=find(x_1_t)\n",
    "print(epsilon)"
   ]
  },
  {
   "cell_type": "code",
   "execution_count": 41,
   "metadata": {},
   "outputs": [],
   "source": [
    "x_1_t[i,j] = epsilon + x_1_t[i,j]"
   ]
  },
  {
   "cell_type": "code",
   "execution_count": 42,
   "metadata": {},
   "outputs": [
    {
     "data": {
      "text/plain": [
       "LogisticRegression(C=1.0, class_weight=None, dual=False, fit_intercept=True,\n",
       "          intercept_scaling=1, max_iter=100, multi_class='ovr', n_jobs=1,\n",
       "          penalty='l2', random_state=None, solver='liblinear', tol=0.0001,\n",
       "          verbose=0, warm_start=False)"
      ]
     },
     "execution_count": 42,
     "metadata": {},
     "output_type": "execute_result"
    }
   ],
   "source": [
    "clf=LogisticRegression()\n",
    "clf.fit(x_1_t,y_1)"
   ]
  },
  {
   "cell_type": "code",
   "execution_count": 43,
   "metadata": {},
   "outputs": [
    {
     "name": "stdout",
     "output_type": "stream",
     "text": [
      "[-0.07950654 -0.27767067  0.27879303 -1.56715728  0.00895534 -0.39113137\n",
      "  1.18629003 -0.1553853  -2.48665692  0.56516244  0.16581946 -0.31727856\n",
      " -1.31674371 -0.67986191  1.27892829  0.49484372  1.10606222  1.62444072\n",
      "  0.33085647  1.6653512 ]\n"
     ]
    }
   ],
   "source": [
    "wt_test_noise=find(clf.coef_[0])[2]\n",
    "print(wt_test_noise[0:20])"
   ]
  },
  {
   "cell_type": "markdown",
   "metadata": {},
   "source": [
    "the differences are not significant ,so the features are not multicollinear ."
   ]
  },
  {
   "cell_type": "code",
   "execution_count": 39,
   "metadata": {},
   "outputs": [
    {
     "data": {
      "text/html": [
       "<div>\n",
       "<style scoped>\n",
       "    .dataframe tbody tr th:only-of-type {\n",
       "        vertical-align: middle;\n",
       "    }\n",
       "\n",
       "    .dataframe tbody tr th {\n",
       "        vertical-align: top;\n",
       "    }\n",
       "\n",
       "    .dataframe thead th {\n",
       "        text-align: right;\n",
       "    }\n",
       "</style>\n",
       "<table border=\"1\" class=\"dataframe\">\n",
       "  <thead>\n",
       "    <tr style=\"text-align: right;\">\n",
       "      <th></th>\n",
       "      <th>C</th>\n",
       "      <th>regularization</th>\n",
       "    </tr>\n",
       "  </thead>\n",
       "  <tbody>\n",
       "    <tr>\n",
       "      <th>gridsearchcv</th>\n",
       "      <td>100</td>\n",
       "      <td>L2</td>\n",
       "    </tr>\n",
       "    <tr>\n",
       "      <th>randomizedsearchcv</th>\n",
       "      <td>33</td>\n",
       "      <td>L1</td>\n",
       "    </tr>\n",
       "  </tbody>\n",
       "</table>\n",
       "</div>"
      ],
      "text/plain": [
       "                      C regularization\n",
       "gridsearchcv        100             L2\n",
       "randomizedsearchcv   33             L1"
      ]
     },
     "execution_count": 39,
     "metadata": {},
     "output_type": "execute_result"
    }
   ],
   "source": [
    "summary=pd.DataFrame({\"gridsearchcv\":[\"100\",\"L2\"],\"randomizedsearchcv\":[\"33\",\"L1\"]},index=[\"C\",\"regularization\"])\n",
    "summary.T"
   ]
  },
  {
   "cell_type": "markdown",
   "metadata": {},
   "source": [
    "# Tfidf word2vec"
   ]
  },
  {
   "cell_type": "code",
   "execution_count": 30,
   "metadata": {},
   "outputs": [],
   "source": [
    "#splitting the data\n",
    "x_1, x_test, y_1, y_test = train_test_split(list_s, d.Score, test_size=0.3, random_state=0,shuffle=False)\n",
    "\n"
   ]
  },
  {
   "cell_type": "code",
   "execution_count": 35,
   "metadata": {},
   "outputs": [],
   "source": [
    "def tf(l):\n",
    "    \n",
    "    tf=tfidf.fit_transform(d.Text.values)\n",
    "    tfidfsv = []\n",
    "    row=0;\n",
    "    for s in l: \n",
    "        sum = np.zeros(100) \n",
    "        i=0; \n",
    "        for word in s: \n",
    "            try:\n",
    "                vec = w2v_model.wv[word]\n",
    "                tf_idf = tf[row, tfidf_feat.index(word)]\n",
    "                sum += (vec * tf_idf)\n",
    "                i += tf_idf\n",
    "            except:\n",
    "                pass\n",
    "        sum /= i\n",
    "        tfidfsv.append(sum)\n",
    "        row += 1\n",
    "    return np.matrix(tfidfsv)"
   ]
  },
  {
   "cell_type": "code",
   "execution_count": 36,
   "metadata": {},
   "outputs": [
    {
     "name": "stderr",
     "output_type": "stream",
     "text": [
      "C:\\Users\\himateja\\Anaconda3\\lib\\site-packages\\ipykernel_launcher.py:17: RuntimeWarning: invalid value encountered in true_divide\n"
     ]
    }
   ],
   "source": [
    "x_1=tf(x_1)\n",
    "x_test=tf(x_test)"
   ]
  },
  {
   "cell_type": "code",
   "execution_count": 37,
   "metadata": {},
   "outputs": [
    {
     "data": {
      "text/plain": [
       "(254919, 100)"
      ]
     },
     "execution_count": 37,
     "metadata": {},
     "output_type": "execute_result"
    }
   ],
   "source": [
    "x_1.shape"
   ]
  },
  {
   "cell_type": "code",
   "execution_count": 38,
   "metadata": {},
   "outputs": [
    {
     "data": {
      "text/plain": [
       "(109252, 100)"
      ]
     },
     "execution_count": 38,
     "metadata": {},
     "output_type": "execute_result"
    }
   ],
   "source": [
    "x_test.shape"
   ]
  },
  {
   "cell_type": "code",
   "execution_count": 39,
   "metadata": {},
   "outputs": [],
   "source": [
    "# changing 'NaN' to numeric value\n",
    "train=np.nan_to_num(x_1)\n",
    "test=np.nan_to_num(x_test)"
   ]
  },
  {
   "cell_type": "code",
   "execution_count": 40,
   "metadata": {},
   "outputs": [
    {
     "name": "stdout",
     "output_type": "stream",
     "text": [
      "Fitting 5 folds for each of 16 candidates, totalling 80 fits\n"
     ]
    },
    {
     "name": "stderr",
     "output_type": "stream",
     "text": [
      "[Parallel(n_jobs=-1)]: Done  34 tasks      | elapsed:   26.3s\n",
      "[Parallel(n_jobs=-1)]: Done  80 out of  80 | elapsed:   52.8s finished\n"
     ]
    },
    {
     "name": "stdout",
     "output_type": "stream",
     "text": [
      "Best HyperParameter:  {'C': 0.0001, 'penalty': 'l1'}\n",
      "best estimator:  LogisticRegression(C=1.0, class_weight=None, dual=False, fit_intercept=True,\n",
      "          intercept_scaling=1, max_iter=100, multi_class='ovr', n_jobs=1,\n",
      "          penalty='l2', random_state=None, solver='liblinear', tol=0.0001,\n",
      "          verbose=0, warm_start=False)\n"
     ]
    }
   ],
   "source": [
    "#gridsearchcv\n",
    "lr = LogisticRegression()\n",
    "param_grid = {'C':[0.0001,0.001,0.01,0.1,1,10,100,1000],\"penalty\":[\"l1\",\"l2\"]} \n",
    "#For time based splitting\n",
    "t = TimeSeriesSplit(n_splits=5) \n",
    "    \n",
    "gsv = GridSearchCV(lr,param_grid,cv=t,n_jobs=-1,verbose=1,scoring=\"f1\")\n",
    "gsv.fit(train,y_1)\n",
    "print(\"Best HyperParameter: \",gsv.best_params_)\n",
    "#assinging best alpha to optimal print(\"Best Accuracy: %.2f%%\"%(gsv.best_score_*100))\n",
    "print(\"best estimator: \",gsv.estimator)\n",
    "    "
   ]
  },
  {
   "cell_type": "code",
   "execution_count": 41,
   "metadata": {},
   "outputs": [
    {
     "data": {
      "text/plain": [
       "91.47550073824719"
      ]
     },
     "execution_count": 41,
     "metadata": {},
     "output_type": "execute_result"
    }
   ],
   "source": [
    "gsv.best_score_*100"
   ]
  },
  {
   "cell_type": "code",
   "execution_count": 42,
   "metadata": {},
   "outputs": [
    {
     "name": "stderr",
     "output_type": "stream",
     "text": [
      "C:\\Users\\himateja\\Anaconda3\\lib\\site-packages\\sklearn\\utils\\deprecation.py:122: FutureWarning: You are accessing a training score ('split0_train_score'), which will not be available by default any more in 0.21. If you need training scores, please set return_train_score=True\n",
      "  warnings.warn(*warn_args, **warn_kwargs)\n",
      "C:\\Users\\himateja\\Anaconda3\\lib\\site-packages\\sklearn\\utils\\deprecation.py:122: FutureWarning: You are accessing a training score ('split1_train_score'), which will not be available by default any more in 0.21. If you need training scores, please set return_train_score=True\n",
      "  warnings.warn(*warn_args, **warn_kwargs)\n",
      "C:\\Users\\himateja\\Anaconda3\\lib\\site-packages\\sklearn\\utils\\deprecation.py:122: FutureWarning: You are accessing a training score ('split2_train_score'), which will not be available by default any more in 0.21. If you need training scores, please set return_train_score=True\n",
      "  warnings.warn(*warn_args, **warn_kwargs)\n",
      "C:\\Users\\himateja\\Anaconda3\\lib\\site-packages\\sklearn\\utils\\deprecation.py:122: FutureWarning: You are accessing a training score ('split3_train_score'), which will not be available by default any more in 0.21. If you need training scores, please set return_train_score=True\n",
      "  warnings.warn(*warn_args, **warn_kwargs)\n",
      "C:\\Users\\himateja\\Anaconda3\\lib\\site-packages\\sklearn\\utils\\deprecation.py:122: FutureWarning: You are accessing a training score ('split4_train_score'), which will not be available by default any more in 0.21. If you need training scores, please set return_train_score=True\n",
      "  warnings.warn(*warn_args, **warn_kwargs)\n",
      "C:\\Users\\himateja\\Anaconda3\\lib\\site-packages\\sklearn\\utils\\deprecation.py:122: FutureWarning: You are accessing a training score ('mean_train_score'), which will not be available by default any more in 0.21. If you need training scores, please set return_train_score=True\n",
      "  warnings.warn(*warn_args, **warn_kwargs)\n",
      "C:\\Users\\himateja\\Anaconda3\\lib\\site-packages\\sklearn\\utils\\deprecation.py:122: FutureWarning: You are accessing a training score ('std_train_score'), which will not be available by default any more in 0.21. If you need training scores, please set return_train_score=True\n",
      "  warnings.warn(*warn_args, **warn_kwargs)\n"
     ]
    },
    {
     "data": {
      "text/plain": [
       "{'mean_fit_time': array([0.23102555, 0.33412066, 0.18644729, 0.20176568, 0.19043493,\n",
       "        0.21051254, 0.1932735 , 0.20255175, 0.19133444, 0.2062726 ,\n",
       "        0.18819561, 0.19797201, 0.18400493, 0.20909319, 0.18830342,\n",
       "        0.1896594 ]),\n",
       " 'std_fit_time': array([0.12718135, 0.19146447, 0.07781272, 0.08411555, 0.08490833,\n",
       "        0.09446302, 0.08384402, 0.08524125, 0.07560241, 0.08653175,\n",
       "        0.07144923, 0.08030059, 0.07924798, 0.09758957, 0.07998598,\n",
       "        0.07636206]),\n",
       " 'mean_score_time': array([0.1133173 , 0.0536324 , 0.02323842, 0.02717619, 0.02344394,\n",
       "        0.01939096, 0.01982226, 0.02125454, 0.01792336, 0.02138157,\n",
       "        0.02029338, 0.02436676, 0.02497997, 0.02200618, 0.01485105,\n",
       "        0.0224093 ]),\n",
       " 'std_score_time': array([0.04531472, 0.04308841, 0.00697962, 0.00606385, 0.00727868,\n",
       "        0.00598147, 0.00587935, 0.00692319, 0.00407862, 0.00858828,\n",
       "        0.00623336, 0.00845137, 0.00729369, 0.00817818, 0.00153968,\n",
       "        0.00745146]),\n",
       " 'param_C': masked_array(data=[0.0001, 0.0001, 0.001, 0.001, 0.01, 0.01, 0.1, 0.1, 1,\n",
       "                    1, 10, 10, 100, 100, 1000, 1000],\n",
       "              mask=[False, False, False, False, False, False, False, False,\n",
       "                    False, False, False, False, False, False, False, False],\n",
       "        fill_value='?',\n",
       "             dtype=object),\n",
       " 'param_penalty': masked_array(data=['l1', 'l2', 'l1', 'l2', 'l1', 'l2', 'l1', 'l2', 'l1',\n",
       "                    'l2', 'l1', 'l2', 'l1', 'l2', 'l1', 'l2'],\n",
       "              mask=[False, False, False, False, False, False, False, False,\n",
       "                    False, False, False, False, False, False, False, False],\n",
       "        fill_value='?',\n",
       "             dtype=object),\n",
       " 'params': [{'C': 0.0001, 'penalty': 'l1'},\n",
       "  {'C': 0.0001, 'penalty': 'l2'},\n",
       "  {'C': 0.001, 'penalty': 'l1'},\n",
       "  {'C': 0.001, 'penalty': 'l2'},\n",
       "  {'C': 0.01, 'penalty': 'l1'},\n",
       "  {'C': 0.01, 'penalty': 'l2'},\n",
       "  {'C': 0.1, 'penalty': 'l1'},\n",
       "  {'C': 0.1, 'penalty': 'l2'},\n",
       "  {'C': 1, 'penalty': 'l1'},\n",
       "  {'C': 1, 'penalty': 'l2'},\n",
       "  {'C': 10, 'penalty': 'l1'},\n",
       "  {'C': 10, 'penalty': 'l2'},\n",
       "  {'C': 100, 'penalty': 'l1'},\n",
       "  {'C': 100, 'penalty': 'l2'},\n",
       "  {'C': 1000, 'penalty': 'l1'},\n",
       "  {'C': 1000, 'penalty': 'l2'}],\n",
       " 'split0_test_score': array([0.93038947, 0.93038947, 0.93038947, 0.93038947, 0.93038947,\n",
       "        0.93038947, 0.93038947, 0.93038947, 0.93038947, 0.93038947,\n",
       "        0.93038947, 0.93038947, 0.93038947, 0.93038947, 0.93038947,\n",
       "        0.93038947]),\n",
       " 'split1_test_score': array([0.91895881, 0.91895881, 0.91895881, 0.91895881, 0.91895881,\n",
       "        0.91895881, 0.91895881, 0.91895881, 0.91895881, 0.91895881,\n",
       "        0.91895881, 0.91895881, 0.91895881, 0.91895881, 0.91895881,\n",
       "        0.91895881]),\n",
       " 'split2_test_score': array([0.91142484, 0.91142484, 0.91142484, 0.91142484, 0.91142484,\n",
       "        0.91142484, 0.91142484, 0.91142484, 0.91142484, 0.91142484,\n",
       "        0.91142484, 0.91142484, 0.91142484, 0.91142484, 0.91142484,\n",
       "        0.91142484]),\n",
       " 'split3_test_score': array([0.90923095, 0.90923095, 0.90923095, 0.90923095, 0.90923095,\n",
       "        0.90923095, 0.90923095, 0.90923095, 0.90923095, 0.90923095,\n",
       "        0.90923095, 0.90923095, 0.90923095, 0.90923095, 0.90923095,\n",
       "        0.90923095]),\n",
       " 'split4_test_score': array([0.90377098, 0.90377098, 0.90377098, 0.90377098, 0.90377098,\n",
       "        0.90377098, 0.90377098, 0.90377098, 0.90377098, 0.90377098,\n",
       "        0.90377098, 0.90377098, 0.90377098, 0.90377098, 0.90377098,\n",
       "        0.90377098]),\n",
       " 'mean_test_score': array([0.91475501, 0.91475501, 0.91475501, 0.91475501, 0.91475501,\n",
       "        0.91475501, 0.91475501, 0.91475501, 0.91475501, 0.91475501,\n",
       "        0.91475501, 0.91475501, 0.91475501, 0.91475501, 0.91475501,\n",
       "        0.91475501]),\n",
       " 'std_test_score': array([0.00921263, 0.00921263, 0.00921263, 0.00921263, 0.00921263,\n",
       "        0.00921263, 0.00921263, 0.00921263, 0.00921263, 0.00921263,\n",
       "        0.00921263, 0.00921263, 0.00921263, 0.00921263, 0.00921263,\n",
       "        0.00921263]),\n",
       " 'rank_test_score': array([1, 1, 1, 1, 1, 1, 1, 1, 1, 1, 1, 1, 1, 1, 1, 1]),\n",
       " 'split0_train_score': array([0.94170392, 0.94170392, 0.94170392, 0.94170392, 0.94170392,\n",
       "        0.94170392, 0.94170392, 0.94170392, 0.94170392, 0.94170392,\n",
       "        0.94170392, 0.94170392, 0.94170392, 0.94170392, 0.94170392,\n",
       "        0.94170392]),\n",
       " 'split1_train_score': array([0.93607698, 0.93607698, 0.93607698, 0.93607698, 0.93607698,\n",
       "        0.93607698, 0.93607698, 0.93607698, 0.93607698, 0.93607698,\n",
       "        0.93607698, 0.93607698, 0.93607698, 0.93607698, 0.93607698,\n",
       "        0.93607698]),\n",
       " 'split2_train_score': array([0.93043161, 0.93043161, 0.93043161, 0.93043161, 0.93043161,\n",
       "        0.93043161, 0.93043161, 0.93043161, 0.93043161, 0.93043161,\n",
       "        0.93043161, 0.93043161, 0.93043161, 0.93043161, 0.93043161,\n",
       "        0.93043161]),\n",
       " 'split3_train_score': array([0.9257425, 0.9257425, 0.9257425, 0.9257425, 0.9257425, 0.9257425,\n",
       "        0.9257425, 0.9257425, 0.9257425, 0.9257425, 0.9257425, 0.9257425,\n",
       "        0.9257425, 0.9257425, 0.9257425, 0.9257425]),\n",
       " 'split4_train_score': array([0.92248034, 0.92248034, 0.92248034, 0.92248034, 0.92248034,\n",
       "        0.92248034, 0.92248034, 0.92248034, 0.92248034, 0.92248034,\n",
       "        0.92248034, 0.92248034, 0.92248034, 0.92248034, 0.92248034,\n",
       "        0.92248034]),\n",
       " 'mean_train_score': array([0.93128707, 0.93128707, 0.93128707, 0.93128707, 0.93128707,\n",
       "        0.93128707, 0.93128707, 0.93128707, 0.93128707, 0.93128707,\n",
       "        0.93128707, 0.93128707, 0.93128707, 0.93128707, 0.93128707,\n",
       "        0.93128707]),\n",
       " 'std_train_score': array([0.00693522, 0.00693522, 0.00693522, 0.00693522, 0.00693522,\n",
       "        0.00693522, 0.00693522, 0.00693522, 0.00693522, 0.00693522,\n",
       "        0.00693522, 0.00693522, 0.00693522, 0.00693522, 0.00693522,\n",
       "        0.00693522])}"
      ]
     },
     "execution_count": 42,
     "metadata": {},
     "output_type": "execute_result"
    }
   ],
   "source": [
    "gsv.cv_results_"
   ]
  },
  {
   "cell_type": "code",
   "execution_count": 43,
   "metadata": {},
   "outputs": [
    {
     "name": "stdout",
     "output_type": "stream",
     "text": [
      "[0.08524499261752805, 0.08524499261752805, 0.08524499261752805, 0.08524499261752805, 0.08524499261752805, 0.08524499261752805, 0.08524499261752805, 0.08524499261752805]\n",
      "\n",
      "\n",
      "\n",
      "[0.08524499261752805, 0.08524499261752805, 0.08524499261752805, 0.08524499261752805, 0.08524499261752805, 0.08524499261752805, 0.08524499261752805, 0.08524499261752805]\n"
     ]
    }
   ],
   "source": [
    "#separating regulerisation values\n",
    "mean_test_score=gsv.cv_results_[\"mean_test_score\"]\n",
    "mean_test_score=1-mean_test_score\n",
    "y_l1=[]\n",
    "y_l2=[]\n",
    "for i in mean_test_score[0:16:2]:\n",
    "    y_l1.append(i)\n",
    "for i in mean_test_score[1:16:2]:\n",
    "    y_l2.append(i)\n",
    "print(y_l1)\n",
    "print(\"\\n\\n\")\n",
    "print(y_l2)"
   ]
  },
  {
   "cell_type": "code",
   "execution_count": 44,
   "metadata": {},
   "outputs": [
    {
     "data": {
      "image/png": "[encoded data removed]",
      "text/plain": [
       "<Figure size 432x288 with 1 Axes>"
      ]
     },
     "metadata": {},
     "output_type": "display_data"
    }
   ],
   "source": [
    "#error plot\n",
    "x=param_grid[\"C\"]\n",
    "plt.plot(x,y_l1,\"b\",label=\"L1\")\n",
    "plt.plot(x,y_l2,\"g\",label=\"L2\")\n",
    "plt.xlabel(\"C\")\n",
    "plt.ylabel(\"error\")\n",
    "plt.title(\"error plot\")\n",
    "plt.legend()\n",
    "plt.show()"
   ]
  },
  {
   "cell_type": "markdown",
   "metadata": {},
   "source": [
    "lets use the optimal value of c and see how it performs"
   ]
  },
  {
   "cell_type": "code",
   "execution_count": 45,
   "metadata": {},
   "outputs": [
    {
     "data": {
      "text/plain": [
       "LogisticRegression(C=0.0001, class_weight=None, dual=False,\n",
       "          fit_intercept=True, intercept_scaling=1, max_iter=100,\n",
       "          multi_class='ovr', n_jobs=1, penalty='l1', random_state=None,\n",
       "          solver='liblinear', tol=0.0001, verbose=0, warm_start=False)"
      ]
     },
     "execution_count": 45,
     "metadata": {},
     "output_type": "execute_result"
    }
   ],
   "source": [
    "lr=LogisticRegression(C=0.0001,penalty=\"l1\")\n",
    "lr.fit(train,y_1)"
   ]
  },
  {
   "cell_type": "code",
   "execution_count": 46,
   "metadata": {},
   "outputs": [],
   "source": [
    "pred=lr.predict(test)"
   ]
  },
  {
   "cell_type": "code",
   "execution_count": 47,
   "metadata": {},
   "outputs": [
    {
     "name": "stdout",
     "output_type": "stream",
     "text": [
      "\n",
      "the accuracy is 82.53%\n",
      "\n",
      "the recall is 100.00%\n",
      "the precision is 82.53%\n",
      "the f1 score is 90.43%\n"
     ]
    },
    {
     "data": {
      "text/plain": [
       "<matplotlib.axes._subplots.AxesSubplot at 0x1f915d86b38>"
      ]
     },
     "execution_count": 47,
     "metadata": {},
     "output_type": "execute_result"
    },
    {
     "data": {
      "image/png": "[encoded data removed]",
      "text/plain": [
       "<Figure size 432x288 with 2 Axes>"
      ]
     },
     "metadata": {},
     "output_type": "display_data"
    }
   ],
   "source": [
    "acc=accuracy_score(y_test,pred)*100\n",
    "print(\"\\nthe accuracy is %.2f%%\"%acc)\n",
    "    \n",
    "re=recall_score(y_test,pred,) * 100\n",
    "print(\"\\nthe recall is %.2f%%\"%re)\n",
    "    \n",
    "pre=precision_score(y_test,pred) * 100\n",
    "print(\"the precision is %.2f%%\"%pre)\n",
    "    \n",
    "f1=f1_score(y_test,pred) * 100\n",
    "print(\"the f1 score is %.2f%%\"%f1)\n",
    "\n",
    "df_cm=pd.DataFrame(confusion_matrix(y_test,pred))\n",
    "sns.set(font_scale=1.4)\n",
    "sns.heatmap(df_cm,annot=True,fmt=\"d\")"
   ]
  },
  {
   "cell_type": "code",
   "execution_count": 41,
   "metadata": {},
   "outputs": [
    {
     "data": {
      "text/html": [
       "<div>\n",
       "<style scoped>\n",
       "    .dataframe tbody tr th:only-of-type {\n",
       "        vertical-align: middle;\n",
       "    }\n",
       "\n",
       "    .dataframe tbody tr th {\n",
       "        vertical-align: top;\n",
       "    }\n",
       "\n",
       "    .dataframe thead th {\n",
       "        text-align: right;\n",
       "    }\n",
       "</style>\n",
       "<table border=\"1\" class=\"dataframe\">\n",
       "  <thead>\n",
       "    <tr style=\"text-align: right;\">\n",
       "      <th></th>\n",
       "      <th>score</th>\n",
       "    </tr>\n",
       "  </thead>\n",
       "  <tbody>\n",
       "    <tr>\n",
       "      <th>accuracy</th>\n",
       "      <td>82.53%</td>\n",
       "    </tr>\n",
       "    <tr>\n",
       "      <th>recall</th>\n",
       "      <td>100%</td>\n",
       "    </tr>\n",
       "    <tr>\n",
       "      <th>precision</th>\n",
       "      <td>82.53%</td>\n",
       "    </tr>\n",
       "    <tr>\n",
       "      <th>f1</th>\n",
       "      <td>90.43%</td>\n",
       "    </tr>\n",
       "  </tbody>\n",
       "</table>\n",
       "</div>"
      ],
      "text/plain": [
       "            score\n",
       "accuracy   82.53%\n",
       "recall       100%\n",
       "precision  82.53%\n",
       "f1         90.43%"
      ]
     },
     "execution_count": 41,
     "metadata": {},
     "output_type": "execute_result"
    }
   ],
   "source": [
    "scoring_data=pd.DataFrame({\"accuracy\":\"82.53%\",\"recall\":\"100%\",\"precision\":\"82.53%\",\"f1\":\"90.43%\"},index=[\"score\"])\n",
    "scoring_data.T"
   ]
  },
  {
   "cell_type": "markdown",
   "metadata": {},
   "source": [
    "lets check whats happening to sparsity with increase in lambda"
   ]
  },
  {
   "cell_type": "code",
   "execution_count": 49,
   "metadata": {},
   "outputs": [
    {
     "data": {
      "text/plain": [
       "0"
      ]
     },
     "execution_count": 49,
     "metadata": {},
     "output_type": "execute_result"
    }
   ],
   "source": [
    "lr=LogisticRegression(C=10,penalty=\"l1\")\n",
    "lr.fit(train,y_1)\n",
    "np.count_nonzero(lr.coef_)"
   ]
  },
  {
   "cell_type": "code",
   "execution_count": 50,
   "metadata": {},
   "outputs": [
    {
     "data": {
      "text/plain": [
       "0"
      ]
     },
     "execution_count": 50,
     "metadata": {},
     "output_type": "execute_result"
    }
   ],
   "source": [
    "lr=LogisticRegression(C=1,penalty=\"l1\")\n",
    "lr.fit(train,y_1)\n",
    "np.count_nonzero(lr.coef_)"
   ]
  },
  {
   "cell_type": "code",
   "execution_count": 51,
   "metadata": {},
   "outputs": [
    {
     "data": {
      "text/plain": [
       "0"
      ]
     },
     "execution_count": 51,
     "metadata": {},
     "output_type": "execute_result"
    }
   ],
   "source": [
    "lr=LogisticRegression(C=.1,penalty=\"l1\")\n",
    "lr.fit(train,y_1)\n",
    "np.count_nonzero(lr.coef_)"
   ]
  },
  {
   "cell_type": "code",
   "execution_count": 52,
   "metadata": {},
   "outputs": [
    {
     "data": {
      "text/plain": [
       "0"
      ]
     },
     "execution_count": 52,
     "metadata": {},
     "output_type": "execute_result"
    }
   ],
   "source": [
    "lr=LogisticRegression(C=.01,penalty=\"l1\")\n",
    "lr.fit(train,y_1)\n",
    "np.count_nonzero(lr.coef_)"
   ]
  },
  {
   "cell_type": "markdown",
   "metadata": {},
   "source": [
    "there is no weight in vectors this is the reason it is behaving as dumb model and it is not useful to do pertubation test as there is no weight."
   ]
  },
  {
   "cell_type": "markdown",
   "metadata": {},
   "source": [
    "Randomizedsearchcv"
   ]
  },
  {
   "cell_type": "code",
   "execution_count": 54,
   "metadata": {},
   "outputs": [
    {
     "name": "stdout",
     "output_type": "stream",
     "text": [
      "Fitting 5 folds for each of 10 candidates, totalling 50 fits\n"
     ]
    },
    {
     "name": "stderr",
     "output_type": "stream",
     "text": [
      "[Parallel(n_jobs=-1)]: Done  34 tasks      | elapsed:   24.2s\n",
      "[Parallel(n_jobs=-1)]: Done  50 out of  50 | elapsed:   33.2s finished\n"
     ]
    },
    {
     "name": "stdout",
     "output_type": "stream",
     "text": [
      "Best HyperParameter:  {'C': 95, 'penalty': 'l1'}\n",
      "best estimator:  LogisticRegression(C=1.0, class_weight=None, dual=False, fit_intercept=True,\n",
      "          intercept_scaling=1, max_iter=100, multi_class='ovr', n_jobs=1,\n",
      "          penalty='l2', random_state=None, solver='liblinear', tol=0.0001,\n",
      "          verbose=0, warm_start=False)\n"
     ]
    }
   ],
   "source": [
    "#randomizedsearchcv\n",
    "lr = LogisticRegression()\n",
    "param_grid = {'C':randint(10**-2, 10**2),\"penalty\":[\"l1\",\"l2\"]} \n",
    "#For time based splitting\n",
    "t = TimeSeriesSplit(n_splits=5) \n",
    "    \n",
    "rsv = RandomizedSearchCV(lr,param_grid,cv=t,n_jobs=-1,verbose=1)\n",
    "rsv.fit(train,y_1)\n",
    "print(\"Best HyperParameter: \",rsv.best_params_)\n",
    "#assinging best alpha to optimal print(\"Best Accuracy: %.2f%%\"%(gsv.best_score_*100))\n",
    "print(\"best estimator: \",rsv.estimator)"
   ]
  },
  {
   "cell_type": "code",
   "execution_count": 40,
   "metadata": {},
   "outputs": [
    {
     "data": {
      "text/html": [
       "<div>\n",
       "<style scoped>\n",
       "    .dataframe tbody tr th:only-of-type {\n",
       "        vertical-align: middle;\n",
       "    }\n",
       "\n",
       "    .dataframe tbody tr th {\n",
       "        vertical-align: top;\n",
       "    }\n",
       "\n",
       "    .dataframe thead th {\n",
       "        text-align: right;\n",
       "    }\n",
       "</style>\n",
       "<table border=\"1\" class=\"dataframe\">\n",
       "  <thead>\n",
       "    <tr style=\"text-align: right;\">\n",
       "      <th></th>\n",
       "      <th>C</th>\n",
       "      <th>regularization</th>\n",
       "    </tr>\n",
       "  </thead>\n",
       "  <tbody>\n",
       "    <tr>\n",
       "      <th>gridsearchcv</th>\n",
       "      <td>0.0001</td>\n",
       "      <td>L2</td>\n",
       "    </tr>\n",
       "    <tr>\n",
       "      <th>randomizedsearchcv</th>\n",
       "      <td>95</td>\n",
       "      <td>L1</td>\n",
       "    </tr>\n",
       "  </tbody>\n",
       "</table>\n",
       "</div>"
      ],
      "text/plain": [
       "                         C regularization\n",
       "gridsearchcv        0.0001             L2\n",
       "randomizedsearchcv      95             L1"
      ]
     },
     "execution_count": 40,
     "metadata": {},
     "output_type": "execute_result"
    }
   ],
   "source": [
    "summary=pd.DataFrame({\"gridsearchcv\":[\"0.0001\",\"L2\"],\"randomizedsearchcv\":[\"95\",\"L1\"]},index=[\"C\",\"regularization\"])\n",
    "summary.T"
   ]
  },
  {
   "cell_type": "markdown",
   "metadata": {},
   "source": [
    "This model is dumb . it has very poor performance."
   ]
  },
  {
   "cell_type": "markdown",
   "metadata": {},
   "source": [
    "# conclusion:\n",
    "   <br>1.The sparcity increases with increase in lambda.\n",
    "   <br>2.L1 is very useful when the features are not multicollinear."
   ]
  },
  {
   "cell_type": "code",
   "execution_count": null,
   "metadata": {},
   "outputs": [],
   "source": []
  }
 ],
 "metadata": {
  "kernelspec": {
   "display_name": "Python 3",
   "language": "python",
   "name": "python3"
  },
  "language_info": {
   "codemirror_mode": {
    "name": "ipython",
    "version": 3
   },
   "file_extension": ".py",
   "mimetype": "text/x-python",
   "name": "python",
   "nbconvert_exporter": "python",
   "pygments_lexer": "ipython3",
   "version": "3.6.5"
  }
 },
 "nbformat": 4,
 "nbformat_minor": 2
}
